{
 "cells": [
  {
   "cell_type": "markdown",
   "id": "6ad06c6f",
   "metadata": {},
   "source": [
    "# 파이썬 데이터 모델"
   ]
  },
  {
   "cell_type": "markdown",
   "id": "a6eea86c",
   "metadata": {},
   "source": [
    "## 파이썬 카드 한 벌 "
   ]
  },
  {
   "cell_type": "code",
   "execution_count": 8,
   "id": "a233d59b",
   "metadata": {
    "ExecuteTime": {
     "end_time": "2021-11-12T22:48:40.895574Z",
     "start_time": "2021-11-12T22:48:40.879003Z"
    }
   },
   "outputs": [],
   "source": [
    "import collections\n",
    "\n",
    "Card = collections.namedtuple('Card', ['rank', 'suit'])\n",
    "\n",
    "\n",
    "class FrenchDeck:\n",
    "    ranks = [str(n) for n in range(2, 11)] + list('JQKA')\n",
    "    suits = 'spades diamonds clubs hearts'.split()\n",
    "\n",
    "    def __init__(self):\n",
    "        self._cards = [Card(rank, suit)\n",
    "                       for suit in self.suits for rank in self.ranks]\n",
    "\n",
    "    def __len__(self):\n",
    "        return len(self._cards)\n",
    "\n",
    "    def __getitem__(self, position):\n",
    "        return self._cards[position]"
   ]
  },
  {
   "cell_type": "code",
   "execution_count": 9,
   "id": "239ac122",
   "metadata": {
    "ExecuteTime": {
     "end_time": "2021-11-12T22:48:41.096964Z",
     "start_time": "2021-11-12T22:48:41.087552Z"
    }
   },
   "outputs": [],
   "source": [
    "beer_card = Card('7', 'diamonds')"
   ]
  },
  {
   "cell_type": "code",
   "execution_count": 10,
   "id": "b5d80970",
   "metadata": {
    "ExecuteTime": {
     "end_time": "2021-11-12T22:48:41.283545Z",
     "start_time": "2021-11-12T22:48:41.281545Z"
    }
   },
   "outputs": [
    {
     "data": {
      "text/plain": [
       "Card(rank='7', suit='diamonds')"
      ]
     },
     "execution_count": 10,
     "metadata": {},
     "output_type": "execute_result"
    }
   ],
   "source": [
    "beer_card"
   ]
  },
  {
   "cell_type": "code",
   "execution_count": 11,
   "id": "eab4118f",
   "metadata": {
    "ExecuteTime": {
     "end_time": "2021-11-12T22:48:41.502945Z",
     "start_time": "2021-11-12T22:48:41.495943Z"
    }
   },
   "outputs": [
    {
     "data": {
      "text/plain": [
       "52"
      ]
     },
     "execution_count": 11,
     "metadata": {},
     "output_type": "execute_result"
    }
   ],
   "source": [
    "deck = FrenchDeck()\n",
    "len(deck)"
   ]
  },
  {
   "cell_type": "code",
   "execution_count": 12,
   "id": "d24153a8",
   "metadata": {
    "ExecuteTime": {
     "end_time": "2021-11-12T22:48:41.672401Z",
     "start_time": "2021-11-12T22:48:41.666802Z"
    }
   },
   "outputs": [
    {
     "data": {
      "text/plain": [
       "Card(rank='2', suit='spades')"
      ]
     },
     "execution_count": 12,
     "metadata": {},
     "output_type": "execute_result"
    }
   ],
   "source": [
    "deck[0]"
   ]
  },
  {
   "cell_type": "code",
   "execution_count": 13,
   "id": "3d0139a5",
   "metadata": {
    "ExecuteTime": {
     "end_time": "2021-11-12T22:48:42.235936Z",
     "start_time": "2021-11-12T22:48:42.231934Z"
    }
   },
   "outputs": [
    {
     "data": {
      "text/plain": [
       "Card(rank='A', suit='hearts')"
      ]
     },
     "execution_count": 13,
     "metadata": {},
     "output_type": "execute_result"
    }
   ],
   "source": [
    "deck[-1]"
   ]
  },
  {
   "cell_type": "code",
   "execution_count": 14,
   "id": "9032af13",
   "metadata": {
    "ExecuteTime": {
     "end_time": "2021-11-12T22:50:43.328598Z",
     "start_time": "2021-11-12T22:50:43.313595Z"
    }
   },
   "outputs": [],
   "source": [
    "from random import choice"
   ]
  },
  {
   "cell_type": "code",
   "execution_count": 15,
   "id": "784dc447",
   "metadata": {
    "ExecuteTime": {
     "end_time": "2021-11-12T22:50:48.332445Z",
     "start_time": "2021-11-12T22:50:48.316441Z"
    }
   },
   "outputs": [
    {
     "data": {
      "text/plain": [
       "Card(rank='9', suit='hearts')"
      ]
     },
     "execution_count": 15,
     "metadata": {},
     "output_type": "execute_result"
    }
   ],
   "source": [
    "choice(deck)"
   ]
  },
  {
   "cell_type": "code",
   "execution_count": 16,
   "id": "d9b63229",
   "metadata": {
    "ExecuteTime": {
     "end_time": "2021-11-12T22:51:03.543675Z",
     "start_time": "2021-11-12T22:51:03.529672Z"
    }
   },
   "outputs": [
    {
     "data": {
      "text/plain": [
       "Card(rank='3', suit='clubs')"
      ]
     },
     "execution_count": 16,
     "metadata": {},
     "output_type": "execute_result"
    }
   ],
   "source": [
    "choice(deck)"
   ]
  },
  {
   "cell_type": "code",
   "execution_count": 17,
   "id": "63d65d2f",
   "metadata": {
    "ExecuteTime": {
     "end_time": "2021-11-12T22:51:10.309353Z",
     "start_time": "2021-11-12T22:51:10.292348Z"
    }
   },
   "outputs": [
    {
     "data": {
      "text/plain": [
       "Card(rank='J', suit='hearts')"
      ]
     },
     "execution_count": 17,
     "metadata": {},
     "output_type": "execute_result"
    }
   ],
   "source": [
    "choice(deck)"
   ]
  },
  {
   "cell_type": "markdown",
   "id": "528c0d17",
   "metadata": {},
   "source": [
    "__getitem__() 메서드는 self._cards의 [] 연산자에 작업을 위임 --> deck 객체는 슬라이싱도 자동 지원"
   ]
  },
  {
   "cell_type": "code",
   "execution_count": 18,
   "id": "c1f94db6",
   "metadata": {
    "ExecuteTime": {
     "end_time": "2021-11-12T22:52:02.528551Z",
     "start_time": "2021-11-12T22:52:02.514547Z"
    }
   },
   "outputs": [
    {
     "data": {
      "text/plain": [
       "[Card(rank='2', suit='spades'),\n",
       " Card(rank='3', suit='spades'),\n",
       " Card(rank='4', suit='spades')]"
      ]
     },
     "execution_count": 18,
     "metadata": {},
     "output_type": "execute_result"
    }
   ],
   "source": [
    "deck[:3]"
   ]
  },
  {
   "cell_type": "code",
   "execution_count": 19,
   "id": "20f517b0",
   "metadata": {
    "ExecuteTime": {
     "end_time": "2021-11-12T22:52:06.670547Z",
     "start_time": "2021-11-12T22:52:06.666546Z"
    }
   },
   "outputs": [
    {
     "data": {
      "text/plain": [
       "[Card(rank='A', suit='spades'),\n",
       " Card(rank='A', suit='diamonds'),\n",
       " Card(rank='A', suit='clubs'),\n",
       " Card(rank='A', suit='hearts')]"
      ]
     },
     "execution_count": 19,
     "metadata": {},
     "output_type": "execute_result"
    }
   ],
   "source": [
    "deck[12::13]"
   ]
  },
  {
   "cell_type": "markdown",
   "id": "a86f620b",
   "metadata": {},
   "source": [
    "__getitem__() 구현 -> deck 반복 가능"
   ]
  },
  {
   "cell_type": "code",
   "execution_count": null,
   "id": "55f685dc",
   "metadata": {},
   "outputs": [],
   "source": []
  },
  {
   "cell_type": "markdown",
   "id": "21b5bef7",
   "metadata": {},
   "source": [
    "## 특별메서드"
   ]
  },
  {
   "cell_type": "markdown",
   "id": "bbe850ed",
   "metadata": {},
   "source": [
    "\n",
    "- 특별 메서드 : 파이썬 인터프리터가 호출하기 위한 것\n",
    "- my_object.__len__() == len(my_object)"
   ]
  },
  {
   "cell_type": "code",
   "execution_count": 22,
   "id": "c402a4fe",
   "metadata": {
    "ExecuteTime": {
     "end_time": "2021-11-12T23:10:31.871407Z",
     "start_time": "2021-11-12T23:10:31.865406Z"
    }
   },
   "outputs": [],
   "source": [
    "from math import hypot\n",
    "\n",
    "\n",
    "class Vector:\n",
    "\n",
    "    def __init__(self, x=0, y=0):\n",
    "        self.x = x\n",
    "        self.y = y\n",
    "\n",
    "    def __repr__(self):\n",
    "\n",
    "        return f'Vector(%r, %r)'%(self.x, self.y)\n",
    "\n",
    "    def __abs__(self):\n",
    "\n",
    "        return hypot(self.x, self.y)\n",
    "\n",
    "    def __bool__(self):\n",
    "        return bool(abs(self))\n",
    "\n",
    "    def __add__(self, other):\n",
    "        x = self.x + other.x\n",
    "        y = self.y + other.y\n",
    "        return Vector(x, y)\n",
    "\n",
    "    def __mul__(self, scalar):\n",
    "\n",
    "        return Vector(self.x*scalar, self.y*scalar)"
   ]
  },
  {
   "cell_type": "markdown",
   "id": "d18764e2",
   "metadata": {},
   "source": [
    "- __repr__() : 객체를 문자열로 표현하기 위해 repr() 내장 메서드에 의해 호출. 반환한 문자열은 명확해야 하며, 가능하면 표현된 객체를 재생성하는데 필요한 소스 코드와 일치해야함\n",
    "    \n",
    "- __repr__() vs __str__() : __repr__()을 사용하는 것이 더 좋음\n",
    "\n",
    "- __str__() : 생성자에 의해 호출, print() 함수에 의해 함묵적으로 사용. 사용자에게 보여주기 적당한 형태의 문자열을 반환"
   ]
  },
  {
   "cell_type": "code",
   "execution_count": null,
   "id": "89eb2655",
   "metadata": {},
   "outputs": [],
   "source": []
  }
 ],
 "metadata": {
  "kernelspec": {
   "display_name": "cv",
   "language": "python",
   "name": "cv"
  },
  "language_info": {
   "codemirror_mode": {
    "name": "ipython",
    "version": 3
   },
   "file_extension": ".py",
   "mimetype": "text/x-python",
   "name": "python",
   "nbconvert_exporter": "python",
   "pygments_lexer": "ipython3",
   "version": "3.9.7"
  },
  "toc": {
   "base_numbering": 1,
   "nav_menu": {},
   "number_sections": true,
   "sideBar": true,
   "skip_h1_title": false,
   "title_cell": "Table of Contents",
   "title_sidebar": "Contents",
   "toc_cell": false,
   "toc_position": {},
   "toc_section_display": true,
   "toc_window_display": true
  }
 },
 "nbformat": 4,
 "nbformat_minor": 5
}
