{
 "cells": [
  {
   "cell_type": "markdown",
   "id": "81aefaaa",
   "metadata": {},
   "source": [
    "# 일반적인 매핑형"
   ]
  },
  {
   "cell_type": "code",
   "execution_count": 1,
   "id": "f598be01",
   "metadata": {
    "ExecuteTime": {
     "end_time": "2021-11-14T12:08:37.572093Z",
     "start_time": "2021-11-14T12:08:37.554088Z"
    }
   },
   "outputs": [
    {
     "data": {
      "text/plain": [
       "True"
      ]
     },
     "execution_count": 1,
     "metadata": {},
     "output_type": "execute_result"
    }
   ],
   "source": [
    "my_dict = {}\n",
    "import collections\n",
    "isinstance(my_dict, collections.abc.Mapping)"
   ]
  },
  {
   "cell_type": "markdown",
   "id": "66d3abbf",
   "metadata": {},
   "source": [
    "* 표준 라이브러리에서 제공하는 매핑형은 모두 dict를 이용해서 구현하므로, 키가 해시 가능해야 한다는 제한을 가지고 있음\n",
    "\n",
    "**해시 가능하다는 말의 의미**\n",
    "- hashable : 수명 주기 동안 결코 변하지 않는 해시값을 가지고 있고(__hash__())\n",
    "- 다른 객체와 비교할 수 있으면(__eq__())\n",
    "- 객체를 해시 가능하다고 함\n",
    "\n",
    "- '파이썬이 제공하고 있는 불변 내장 객체는 모두 해시 가능하다'고 설명하지만 이 설명은 정확하지 않음. 튜플은 불변형이긴 하지만, 해시 불가능한 객체를 참조할 수 있기 때문"
   ]
  },
  {
   "cell_type": "code",
   "execution_count": 2,
   "id": "2cea9109",
   "metadata": {
    "ExecuteTime": {
     "end_time": "2021-11-14T12:10:53.762745Z",
     "start_time": "2021-11-14T12:10:53.750742Z"
    }
   },
   "outputs": [
    {
     "data": {
      "text/plain": [
       "-3907003130834322577"
      ]
     },
     "execution_count": 2,
     "metadata": {},
     "output_type": "execute_result"
    }
   ],
   "source": [
    "tt = (1, 2, (30, 40))\n",
    "hash(tt)"
   ]
  },
  {
   "cell_type": "code",
   "execution_count": 3,
   "id": "7bc61ea2",
   "metadata": {
    "ExecuteTime": {
     "end_time": "2021-11-14T12:11:04.969948Z",
     "start_time": "2021-11-14T12:11:04.832916Z"
    }
   },
   "outputs": [
    {
     "ename": "TypeError",
     "evalue": "unhashable type: 'list'",
     "output_type": "error",
     "traceback": [
      "\u001b[1;31m---------------------------------------------------------------------------\u001b[0m",
      "\u001b[1;31mTypeError\u001b[0m                                 Traceback (most recent call last)",
      "\u001b[1;32mC:\\Users\\SEUNGH~1\\AppData\\Local\\Temp/ipykernel_9668/1611803737.py\u001b[0m in \u001b[0;36m<module>\u001b[1;34m\u001b[0m\n\u001b[0;32m      1\u001b[0m \u001b[0mtl\u001b[0m \u001b[1;33m=\u001b[0m \u001b[1;33m(\u001b[0m\u001b[1;36m1\u001b[0m\u001b[1;33m,\u001b[0m \u001b[1;36m2\u001b[0m\u001b[1;33m,\u001b[0m \u001b[1;33m[\u001b[0m\u001b[1;36m30\u001b[0m\u001b[1;33m,\u001b[0m \u001b[1;36m40\u001b[0m\u001b[1;33m]\u001b[0m\u001b[1;33m)\u001b[0m\u001b[1;33m\u001b[0m\u001b[1;33m\u001b[0m\u001b[0m\n\u001b[1;32m----> 2\u001b[1;33m \u001b[0mhash\u001b[0m\u001b[1;33m(\u001b[0m\u001b[0mtl\u001b[0m\u001b[1;33m)\u001b[0m\u001b[1;33m\u001b[0m\u001b[1;33m\u001b[0m\u001b[0m\n\u001b[0m",
      "\u001b[1;31mTypeError\u001b[0m: unhashable type: 'list'"
     ]
    }
   ],
   "source": [
    "tl = (1, 2, [30, 40])\n",
    "hash(tl)"
   ]
  },
  {
   "cell_type": "code",
   "execution_count": 4,
   "id": "fc5a9b41",
   "metadata": {
    "ExecuteTime": {
     "end_time": "2021-11-14T12:11:30.402557Z",
     "start_time": "2021-11-14T12:11:30.384553Z"
    }
   },
   "outputs": [
    {
     "data": {
      "text/plain": [
       "5149391500123939311"
      ]
     },
     "execution_count": 4,
     "metadata": {},
     "output_type": "execute_result"
    }
   ],
   "source": [
    "tf = (1, 2, frozenset([30, 40]))\n",
    "hash(tf)"
   ]
  },
  {
   "cell_type": "code",
   "execution_count": null,
   "id": "b74fed0f",
   "metadata": {},
   "outputs": [],
   "source": []
  },
  {
   "cell_type": "code",
   "execution_count": 6,
   "id": "fdfd487f",
   "metadata": {
    "ExecuteTime": {
     "end_time": "2021-11-14T12:16:55.712448Z",
     "start_time": "2021-11-14T12:16:55.700445Z"
    }
   },
   "outputs": [
    {
     "data": {
      "text/plain": [
       "True"
      ]
     },
     "execution_count": 6,
     "metadata": {},
     "output_type": "execute_result"
    }
   ],
   "source": [
    "# 딕셔너리 만들기\n",
    "\n",
    "a = dict(one=1, two=2, three=3)\n",
    "b = {'one':1, 'two':2, 'three':3}\n",
    "c = dict(zip(['one', 'two', 'three'], [1, 2, 3]))\n",
    "d = dict([('two', 2), ('one', 1), ('three', 3)])\n",
    "a == b == c == d"
   ]
  },
  {
   "cell_type": "code",
   "execution_count": null,
   "id": "797a3dcf",
   "metadata": {},
   "outputs": [],
   "source": []
  },
  {
   "cell_type": "markdown",
   "id": "844da204",
   "metadata": {},
   "source": [
    "# 지능형 딕셔너리"
   ]
  },
  {
   "cell_type": "markdown",
   "id": "513bdedc",
   "metadata": {},
   "source": [
    "지능형 딕셔너리(dictcomp)는 모든 반복형 객체에서 키-값 쌍을 생성 -> 딕셔너리 객체를 만듦"
   ]
  },
  {
   "cell_type": "code",
   "execution_count": 10,
   "id": "e92dbafb",
   "metadata": {
    "ExecuteTime": {
     "end_time": "2021-11-14T12:19:44.968282Z",
     "start_time": "2021-11-14T12:19:44.956278Z"
    }
   },
   "outputs": [
    {
     "data": {
      "text/plain": [
       "{'China': 86, 'India': 91, 'US': 1, 'Indonesia': 62, 'Brazil': 55}"
      ]
     },
     "execution_count": 10,
     "metadata": {},
     "output_type": "execute_result"
    }
   ],
   "source": [
    "DIAL_CODES = [\n",
    "    (86, 'China'),\n",
    "    (91, 'India'),\n",
    "    (1, 'US'),\n",
    "    (62, 'Indonesia'),\n",
    "    (55, 'Brazil')\n",
    "]\n",
    "country_code = {country: code for code, country in DIAL_CODES}\n",
    "country_code"
   ]
  },
  {
   "cell_type": "code",
   "execution_count": 11,
   "id": "266e0b56",
   "metadata": {
    "ExecuteTime": {
     "end_time": "2021-11-14T12:20:18.597512Z",
     "start_time": "2021-11-14T12:20:18.583509Z"
    }
   },
   "outputs": [
    {
     "data": {
      "text/plain": [
       "{1: 'US', 62: 'INDONESIA', 55: 'BRAZIL'}"
      ]
     },
     "execution_count": 11,
     "metadata": {},
     "output_type": "execute_result"
    }
   ],
   "source": [
    "{code: country.upper() for country, code in contry_code.items() if code < 66}"
   ]
  },
  {
   "cell_type": "code",
   "execution_count": null,
   "id": "9a23d588",
   "metadata": {},
   "outputs": [],
   "source": []
  },
  {
   "cell_type": "markdown",
   "id": "6f040c84",
   "metadata": {},
   "source": [
    "# 공통적인 매핑 메서드"
   ]
  },
  {
   "cell_type": "markdown",
   "id": "e68e271a",
   "metadata": {},
   "source": [
    "- 조기 실패(fail-fast) 철학 -> 존재하지 않는 키 k로 d[k]를 접근하면 dict는 오류 발생\n",
    "- KeyError 처리 << 기본값 처리 : d[k]대신 d.get(k, default)를 사용"
   ]
  },
  {
   "cell_type": "markdown",
   "id": "707bac39",
   "metadata": {},
   "source": [
    "# 융통성 있게 키를 조회하는 매핑"
   ]
  },
  {
   "cell_type": "code",
   "execution_count": null,
   "id": "da8eb825",
   "metadata": {},
   "outputs": [],
   "source": []
  },
  {
   "cell_type": "code",
   "execution_count": null,
   "id": "5c1fe3c8",
   "metadata": {},
   "outputs": [],
   "source": []
  },
  {
   "cell_type": "code",
   "execution_count": null,
   "id": "a2e6dc35",
   "metadata": {},
   "outputs": [],
   "source": []
  },
  {
   "cell_type": "code",
   "execution_count": null,
   "id": "8594903f",
   "metadata": {},
   "outputs": [],
   "source": []
  },
  {
   "cell_type": "code",
   "execution_count": null,
   "id": "ff752dc8",
   "metadata": {},
   "outputs": [],
   "source": []
  },
  {
   "cell_type": "code",
   "execution_count": null,
   "id": "21f4ffea",
   "metadata": {},
   "outputs": [],
   "source": []
  },
  {
   "cell_type": "code",
   "execution_count": null,
   "id": "6a566010",
   "metadata": {},
   "outputs": [],
   "source": []
  },
  {
   "cell_type": "code",
   "execution_count": null,
   "id": "dfd05e6c",
   "metadata": {},
   "outputs": [],
   "source": []
  },
  {
   "cell_type": "code",
   "execution_count": null,
   "id": "89ff02e1",
   "metadata": {},
   "outputs": [],
   "source": []
  }
 ],
 "metadata": {
  "kernelspec": {
   "display_name": "cv",
   "language": "python",
   "name": "cv"
  },
  "language_info": {
   "codemirror_mode": {
    "name": "ipython",
    "version": 3
   },
   "file_extension": ".py",
   "mimetype": "text/x-python",
   "name": "python",
   "nbconvert_exporter": "python",
   "pygments_lexer": "ipython3",
   "version": "3.9.7"
  },
  "toc": {
   "base_numbering": 1,
   "nav_menu": {},
   "number_sections": true,
   "sideBar": true,
   "skip_h1_title": false,
   "title_cell": "Table of Contents",
   "title_sidebar": "Contents",
   "toc_cell": false,
   "toc_position": {},
   "toc_section_display": true,
   "toc_window_display": true
  }
 },
 "nbformat": 4,
 "nbformat_minor": 5
}
