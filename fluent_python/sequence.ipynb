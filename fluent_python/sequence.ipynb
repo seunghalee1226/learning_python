{
 "cells": [
  {
   "cell_type": "markdown",
   "id": "c11ab688",
   "metadata": {},
   "source": [
    "# 내장 시퀀스 개요"
   ]
  },
  {
   "cell_type": "markdown",
   "id": "0cf98c1a",
   "metadata": {},
   "source": [
    "**자료형**\n",
    "1. 컨테이너 시퀀스 : 서로 다른 자료형의 항목들을 담을 수 있음. list, tuple, collections, deque\n",
    "- 객체에 대한 참조를 담고 있음\n",
    "\n",
    "2. 균일 시퀀스 : 단 하나의 자료형만 담을 수 있음. str, bytes, bytearray, memoryview, array.array\n",
    "- 객체에 대한 참조 대신 자신의 메모리 공간에 각 항목의 값을 직점 담음\n",
    "- 균일 시퀀스가 메모리를 더 작게 사용\n",
    "\n",
    "**가변성**\n",
    "1. 가변 시퀀스 : list, byearray, array.array, collections.deque, memoryview\n",
    "2. 불변 시퀀스 : tuple, str, bytes"
   ]
  },
  {
   "cell_type": "markdown",
   "id": "0c55eb6e",
   "metadata": {},
   "source": [
    "# 지능형 리스트와 제너레이터 표현식"
   ]
  },
  {
   "cell_type": "markdown",
   "id": "0b7862d0",
   "metadata": {},
   "source": [
    "1. 지능형 리스트 : 리스트형의 경우\n",
    "- 지능형 리스트는 더 이상 메모리를 누수하지 않는다\n",
    "- 항목을 필터링 및 변환함으로써 시퀀스나 기타 반복 가능한 자료형으로부터 리스트를 만듦\n",
    "2. 제너레이터 표현식 : 그 외 시퀀스"
   ]
  },
  {
   "cell_type": "code",
   "execution_count": 1,
   "id": "03bb9c14",
   "metadata": {
    "ExecuteTime": {
     "end_time": "2021-11-13T05:03:16.401890Z",
     "start_time": "2021-11-13T05:03:16.275070Z"
    }
   },
   "outputs": [
    {
     "ename": "NameError",
     "evalue": "name 'symbols' is not defined",
     "output_type": "error",
     "traceback": [
      "\u001b[1;31m---------------------------------------------------------------------------\u001b[0m",
      "\u001b[1;31mNameError\u001b[0m                                 Traceback (most recent call last)",
      "\u001b[1;32mC:\\Users\\SEUNGH~1\\AppData\\Local\\Temp/ipykernel_10800/4015651014.py\u001b[0m in \u001b[0;36m<module>\u001b[1;34m\u001b[0m\n\u001b[1;32m----> 1\u001b[1;33m \u001b[0masci\u001b[0m \u001b[1;33m=\u001b[0m \u001b[1;33m[\u001b[0m\u001b[0mord\u001b[0m\u001b[1;33m(\u001b[0m\u001b[0ms\u001b[0m\u001b[1;33m)\u001b[0m \u001b[1;32mfor\u001b[0m \u001b[0ms\u001b[0m \u001b[1;32min\u001b[0m \u001b[0msymbols\u001b[0m \u001b[1;32mif\u001b[0m \u001b[0mord\u001b[0m\u001b[1;33m(\u001b[0m\u001b[0ms\u001b[0m\u001b[1;33m)\u001b[0m \u001b[1;33m>\u001b[0m \u001b[1;36m127\u001b[0m\u001b[1;33m]\u001b[0m\u001b[1;33m\u001b[0m\u001b[1;33m\u001b[0m\u001b[0m\n\u001b[0m\u001b[0;32m      2\u001b[0m \u001b[1;33m\u001b[0m\u001b[0m\n\u001b[0;32m      3\u001b[0m \u001b[0masci\u001b[0m \u001b[1;33m=\u001b[0m \u001b[0mlist\u001b[0m\u001b[1;33m(\u001b[0m\u001b[0mfilter\u001b[0m\u001b[1;33m(\u001b[0m\u001b[1;32mlambda\u001b[0m \u001b[0mc\u001b[0m\u001b[1;33m:\u001b[0m \u001b[0mc\u001b[0m\u001b[1;33m>\u001b[0m\u001b[1;36m127\u001b[0m\u001b[1;33m,\u001b[0m \u001b[0mmap\u001b[0m\u001b[1;33m(\u001b[0m\u001b[0mord\u001b[0m\u001b[1;33m,\u001b[0m \u001b[0msymbols\u001b[0m\u001b[1;33m)\u001b[0m\u001b[1;33m)\u001b[0m\u001b[1;33m)\u001b[0m\u001b[1;33m\u001b[0m\u001b[1;33m\u001b[0m\u001b[0m\n",
      "\u001b[1;31mNameError\u001b[0m: name 'symbols' is not defined"
     ]
    }
   ],
   "source": [
    "asci = [ord(s) for s in symbols if ord(s) > 127]\n",
    "\n",
    "asci = list(filter(lambda c: c>127, map(ord, symbols)))"
   ]
  },
  {
   "cell_type": "code",
   "execution_count": 2,
   "id": "613b2310",
   "metadata": {
    "ExecuteTime": {
     "end_time": "2021-11-13T05:03:20.715888Z",
     "start_time": "2021-11-13T05:03:20.699880Z"
    }
   },
   "outputs": [],
   "source": [
    "colors = ['black', 'white']\n",
    "sizes = ['S', 'M', 'L']\n"
   ]
  },
  {
   "cell_type": "code",
   "execution_count": 3,
   "id": "8b037170",
   "metadata": {
    "ExecuteTime": {
     "end_time": "2021-11-13T05:03:21.226079Z",
     "start_time": "2021-11-13T05:03:21.213073Z"
    }
   },
   "outputs": [
    {
     "data": {
      "text/plain": [
       "[('black', 'S'),\n",
       " ('black', 'M'),\n",
       " ('black', 'L'),\n",
       " ('white', 'S'),\n",
       " ('white', 'M'),\n",
       " ('white', 'L')]"
      ]
     },
     "execution_count": 3,
     "metadata": {},
     "output_type": "execute_result"
    }
   ],
   "source": [
    "# color 다음에 size를 배치해서 만든 튜플 리스트\n",
    "tshirts = [(color, size) for color in colors for size in sizes]\n",
    "tshirts"
   ]
  },
  {
   "cell_type": "code",
   "execution_count": 4,
   "id": "d8f41f91",
   "metadata": {
    "ExecuteTime": {
     "end_time": "2021-11-13T05:03:21.257062Z",
     "start_time": "2021-11-13T05:03:21.244059Z"
    }
   },
   "outputs": [
    {
     "name": "stdout",
     "output_type": "stream",
     "text": [
      "('black', 'S')\n",
      "('black', 'M')\n",
      "('black', 'L')\n",
      "('white', 'S')\n",
      "('white', 'M')\n",
      "('white', 'L')\n"
     ]
    }
   ],
   "source": [
    "# color를 반복하는 루프 안에서 sizes를 반복해서 튜플 리스트 출력\n",
    "for color in colors:\n",
    "    for size in sizes:\n",
    "        print((color, size))"
   ]
  },
  {
   "cell_type": "code",
   "execution_count": 5,
   "id": "faa059ec",
   "metadata": {
    "ExecuteTime": {
     "end_time": "2021-11-13T05:03:21.288398Z",
     "start_time": "2021-11-13T05:03:21.274395Z"
    }
   },
   "outputs": [
    {
     "data": {
      "text/plain": [
       "[('black', 'S'),\n",
       " ('white', 'S'),\n",
       " ('black', 'M'),\n",
       " ('white', 'M'),\n",
       " ('black', 'L'),\n",
       " ('white', 'L')]"
      ]
     },
     "execution_count": 5,
     "metadata": {},
     "output_type": "execute_result"
    }
   ],
   "source": [
    "# 먼저 size를 반복하고 그 안에 color로 반복하려면 for 순서만 바꾸면 됨\n",
    "# 지능형 리스트 안에서 줄을 바꾸면 생성될 리스트가 어떻게 정렬될지 알아보기 더 쉬움\n",
    "tshirts = [(color, size) for size in sizes for color in colors]\n",
    "tshirts"
   ]
  },
  {
   "cell_type": "markdown",
   "id": "70c3fcd7",
   "metadata": {},
   "source": [
    "튜플, 배열 등의 시퀀스형을 초기화하려면 지능형 리스트를 사용할 수 있지만 다른 생성자에 전달할 리스트를 통째로 만들지 않고 반복자 프로토콜(iterator protocol)을 이용해서 항목 하나씩 생성하는 제너레이터 표현식은 메모리를 더 적게 사용"
   ]
  },
  {
   "cell_type": "code",
   "execution_count": 6,
   "id": "774a65d7",
   "metadata": {
    "ExecuteTime": {
     "end_time": "2021-11-13T05:03:21.352421Z",
     "start_time": "2021-11-13T05:03:21.338713Z"
    }
   },
   "outputs": [],
   "source": [
    "colors = ['black', 'white']\n",
    "sizes = ['S', 'M', 'L']"
   ]
  },
  {
   "cell_type": "code",
   "execution_count": 7,
   "id": "47b2f90c",
   "metadata": {
    "ExecuteTime": {
     "end_time": "2021-11-13T05:03:21.382433Z",
     "start_time": "2021-11-13T05:03:21.369426Z"
    }
   },
   "outputs": [
    {
     "name": "stdout",
     "output_type": "stream",
     "text": [
      "black S\n",
      "black M\n",
      "black L\n",
      "white S\n",
      "white M\n",
      "white L\n"
     ]
    }
   ],
   "source": [
    "for tshirt in ('%s %s'% (c, s) for c in colors for s in sizes):\n",
    "    print(tshirt)"
   ]
  },
  {
   "cell_type": "markdown",
   "id": "68955ea2",
   "metadata": {},
   "source": [
    "# 튜플은 단순한 불편 리스트가 아니다"
   ]
  },
  {
   "cell_type": "markdown",
   "id": "6709c27a",
   "metadata": {},
   "source": [
    "- 튜플은 레코드를 담고 있음\n",
    "- 튜플의 각 항목은 레코드의 필드 하나를 의미, 항목의 위치가 의미를 결정\n",
    "- 튜플 -> 불변 리스트 : 튜플은 경우에 따라 항목의 크기와 순서가 중요할 수도 있고 그렇지 않을 수도 있음\n",
    "- 튜플 -> 필드의 집합 : 항목수가 고정, 순서가 중요"
   ]
  },
  {
   "cell_type": "code",
   "execution_count": 8,
   "id": "5738c0a0",
   "metadata": {
    "ExecuteTime": {
     "end_time": "2021-11-13T05:03:21.476060Z",
     "start_time": "2021-11-13T05:03:21.463057Z"
    }
   },
   "outputs": [
    {
     "name": "stdout",
     "output_type": "stream",
     "text": [
      "BRA/CE342567\n",
      "ESP/XDA205856\n",
      "USA/31195855\n"
     ]
    }
   ],
   "source": [
    "# 레코드로 사용된 튜플\n",
    "lax_coordinates = (33.9425, -118.408056)\n",
    "city, year, pop, chg, area = ('Tokyo', 2003, 32450, 0.66, 8014)\n",
    "traveler_ids = [('USA', '31195855'), ('BRA', 'CE342567'), ('ESP', 'XDA205856')]\n",
    "for passport in sorted(traveler_ids): # 튜플을 정렬하면 정보 파괴됨\n",
    "    print('%s/%s' %passport)"
   ]
  },
  {
   "cell_type": "code",
   "execution_count": 9,
   "id": "08e2d344",
   "metadata": {
    "ExecuteTime": {
     "end_time": "2021-11-13T05:03:21.523890Z",
     "start_time": "2021-11-13T05:03:21.509880Z"
    }
   },
   "outputs": [
    {
     "name": "stdout",
     "output_type": "stream",
     "text": [
      "USA\n",
      "BRA\n",
      "ESP\n"
     ]
    }
   ],
   "source": [
    "for country, _ in traveler_ids: # 언패킹. _ : 더미변수\n",
    "    print(country)"
   ]
  },
  {
   "cell_type": "code",
   "execution_count": 10,
   "id": "d08b23fc",
   "metadata": {
    "ExecuteTime": {
     "end_time": "2021-11-13T05:03:21.553890Z",
     "start_time": "2021-11-13T05:03:21.540888Z"
    }
   },
   "outputs": [
    {
     "data": {
      "text/plain": [
       "(0, 1, [2, 3, 4])"
      ]
     },
     "execution_count": 10,
     "metadata": {},
     "output_type": "execute_result"
    }
   ],
   "source": [
    "a, b, *rest = range(5)\n",
    "a, b, rest"
   ]
  },
  {
   "cell_type": "code",
   "execution_count": 11,
   "id": "bc532ccf",
   "metadata": {
    "ExecuteTime": {
     "end_time": "2021-11-13T05:03:21.584904Z",
     "start_time": "2021-11-13T05:03:21.570902Z"
    }
   },
   "outputs": [
    {
     "data": {
      "text/plain": [
       "(0, 1, [])"
      ]
     },
     "execution_count": 11,
     "metadata": {},
     "output_type": "execute_result"
    }
   ],
   "source": [
    "a, b, *rest = range(2)\n",
    "a, b, rest"
   ]
  },
  {
   "cell_type": "code",
   "execution_count": 12,
   "id": "15f6bace",
   "metadata": {
    "ExecuteTime": {
     "end_time": "2021-11-13T05:03:21.615884Z",
     "start_time": "2021-11-13T05:03:21.601881Z"
    }
   },
   "outputs": [
    {
     "data": {
      "text/plain": [
       "([0, 1, 2, 3], 4, 5, 6)"
      ]
     },
     "execution_count": 12,
     "metadata": {},
     "output_type": "execute_result"
    }
   ],
   "source": [
    "*head, b, c, d = range(7)\n",
    "head, b, c, d"
   ]
  },
  {
   "cell_type": "markdown",
   "id": "ba6bffe4",
   "metadata": {},
   "source": [
    "collections.namedtupe() : 필드명과 클래스명을 추가한 튜플의 서브클래스 생성하는 팩토리 함수"
   ]
  },
  {
   "cell_type": "code",
   "execution_count": 14,
   "id": "4ab2e937",
   "metadata": {
    "ExecuteTime": {
     "end_time": "2021-11-13T05:37:02.720272Z",
     "start_time": "2021-11-13T05:37:02.715271Z"
    }
   },
   "outputs": [
    {
     "data": {
      "text/plain": [
       "City(name='Tokyo', country='JP', population=36.933, coordinates=(35.689722, 139.691667))"
      ]
     },
     "execution_count": 14,
     "metadata": {},
     "output_type": "execute_result"
    }
   ],
   "source": [
    "from collections import namedtuple\n",
    "City = namedtuple('City', 'name country population coordinates')\n",
    "tokyo = City('Tokyo', 'JP', 36.933, (35.689722, 139.691667))\n",
    "tokyo"
   ]
  },
  {
   "cell_type": "code",
   "execution_count": 15,
   "id": "58e4c205",
   "metadata": {
    "ExecuteTime": {
     "end_time": "2021-11-13T05:40:06.279208Z",
     "start_time": "2021-11-13T05:40:06.261204Z"
    }
   },
   "outputs": [
    {
     "data": {
      "text/plain": [
       "36.933"
      ]
     },
     "execution_count": 15,
     "metadata": {},
     "output_type": "execute_result"
    }
   ],
   "source": [
    "tokyo.population"
   ]
  },
  {
   "cell_type": "code",
   "execution_count": 16,
   "id": "cd772ae6",
   "metadata": {
    "ExecuteTime": {
     "end_time": "2021-11-13T05:40:12.459139Z",
     "start_time": "2021-11-13T05:40:12.442135Z"
    }
   },
   "outputs": [
    {
     "data": {
      "text/plain": [
       "(35.689722, 139.691667)"
      ]
     },
     "execution_count": 16,
     "metadata": {},
     "output_type": "execute_result"
    }
   ],
   "source": [
    "tokyo.coordinates"
   ]
  },
  {
   "cell_type": "code",
   "execution_count": 17,
   "id": "c1bab064",
   "metadata": {
    "ExecuteTime": {
     "end_time": "2021-11-13T05:40:30.800693Z",
     "start_time": "2021-11-13T05:40:30.783691Z"
    }
   },
   "outputs": [
    {
     "data": {
      "text/plain": [
       "('name', 'country', 'population', 'coordinates')"
      ]
     },
     "execution_count": 17,
     "metadata": {},
     "output_type": "execute_result"
    }
   ],
   "source": [
    "City._fields # 필드명을 담고 있는 튜플"
   ]
  },
  {
   "cell_type": "code",
   "execution_count": 18,
   "id": "a62a030e",
   "metadata": {
    "ExecuteTime": {
     "end_time": "2021-11-13T05:41:13.869449Z",
     "start_time": "2021-11-13T05:41:13.852445Z"
    }
   },
   "outputs": [],
   "source": [
    "LatLong = namedtuple('LatLong', 'lat long')"
   ]
  },
  {
   "cell_type": "code",
   "execution_count": 19,
   "id": "cad37d51",
   "metadata": {
    "ExecuteTime": {
     "end_time": "2021-11-13T05:41:40.921144Z",
     "start_time": "2021-11-13T05:41:40.904140Z"
    }
   },
   "outputs": [],
   "source": [
    "delhi_data = ('Delhi NCR', 'IN', 21.935, LatLong(28.6, 77.2))"
   ]
  },
  {
   "cell_type": "code",
   "execution_count": 20,
   "id": "d66f17f7",
   "metadata": {
    "ExecuteTime": {
     "end_time": "2021-11-13T05:41:58.774016Z",
     "start_time": "2021-11-13T05:41:58.762014Z"
    }
   },
   "outputs": [],
   "source": [
    "delhi = City._make(delhi_data) # 반복형 객체로부터 명명된 튜플을 만듦. "
   ]
  },
  {
   "cell_type": "code",
   "execution_count": 21,
   "id": "29004e06",
   "metadata": {
    "ExecuteTime": {
     "end_time": "2021-11-13T05:42:06.698829Z",
     "start_time": "2021-11-13T05:42:06.692829Z"
    }
   },
   "outputs": [
    {
     "data": {
      "text/plain": [
       "{'name': 'Delhi NCR',\n",
       " 'country': 'IN',\n",
       " 'population': 21.935,\n",
       " 'coordinates': LatLong(lat=28.6, long=77.2)}"
      ]
     },
     "execution_count": 21,
     "metadata": {},
     "output_type": "execute_result"
    }
   ],
   "source": [
    "delhi._asdict() # collections.OrderedDict 객체 반환"
   ]
  },
  {
   "cell_type": "code",
   "execution_count": 22,
   "id": "412d80f9",
   "metadata": {
    "ExecuteTime": {
     "end_time": "2021-11-13T05:42:49.981365Z",
     "start_time": "2021-11-13T05:42:49.966362Z"
    }
   },
   "outputs": [
    {
     "name": "stdout",
     "output_type": "stream",
     "text": [
      "name: Delhi NCR\n",
      "country: IN\n",
      "population: 21.935\n",
      "coordinates: LatLong(lat=28.6, long=77.2)\n"
     ]
    }
   ],
   "source": [
    "for k, v in delhi._asdict().items():\n",
    "    print(k + \":\" , v)"
   ]
  },
  {
   "cell_type": "markdown",
   "id": "5d107bcc",
   "metadata": {},
   "source": [
    "# 슬라이싱"
   ]
  },
  {
   "cell_type": "markdown",
   "id": "1de899d7",
   "metadata": {},
   "source": [
    "슬라이스와 범위 지정시에 마지막 항목이 포함되지 않는 이유\n",
    "- range(3)나 my_list[:3]처럼 중단점만 이용해서 슬라이스나 범위 지정할 때 길이 계산이 쉬움\n",
    "- 시작점이나 중단점을 모두 지정할 때도 길이 계산을 하기 쉬움\n",
    "- x 인덱스를 기준으로 겹침 없이 시퀀스를 분할하기 쉬움.\n",
    "ex. my_list[:x], my_list[x:]"
   ]
  },
  {
   "cell_type": "code",
   "execution_count": 23,
   "id": "c61184e0",
   "metadata": {
    "ExecuteTime": {
     "end_time": "2021-11-13T05:54:22.020237Z",
     "start_time": "2021-11-13T05:54:22.004233Z"
    }
   },
   "outputs": [
    {
     "data": {
      "text/plain": [
       "'bye'"
      ]
     },
     "execution_count": 23,
     "metadata": {},
     "output_type": "execute_result"
    }
   ],
   "source": [
    "s = 'bicycle'\n",
    "s[::3]"
   ]
  },
  {
   "cell_type": "code",
   "execution_count": 24,
   "id": "b4753bdd",
   "metadata": {
    "ExecuteTime": {
     "end_time": "2021-11-13T05:54:41.021372Z",
     "start_time": "2021-11-13T05:54:41.014370Z"
    }
   },
   "outputs": [
    {
     "data": {
      "text/plain": [
       "'elcycib'"
      ]
     },
     "execution_count": 24,
     "metadata": {},
     "output_type": "execute_result"
    }
   ],
   "source": [
    "s[::-1]"
   ]
  },
  {
   "cell_type": "code",
   "execution_count": 25,
   "id": "dfe0ea01",
   "metadata": {
    "ExecuteTime": {
     "end_time": "2021-11-13T05:54:45.605716Z",
     "start_time": "2021-11-13T05:54:45.597715Z"
    }
   },
   "outputs": [
    {
     "data": {
      "text/plain": [
       "'eccb'"
      ]
     },
     "execution_count": 25,
     "metadata": {},
     "output_type": "execute_result"
    }
   ],
   "source": [
    "s[::-2]"
   ]
  },
  {
   "cell_type": "markdown",
   "id": "b8ad8836",
   "metadata": {},
   "source": [
    "# 시퀀스의 복합 할당"
   ]
  },
  {
   "cell_type": "code",
   "execution_count": 30,
   "id": "0b68bec5",
   "metadata": {
    "ExecuteTime": {
     "end_time": "2021-11-13T06:04:18.199779Z",
     "start_time": "2021-11-13T06:04:18.186776Z"
    }
   },
   "outputs": [
    {
     "ename": "TypeError",
     "evalue": "'tuple' object does not support item assignment",
     "output_type": "error",
     "traceback": [
      "\u001b[1;31m---------------------------------------------------------------------------\u001b[0m",
      "\u001b[1;31mTypeError\u001b[0m                                 Traceback (most recent call last)",
      "\u001b[1;32mC:\\Users\\SEUNGH~1\\AppData\\Local\\Temp/ipykernel_10800/1891221013.py\u001b[0m in \u001b[0;36m<module>\u001b[1;34m\u001b[0m\n\u001b[0;32m      1\u001b[0m \u001b[0mt\u001b[0m \u001b[1;33m=\u001b[0m \u001b[1;33m(\u001b[0m\u001b[1;36m1\u001b[0m\u001b[1;33m,\u001b[0m \u001b[1;36m2\u001b[0m\u001b[1;33m,\u001b[0m \u001b[1;33m[\u001b[0m\u001b[1;36m30\u001b[0m\u001b[1;33m,\u001b[0m \u001b[1;36m40\u001b[0m\u001b[1;33m]\u001b[0m\u001b[1;33m)\u001b[0m\u001b[1;33m\u001b[0m\u001b[1;33m\u001b[0m\u001b[0m\n\u001b[1;32m----> 2\u001b[1;33m \u001b[0mt\u001b[0m\u001b[1;33m[\u001b[0m\u001b[1;36m2\u001b[0m\u001b[1;33m]\u001b[0m \u001b[1;33m+=\u001b[0m \u001b[1;33m[\u001b[0m\u001b[1;36m50\u001b[0m\u001b[1;33m,\u001b[0m \u001b[1;36m60\u001b[0m\u001b[1;33m]\u001b[0m\u001b[1;33m\u001b[0m\u001b[1;33m\u001b[0m\u001b[0m\n\u001b[0m",
      "\u001b[1;31mTypeError\u001b[0m: 'tuple' object does not support item assignment"
     ]
    }
   ],
   "source": [
    "t = (1, 2, [30, 40])\n",
    "t[2] += [50, 60]"
   ]
  },
  {
   "cell_type": "code",
   "execution_count": 31,
   "id": "5d417482",
   "metadata": {
    "ExecuteTime": {
     "end_time": "2021-11-13T06:04:18.463887Z",
     "start_time": "2021-11-13T06:04:18.454886Z"
    }
   },
   "outputs": [
    {
     "data": {
      "text/plain": [
       "(1, 2, [30, 40, 50, 60])"
      ]
     },
     "execution_count": 31,
     "metadata": {},
     "output_type": "execute_result"
    }
   ],
   "source": [
    "t"
   ]
  },
  {
   "cell_type": "code",
   "execution_count": 32,
   "id": "1a2132d0",
   "metadata": {
    "ExecuteTime": {
     "end_time": "2021-11-13T06:04:19.066882Z",
     "start_time": "2021-11-13T06:04:19.056879Z"
    }
   },
   "outputs": [
    {
     "name": "stdout",
     "output_type": "stream",
     "text": [
      "  1           0 LOAD_NAME                0 (s)\n",
      "              2 LOAD_NAME                1 (a)\n",
      "              4 DUP_TOP_TWO\n",
      "              6 BINARY_SUBSCR\n",
      "              8 LOAD_NAME                2 (b)\n",
      "             10 INPLACE_ADD\n",
      "             12 ROT_THREE\n",
      "             14 STORE_SUBSCR\n",
      "             16 LOAD_CONST               0 (None)\n",
      "             18 RETURN_VALUE\n"
     ]
    }
   ],
   "source": [
    "import dis\n",
    "\n",
    "dis.dis('s[a] += b')"
   ]
  },
  {
   "cell_type": "markdown",
   "id": "23128577",
   "metadata": {},
   "source": [
    "# list.sort()와 sorted()"
   ]
  },
  {
   "cell_type": "markdown",
   "id": "93564952",
   "metadata": {},
   "source": [
    "1. list.sort() : 사본을 만들지 않고 리스트 내부를 변경하여 정렬\n",
    "- 타킷 객체를 변경하고 새로운 리스트를 생성하지 않았음을 알려주기 위해 None을 반환\n",
    "2. sorted() : 새로운 리스트를 생성해서 반환\n",
    "- 불변 시퀀스및 제너레이터를 포함해서 반복 가능한 모든 개체를 인수 받음.\n",
    "- 입력받은 반복 가능한 객체의 자료형과 무관하게 sorted() 함수는 언제나 새로 생성한 리스트를 반환"
   ]
  },
  {
   "cell_type": "markdown",
   "id": "329f5e23",
   "metadata": {},
   "source": [
    "# 정렬된 시퀀스를 bisect로 관리하기"
   ]
  },
  {
   "cell_type": "markdown",
   "id": "b550bbd6",
   "metadata": {},
   "source": [
    "1. bisect() : 이진 검색 알고리즘을 이용해 시퀀스를 검색\n",
    "\n",
    "2. insort() : 정렬된 시퀀스 안에 항목을 삽입"
   ]
  },
  {
   "cell_type": "markdown",
   "id": "f722d875",
   "metadata": {},
   "source": [
    "# 리스트가 답이 아닐때"
   ]
  },
  {
   "cell_type": "code",
   "execution_count": 34,
   "id": "3131a348",
   "metadata": {
    "ExecuteTime": {
     "end_time": "2021-11-13T08:05:36.530020Z",
     "start_time": "2021-11-13T08:05:35.148708Z"
    }
   },
   "outputs": [
    {
     "data": {
      "text/plain": [
       "0.11040173012554433"
      ]
     },
     "execution_count": 34,
     "metadata": {},
     "output_type": "execute_result"
    }
   ],
   "source": [
    "from array import array\n",
    "from random import random\n",
    "\n",
    "floats = array('d', (random() for i in range(10**7)))\n",
    "floats[-1]"
   ]
  },
  {
   "cell_type": "code",
   "execution_count": 35,
   "id": "3e28f7af",
   "metadata": {
    "ExecuteTime": {
     "end_time": "2021-11-13T08:06:01.228190Z",
     "start_time": "2021-11-13T08:06:01.158159Z"
    }
   },
   "outputs": [],
   "source": [
    "fp = open('falots.bin', 'wb')\n",
    "floats.tofile(fp)\n",
    "fp.close()"
   ]
  },
  {
   "cell_type": "code",
   "execution_count": 37,
   "id": "f963e1ab",
   "metadata": {
    "ExecuteTime": {
     "end_time": "2021-11-13T08:07:08.970518Z",
     "start_time": "2021-11-13T08:07:08.930512Z"
    }
   },
   "outputs": [],
   "source": [
    "floats2 = array('d')\n",
    "fp = open('falots.bin', 'rb')\n",
    "floats2.fromfile(fp, 10**7)\n",
    "fp.close()"
   ]
  },
  {
   "cell_type": "code",
   "execution_count": 38,
   "id": "958ad213",
   "metadata": {
    "ExecuteTime": {
     "end_time": "2021-11-13T08:07:15.112591Z",
     "start_time": "2021-11-13T08:07:15.110591Z"
    }
   },
   "outputs": [
    {
     "data": {
      "text/plain": [
       "0.11040173012554433"
      ]
     },
     "execution_count": 38,
     "metadata": {},
     "output_type": "execute_result"
    }
   ],
   "source": [
    "floats2[-1]"
   ]
  },
  {
   "cell_type": "code",
   "execution_count": 39,
   "id": "0343193b",
   "metadata": {
    "ExecuteTime": {
     "end_time": "2021-11-13T08:07:24.604081Z",
     "start_time": "2021-11-13T08:07:24.431104Z"
    }
   },
   "outputs": [
    {
     "data": {
      "text/plain": [
       "True"
      ]
     },
     "execution_count": 39,
     "metadata": {},
     "output_type": "execute_result"
    }
   ],
   "source": [
    "floats2 == floats"
   ]
  },
  {
   "cell_type": "code",
   "execution_count": null,
   "id": "b01b10c3",
   "metadata": {},
   "outputs": [],
   "source": []
  }
 ],
 "metadata": {
  "kernelspec": {
   "display_name": "cv",
   "language": "python",
   "name": "cv"
  },
  "language_info": {
   "codemirror_mode": {
    "name": "ipython",
    "version": 3
   },
   "file_extension": ".py",
   "mimetype": "text/x-python",
   "name": "python",
   "nbconvert_exporter": "python",
   "pygments_lexer": "ipython3",
   "version": "3.9.7"
  },
  "toc": {
   "base_numbering": 1,
   "nav_menu": {},
   "number_sections": true,
   "sideBar": true,
   "skip_h1_title": false,
   "title_cell": "Table of Contents",
   "title_sidebar": "Contents",
   "toc_cell": false,
   "toc_position": {},
   "toc_section_display": true,
   "toc_window_display": true
  }
 },
 "nbformat": 4,
 "nbformat_minor": 5
}
