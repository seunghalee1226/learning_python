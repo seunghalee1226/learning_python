{
 "cells": [
  {
   "cell_type": "markdown",
   "id": "f0ad524a",
   "metadata": {},
   "source": [
    "# context manager"
   ]
  },
  {
   "cell_type": "markdown",
   "id": "a3116661",
   "metadata": {},
   "source": [
    "1. Contextlib\n",
    "- 외부 리소스를 요청하는 작업을 안전하게 모듈화 가능\n",
    "- 원하는 타이밍에 정확하게 리스트 할당 및 제공, 반환하는 역활을 함\n",
    "- with 구문을 이해, with 구문과 비슷한 역할을 하는 것을 이해해야 함\n",
    "2. __enter__\n",
    "3. __exit__\n",
    "- with 기능 직접 구현\n",
    "\n",
    "운영체제의 자원은 한정되어 있음. 반환되는 자원이 없으면 "
   ]
  },
  {
   "cell_type": "markdown",
   "id": "0d1c5bd5",
   "metadata": {},
   "source": [
    "## ex1"
   ]
  },
  {
   "cell_type": "code",
   "execution_count": 1,
   "id": "b393b479",
   "metadata": {
    "ExecuteTime": {
     "end_time": "2021-12-20T20:20:35.235845Z",
     "start_time": "2021-12-20T20:20:35.223844Z"
    }
   },
   "outputs": [],
   "source": [
    "file = open('./testfile1.txt', 'w')\n",
    "try:\n",
    "    file.write('Context Manager Test1\\nContextlib Test1')\n",
    "finally:\n",
    "    file.close()"
   ]
  },
  {
   "cell_type": "markdown",
   "id": "e63365a2",
   "metadata": {},
   "source": [
    "## ex2"
   ]
  },
  {
   "cell_type": "code",
   "execution_count": 4,
   "id": "bcc8e073",
   "metadata": {
    "ExecuteTime": {
     "end_time": "2021-12-20T20:23:31.361274Z",
     "start_time": "2021-12-20T20:23:31.356274Z"
    }
   },
   "outputs": [],
   "source": [
    "'''\n",
    "with문을 커스토마이징하면 메소드의 실행 시간 타이머 등을 만들 수 있음\n",
    "'''\n",
    "\n",
    "with open('./testfile2.txt', 'w') as f:\n",
    "    f.write('Context Manager Test2\\nContextlib Test2')"
   ]
  },
  {
   "cell_type": "markdown",
   "id": "96a59e52",
   "metadata": {},
   "source": [
    "## ex3"
   ]
  },
  {
   "cell_type": "code",
   "execution_count": 6,
   "id": "b973143d",
   "metadata": {
    "ExecuteTime": {
     "end_time": "2021-12-20T20:28:29.135654Z",
     "start_time": "2021-12-20T20:28:29.121652Z"
    }
   },
   "outputs": [],
   "source": [
    "# use class -> context manager with exception handling\n",
    "\n",
    "class MyFileWriter():\n",
    "    def __init__(self, file_name, method):\n",
    "        print('MyFileWriter started : __init__')\n",
    "        self.file_obj = open(file_name, method)\n",
    "        \n",
    "    def __enter__(self):\n",
    "        print('MyFileWiter started : __enter__')\n",
    "        return self.file_obj\n",
    "    \n",
    "    def __exit__(self, exc_type, value, trace_back):\n",
    "        print('MyFileWrtier started : __exit__')\n",
    "        if exc_type:\n",
    "            print(f'Logging exception {(exc_type, vale, trace_back)}')\n",
    "        self.file_obj.close()"
   ]
  },
  {
   "cell_type": "code",
   "execution_count": 8,
   "id": "d9b10d48",
   "metadata": {
    "ExecuteTime": {
     "end_time": "2021-12-20T20:55:49.422587Z",
     "start_time": "2021-12-20T20:55:49.409592Z"
    }
   },
   "outputs": [
    {
     "name": "stdout",
     "output_type": "stream",
     "text": [
      "MyFileWriter started : __init__\n",
      "MyFileWiter started : __enter__\n",
      "MyFileWrtier started : __exit__\n"
     ]
    }
   ],
   "source": [
    "with MyFileWriter('./testfile3.txt', 'w') as f:\n",
    "    f.write('Context Manager Test3\\nContextlib Test3')"
   ]
  },
  {
   "cell_type": "code",
   "execution_count": null,
   "id": "79d124ef",
   "metadata": {},
   "outputs": [],
   "source": []
  },
  {
   "cell_type": "markdown",
   "id": "7158acfe",
   "metadata": {},
   "source": [
    "# Context Manager Annotation"
   ]
  },
  {
   "cell_type": "markdown",
   "id": "eef2403d",
   "metadata": {
    "ExecuteTime": {
     "end_time": "2021-12-20T20:58:08.462343Z",
     "start_time": "2021-12-20T20:58:08.452343Z"
    }
   },
   "source": [
    "## ex1"
   ]
  },
  {
   "cell_type": "code",
   "execution_count": 2,
   "id": "c1feaa3c",
   "metadata": {
    "ExecuteTime": {
     "end_time": "2021-12-20T20:58:44.080337Z",
     "start_time": "2021-12-20T20:58:44.063338Z"
    }
   },
   "outputs": [],
   "source": [
    "import contextlib\n",
    "import time"
   ]
  },
  {
   "cell_type": "code",
   "execution_count": 4,
   "id": "f0e8a687",
   "metadata": {
    "ExecuteTime": {
     "end_time": "2021-12-20T21:00:58.377275Z",
     "start_time": "2021-12-20T21:00:58.368276Z"
    }
   },
   "outputs": [],
   "source": [
    "# use decorator\n",
    "\n",
    "@contextlib.contextmanager\n",
    "def my_file_writer(file_name, method):\n",
    "    f = open(file_name, method)\n",
    "    yield f # __enter__\n",
    "    f.close() # __exit__"
   ]
  },
  {
   "cell_type": "code",
   "execution_count": null,
   "id": "43af853b",
   "metadata": {},
   "outputs": [],
   "source": []
  },
  {
   "cell_type": "markdown",
   "id": "abf10296",
   "metadata": {
    "ExecuteTime": {
     "end_time": "2021-12-20T21:08:27.652514Z",
     "start_time": "2021-12-20T21:08:27.642515Z"
    }
   },
   "source": [
    "## ex2"
   ]
  },
  {
   "cell_type": "code",
   "execution_count": 8,
   "id": "a97d9f56",
   "metadata": {
    "ExecuteTime": {
     "end_time": "2021-12-20T21:10:57.138716Z",
     "start_time": "2021-12-20T21:10:57.135713Z"
    }
   },
   "outputs": [],
   "source": [
    "@contextlib.contextmanager\n",
    "def ExcuteTimerDc(msg):\n",
    "    start = time.monotonic()\n",
    "    try: # __enter__\n",
    "        yield start\n",
    "    except BaseException as e:\n",
    "        print('Logging exception : {} : {}'.format(msg, e))\n",
    "        raise\n",
    "        \n",
    "    else: # __exit__\n",
    "        print('{} : {}s'.format(msg, time.monotonic() - start))"
   ]
  },
  {
   "cell_type": "code",
   "execution_count": null,
   "id": "854d5e54",
   "metadata": {},
   "outputs": [],
   "source": []
  }
 ],
 "metadata": {
  "kernelspec": {
   "display_name": "cv",
   "language": "python",
   "name": "cv"
  },
  "language_info": {
   "codemirror_mode": {
    "name": "ipython",
    "version": 3
   },
   "file_extension": ".py",
   "mimetype": "text/x-python",
   "name": "python",
   "nbconvert_exporter": "python",
   "pygments_lexer": "ipython3",
   "version": "3.9.7"
  },
  "toc": {
   "base_numbering": 1,
   "nav_menu": {},
   "number_sections": true,
   "sideBar": true,
   "skip_h1_title": false,
   "title_cell": "Table of Contents",
   "title_sidebar": "Contents",
   "toc_cell": false,
   "toc_position": {},
   "toc_section_display": true,
   "toc_window_display": false
  }
 },
 "nbformat": 4,
 "nbformat_minor": 5
}
