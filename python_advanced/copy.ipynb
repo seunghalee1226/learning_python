{
 "cells": [
  {
   "cell_type": "markdown",
   "id": "56d6e81d",
   "metadata": {},
   "source": [
    "# shallow copy & Deep copy"
   ]
  },
  {
   "cell_type": "markdown",
   "id": "1ca8138a",
   "metadata": {},
   "source": [
    "객체 복사 종류 : copy, shallow copy, deep copy\n",
    "- mutable : list, se,t dict\n",
    "- immutable : int, str, float, bool, unicode..."
   ]
  },
  {
   "cell_type": "markdown",
   "id": "8bae7f47",
   "metadata": {},
   "source": [
    "## ex1 - copy"
   ]
  },
  {
   "cell_type": "code",
   "execution_count": 11,
   "id": "df8f5915",
   "metadata": {
    "ExecuteTime": {
     "end_time": "2021-12-20T20:03:58.620346Z",
     "start_time": "2021-12-20T20:03:58.605348Z"
    }
   },
   "outputs": [
    {
     "name": "stdout",
     "output_type": "stream",
     "text": [
      "ex1 >  True\n",
      "ex1 >  1577223394688\n",
      "ex1 >  1577223394688\n"
     ]
    }
   ],
   "source": [
    "'''\n",
    "call by value, call by reference, call by share \n",
    "'''\n",
    "a_list = [1, 2, 3, [4, 5, 6], [7, 8, 9]]\n",
    "b_list = a_list\n",
    "\n",
    "print('ex1 > ', a_list == b_list)\n",
    "\n",
    "print('ex1 > ', id(a_list))\n",
    "print('ex1 > ', id(b_list))"
   ]
  },
  {
   "cell_type": "code",
   "execution_count": 9,
   "id": "fb9651ef",
   "metadata": {
    "ExecuteTime": {
     "end_time": "2021-12-20T20:02:11.944502Z",
     "start_time": "2021-12-20T20:02:11.926502Z"
    }
   },
   "outputs": [
    {
     "name": "stdout",
     "output_type": "stream",
     "text": [
      "ex1 >  [1, 2, 100, [4, 5, 6], [7, 8, 9]]\n",
      "ex1 >  [1, 2, 100, [4, 5, 6], [7, 8, 9]]\n"
     ]
    }
   ],
   "source": [
    "# call by reference\n",
    "'''\n",
    "넘길 때 주소값을 넘기기 때문에\n",
    "값을 공유하고 있는 변수에 대해서 발생할 수 있음\n",
    "list는 가변할 수 있기 때문에 사용할 때 조심해서 사용해야 함\n",
    "'''\n",
    "b_list[2] = 100\n",
    "\n",
    "print('ex1 > ', a_list)\n",
    "print('ex1 > ', b_list)"
   ]
  },
  {
   "cell_type": "code",
   "execution_count": 10,
   "id": "30cd79e8",
   "metadata": {
    "ExecuteTime": {
     "end_time": "2021-12-20T20:02:18.106697Z",
     "start_time": "2021-12-20T20:02:18.100698Z"
    }
   },
   "outputs": [
    {
     "name": "stdout",
     "output_type": "stream",
     "text": [
      "ex1 >  [1, 2, 100, [4, 5, 100], [7, 8, 9]]\n",
      "ex1 >  [1, 2, 100, [4, 5, 100], [7, 8, 9]]\n"
     ]
    }
   ],
   "source": [
    "b_list[3][2] = 100\n",
    "\n",
    "print('ex1 > ', a_list)\n",
    "print('ex1 > ', b_list)"
   ]
  },
  {
   "cell_type": "code",
   "execution_count": null,
   "id": "1cde70a2",
   "metadata": {},
   "outputs": [],
   "source": []
  },
  {
   "cell_type": "markdown",
   "id": "6bee2a02",
   "metadata": {},
   "source": [
    "## ex2 - shallow copy"
   ]
  },
  {
   "cell_type": "code",
   "execution_count": 12,
   "id": "d6fcf03b",
   "metadata": {
    "ExecuteTime": {
     "end_time": "2021-12-20T20:04:17.781169Z",
     "start_time": "2021-12-20T20:04:17.766166Z"
    }
   },
   "outputs": [],
   "source": [
    "import copy"
   ]
  },
  {
   "cell_type": "code",
   "execution_count": 13,
   "id": "853e8d35",
   "metadata": {
    "ExecuteTime": {
     "end_time": "2021-12-20T20:05:03.659479Z",
     "start_time": "2021-12-20T20:05:03.648480Z"
    }
   },
   "outputs": [
    {
     "name": "stdout",
     "output_type": "stream",
     "text": [
      "ex2 >  1577232313472\n",
      "ex2 >  1577232312320\n"
     ]
    }
   ],
   "source": [
    "'''\n",
    "데이터의 보존을 위해서 원본을 만들어놓고, 사본을 만들어서 사용할 때 shallow copy로 사용\n",
    "'''\n",
    "\n",
    "c_list = [1, 2, 3, [4, 5, 6], [7, 8, 9]]\n",
    "d_list = copy.copy(c_list)\n",
    "\n",
    "print('ex2 > ', id(c_list))\n",
    "print('ex2 > ', id(d_list))"
   ]
  },
  {
   "cell_type": "code",
   "execution_count": 14,
   "id": "f32f236d",
   "metadata": {
    "ExecuteTime": {
     "end_time": "2021-12-20T20:06:10.888344Z",
     "start_time": "2021-12-20T20:06:10.882343Z"
    }
   },
   "outputs": [
    {
     "name": "stdout",
     "output_type": "stream",
     "text": [
      "ex2 >  [1, 2, 3, [4, 5, 6], [7, 8, 9]]\n",
      "ex2 >  [1, 100, 3, [4, 5, 6], [7, 8, 9]]\n"
     ]
    }
   ],
   "source": [
    "d_list[1] = 100\n",
    "\n",
    "print('ex2 > ', c_list)\n",
    "print('ex2 > ', d_list)"
   ]
  },
  {
   "cell_type": "code",
   "execution_count": 16,
   "id": "12c24f4c",
   "metadata": {
    "ExecuteTime": {
     "end_time": "2021-12-20T20:06:46.776339Z",
     "start_time": "2021-12-20T20:06:46.770341Z"
    }
   },
   "outputs": [
    {
     "name": "stdout",
     "output_type": "stream",
     "text": [
      "ex2 >  [1, 2, 3, [4, 5, 6, 100, 100], [7, 10000, 9]]\n",
      "ex2 >  [1, 100, 3, [4, 5, 6, 100, 100], [7, 10000, 9]]\n"
     ]
    }
   ],
   "source": [
    "'''\n",
    "얕은 복사는 해당 가변형 객체 안에 있는 리스트나 참조형에 대해 다른 복사해주지 않음\n",
    "call by reference로 인하여 리스트 안에 있는 값이 변경됨\n",
    "'''\n",
    "\n",
    "d_list[3].append(100)\n",
    "d_list[4][1] = 10000\n",
    "\n",
    "print('ex2 > ', c_list)\n",
    "print('ex2 > ', d_list)"
   ]
  },
  {
   "cell_type": "markdown",
   "id": "bd7b3fd5",
   "metadata": {},
   "source": [
    "## ex3 - deep copy"
   ]
  },
  {
   "cell_type": "code",
   "execution_count": 17,
   "id": "b6b572eb",
   "metadata": {
    "ExecuteTime": {
     "end_time": "2021-12-20T20:09:58.334520Z",
     "start_time": "2021-12-20T20:09:58.317478Z"
    }
   },
   "outputs": [
    {
     "name": "stdout",
     "output_type": "stream",
     "text": [
      "ex2 >  1577228624768\n",
      "ex2 >  1577229053760\n"
     ]
    }
   ],
   "source": [
    "e_list = [1, 2, 3, [4, 5, 6], [7, 8, 9]]\n",
    "f_list = copy.deepcopy(e_list)\n",
    "\n",
    "print('ex3 > ', id(e_list))\n",
    "print('ex3 > ', id(f_list))"
   ]
  },
  {
   "cell_type": "code",
   "execution_count": 18,
   "id": "056c3ef5",
   "metadata": {
    "ExecuteTime": {
     "end_time": "2021-12-20T20:11:03.014758Z",
     "start_time": "2021-12-20T20:11:02.997758Z"
    }
   },
   "outputs": [
    {
     "name": "stdout",
     "output_type": "stream",
     "text": [
      "ex3 >  [1, 2, 3, [4, 5, 6], [7, 8, 9]]\n",
      "ex3 >  [1, 2, 3, [4, 5, 6, 1000], [7, 10000, 9]]\n"
     ]
    }
   ],
   "source": [
    "f_list[3].append(1000)\n",
    "f_list[4][1] = 10000\n",
    "\n",
    "print('ex3 > ', e_list)\n",
    "print('ex3 > ', f_list)"
   ]
  },
  {
   "cell_type": "code",
   "execution_count": null,
   "id": "6b2743de",
   "metadata": {},
   "outputs": [],
   "source": []
  }
 ],
 "metadata": {
  "kernelspec": {
   "display_name": "cv",
   "language": "python",
   "name": "cv"
  },
  "language_info": {
   "codemirror_mode": {
    "name": "ipython",
    "version": 3
   },
   "file_extension": ".py",
   "mimetype": "text/x-python",
   "name": "python",
   "nbconvert_exporter": "python",
   "pygments_lexer": "ipython3",
   "version": "3.9.7"
  },
  "toc": {
   "base_numbering": 1,
   "nav_menu": {},
   "number_sections": true,
   "sideBar": true,
   "skip_h1_title": false,
   "title_cell": "Table of Contents",
   "title_sidebar": "Contents",
   "toc_cell": false,
   "toc_position": {},
   "toc_section_display": true,
   "toc_window_display": false
  }
 },
 "nbformat": 4,
 "nbformat_minor": 5
}
