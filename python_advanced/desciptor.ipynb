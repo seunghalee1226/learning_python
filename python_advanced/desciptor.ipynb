{
 "cells": [
  {
   "cell_type": "markdown",
   "id": "476b3dcf",
   "metadata": {},
   "source": [
    "# Desciptor\n",
    "* 디스크립터\n",
    "1. 객체에서 서로 다른 객체를 속성값으로 가지는 것\n",
    "2. Read, Write, Delete 등을 미리 정의 가능\n",
    "3. data desciptor(set, del), non-data descriptor(get)\n",
    "4. 읽기 전용 객체 생성 장점, 클래스를 의도하는 방향으로 생성 가능"
   ]
  },
  {
   "cell_type": "markdown",
   "id": "dcd5b39b",
   "metadata": {
    "ExecuteTime": {
     "end_time": "2021-12-24T23:16:28.479884Z",
     "start_time": "2021-12-24T23:16:28.465885Z"
    }
   },
   "source": [
    "## ex1"
   ]
  },
  {
   "cell_type": "code",
   "execution_count": 9,
   "id": "ce9bcc47",
   "metadata": {
    "ExecuteTime": {
     "end_time": "2021-12-24T23:23:44.684633Z",
     "start_time": "2021-12-24T23:23:44.669013Z"
    }
   },
   "outputs": [],
   "source": [
    "class DescriptorEx1(object):\n",
    "    def __init__(self, name='Default'):\n",
    "        self.name = name\n",
    "        \n",
    "    def __get__(self, obj, objtype):\n",
    "        return f'Get method called -> self: {self}, obj : {obj}, objtype : {objtype}, name : {self.name}'\n",
    "    \n",
    "    def __set__(self, obj, name):\n",
    "        print('Set method called')\n",
    "        if isinstance(name, str):\n",
    "            self.name = name\n",
    "            \n",
    "        else:\n",
    "            raise TypeError('Name should be string')\n",
    "            \n",
    "    def __delete__(self, obj):\n",
    "        print('Delete method called')\n",
    "        self.name = None"
   ]
  },
  {
   "cell_type": "code",
   "execution_count": 10,
   "id": "aaff02bc",
   "metadata": {
    "ExecuteTime": {
     "end_time": "2021-12-24T23:23:44.876447Z",
     "start_time": "2021-12-24T23:23:44.868441Z"
    }
   },
   "outputs": [],
   "source": [
    "class Sample1(object):\n",
    "    name = DescriptorEx1()"
   ]
  },
  {
   "cell_type": "code",
   "execution_count": 13,
   "id": "8c95c76d",
   "metadata": {
    "ExecuteTime": {
     "end_time": "2021-12-24T23:33:50.497141Z",
     "start_time": "2021-12-24T23:33:50.490137Z"
    }
   },
   "outputs": [
    {
     "name": "stdout",
     "output_type": "stream",
     "text": [
      "Set method called\n"
     ]
    }
   ],
   "source": [
    "s1 = Sample1()\n",
    "\n",
    "# __set__ 호출\n",
    "s1.name = 'Desciptor Test1'"
   ]
  },
  {
   "cell_type": "code",
   "execution_count": 14,
   "id": "3a541ad7",
   "metadata": {
    "ExecuteTime": {
     "end_time": "2021-12-24T23:33:50.715199Z",
     "start_time": "2021-12-24T23:33:50.707203Z"
    }
   },
   "outputs": [
    {
     "name": "stdout",
     "output_type": "stream",
     "text": [
      "Set method called\n"
     ]
    },
    {
     "ename": "TypeError",
     "evalue": "Name should be string",
     "output_type": "error",
     "traceback": [
      "\u001b[1;31m---------------------------------------------------------------------------\u001b[0m",
      "\u001b[1;31mTypeError\u001b[0m                                 Traceback (most recent call last)",
      "\u001b[1;32mC:\\Users\\SEUNGH~1\\AppData\\Local\\Temp/ipykernel_19716/2548405504.py\u001b[0m in \u001b[0;36m<module>\u001b[1;34m\u001b[0m\n\u001b[1;32m----> 1\u001b[1;33m \u001b[0ms1\u001b[0m\u001b[1;33m.\u001b[0m\u001b[0mname\u001b[0m \u001b[1;33m=\u001b[0m \u001b[1;36m10\u001b[0m\u001b[1;33m\u001b[0m\u001b[1;33m\u001b[0m\u001b[0m\n\u001b[0m",
      "\u001b[1;32mC:\\Users\\SEUNGH~1\\AppData\\Local\\Temp/ipykernel_19716/4070172806.py\u001b[0m in \u001b[0;36m__set__\u001b[1;34m(self, obj, name)\u001b[0m\n\u001b[0;32m     12\u001b[0m \u001b[1;33m\u001b[0m\u001b[0m\n\u001b[0;32m     13\u001b[0m         \u001b[1;32melse\u001b[0m\u001b[1;33m:\u001b[0m\u001b[1;33m\u001b[0m\u001b[1;33m\u001b[0m\u001b[0m\n\u001b[1;32m---> 14\u001b[1;33m             \u001b[1;32mraise\u001b[0m \u001b[0mTypeError\u001b[0m\u001b[1;33m(\u001b[0m\u001b[1;34m'Name should be string'\u001b[0m\u001b[1;33m)\u001b[0m\u001b[1;33m\u001b[0m\u001b[1;33m\u001b[0m\u001b[0m\n\u001b[0m\u001b[0;32m     15\u001b[0m \u001b[1;33m\u001b[0m\u001b[0m\n\u001b[0;32m     16\u001b[0m     \u001b[1;32mdef\u001b[0m \u001b[0m__delete__\u001b[0m\u001b[1;33m(\u001b[0m\u001b[0mself\u001b[0m\u001b[1;33m,\u001b[0m \u001b[0mobj\u001b[0m\u001b[1;33m)\u001b[0m\u001b[1;33m:\u001b[0m\u001b[1;33m\u001b[0m\u001b[1;33m\u001b[0m\u001b[0m\n",
      "\u001b[1;31mTypeError\u001b[0m: Name should be string"
     ]
    }
   ],
   "source": [
    "s1.name = 10"
   ]
  },
  {
   "cell_type": "code",
   "execution_count": 15,
   "id": "44236434",
   "metadata": {
    "ExecuteTime": {
     "end_time": "2021-12-24T23:34:04.201927Z",
     "start_time": "2021-12-24T23:34:04.192929Z"
    }
   },
   "outputs": [
    {
     "data": {
      "text/plain": [
       "\"Get method called -> self: <__main__.DescriptorEx1 object at 0x000001622EC5E4F0>, obj : <__main__.Sample1 object at 0x000001622EE43AF0>, objtype : <class '__main__.Sample1'>, name : Desciptor Test1\""
      ]
     },
     "execution_count": 15,
     "metadata": {},
     "output_type": "execute_result"
    }
   ],
   "source": [
    "# attr 확인\n",
    "s1.name"
   ]
  },
  {
   "cell_type": "code",
   "execution_count": 16,
   "id": "cf964510",
   "metadata": {
    "ExecuteTime": {
     "end_time": "2021-12-24T23:34:59.705961Z",
     "start_time": "2021-12-24T23:34:59.694959Z"
    }
   },
   "outputs": [
    {
     "name": "stdout",
     "output_type": "stream",
     "text": [
      "Delete method called\n"
     ]
    }
   ],
   "source": [
    "# __delete__ 호출\n",
    "del s1.name"
   ]
  },
  {
   "cell_type": "code",
   "execution_count": 17,
   "id": "de4c1c5e",
   "metadata": {
    "ExecuteTime": {
     "end_time": "2021-12-24T23:35:15.629700Z",
     "start_time": "2021-12-24T23:35:15.619701Z"
    }
   },
   "outputs": [
    {
     "data": {
      "text/plain": [
       "\"Get method called -> self: <__main__.DescriptorEx1 object at 0x000001622EC5E4F0>, obj : <__main__.Sample1 object at 0x000001622EE43AF0>, objtype : <class '__main__.Sample1'>, name : None\""
      ]
     },
     "execution_count": 17,
     "metadata": {},
     "output_type": "execute_result"
    }
   ],
   "source": [
    "# 재확인\n",
    "s1.name"
   ]
  },
  {
   "cell_type": "markdown",
   "id": "a0abf743",
   "metadata": {},
   "source": [
    "## ex2"
   ]
  },
  {
   "cell_type": "markdown",
   "id": "5b3359a9",
   "metadata": {},
   "source": [
    "property 클래스 사용 Desciptor 직접 구형\n",
    "\n",
    "class property(fget=None, fset=None, fdel=None, doc=None)"
   ]
  },
  {
   "cell_type": "code",
   "execution_count": 19,
   "id": "32f14b37",
   "metadata": {
    "ExecuteTime": {
     "end_time": "2021-12-24T23:40:38.545484Z",
     "start_time": "2021-12-24T23:40:38.538480Z"
    }
   },
   "outputs": [],
   "source": [
    "class DesciptorEx2(object):\n",
    "    def __init__(self, value):\n",
    "        self._name = value\n",
    "        \n",
    "    def getVal(self):\n",
    "        return f'Get method called. self : {self}, name : {self._name}'\n",
    "    \n",
    "    def setVal(self, value):\n",
    "        print('Set method called.')\n",
    "        if isinstance(value, str):\n",
    "            self._name = value\n",
    "            \n",
    "        else:\n",
    "            raise TypeError('Name should be stirng')\n",
    "            \n",
    "    def delVal(self):\n",
    "        print('Delete method called')\n",
    "        self._name = None\n",
    "        \n",
    "    name = property(getVal, setVal, delVal, 'Property method Ex')"
   ]
  },
  {
   "cell_type": "code",
   "execution_count": 21,
   "id": "67615c03",
   "metadata": {
    "ExecuteTime": {
     "end_time": "2021-12-24T23:41:15.183639Z",
     "start_time": "2021-12-24T23:41:15.168496Z"
    }
   },
   "outputs": [],
   "source": [
    "s2 = DesciptorEx2('Desciptor Test2')"
   ]
  },
  {
   "cell_type": "code",
   "execution_count": 22,
   "id": "8aa8a9b1",
   "metadata": {
    "ExecuteTime": {
     "end_time": "2021-12-24T23:41:19.486549Z",
     "start_time": "2021-12-24T23:41:19.479536Z"
    }
   },
   "outputs": [
    {
     "data": {
      "text/plain": [
       "'Get method called. self : <__main__.DesciptorEx2 object at 0x000001622E96F070>, name : Desciptor Test2'"
      ]
     },
     "execution_count": 22,
     "metadata": {},
     "output_type": "execute_result"
    }
   ],
   "source": [
    "s2.name"
   ]
  },
  {
   "cell_type": "code",
   "execution_count": 23,
   "id": "8323a98d",
   "metadata": {
    "ExecuteTime": {
     "end_time": "2021-12-24T23:41:49.126382Z",
     "start_time": "2021-12-24T23:41:49.109382Z"
    }
   },
   "outputs": [
    {
     "name": "stdout",
     "output_type": "stream",
     "text": [
      "Set method called.\n"
     ]
    }
   ],
   "source": [
    "# setVal 호출\n",
    "s2.name = 'Desciptor Test2 Method'"
   ]
  },
  {
   "cell_type": "code",
   "execution_count": 24,
   "id": "374a3f68",
   "metadata": {
    "ExecuteTime": {
     "end_time": "2021-12-24T23:42:16.758406Z",
     "start_time": "2021-12-24T23:42:16.749409Z"
    }
   },
   "outputs": [
    {
     "name": "stdout",
     "output_type": "stream",
     "text": [
      "Set method called.\n"
     ]
    },
    {
     "ename": "TypeError",
     "evalue": "Name should be stirng",
     "output_type": "error",
     "traceback": [
      "\u001b[1;31m---------------------------------------------------------------------------\u001b[0m",
      "\u001b[1;31mTypeError\u001b[0m                                 Traceback (most recent call last)",
      "\u001b[1;32mC:\\Users\\SEUNGH~1\\AppData\\Local\\Temp/ipykernel_19716/3527808848.py\u001b[0m in \u001b[0;36m<module>\u001b[1;34m\u001b[0m\n\u001b[0;32m      1\u001b[0m \u001b[1;31m# 예외 발생\u001b[0m\u001b[1;33m\u001b[0m\u001b[1;33m\u001b[0m\u001b[0m\n\u001b[1;32m----> 2\u001b[1;33m \u001b[0ms2\u001b[0m\u001b[1;33m.\u001b[0m\u001b[0mname\u001b[0m \u001b[1;33m=\u001b[0m \u001b[1;36m10\u001b[0m\u001b[1;33m\u001b[0m\u001b[1;33m\u001b[0m\u001b[0m\n\u001b[0m",
      "\u001b[1;32mC:\\Users\\SEUNGH~1\\AppData\\Local\\Temp/ipykernel_19716/2027483249.py\u001b[0m in \u001b[0;36msetVal\u001b[1;34m(self, value)\u001b[0m\n\u001b[0;32m     12\u001b[0m \u001b[1;33m\u001b[0m\u001b[0m\n\u001b[0;32m     13\u001b[0m         \u001b[1;32melse\u001b[0m\u001b[1;33m:\u001b[0m\u001b[1;33m\u001b[0m\u001b[1;33m\u001b[0m\u001b[0m\n\u001b[1;32m---> 14\u001b[1;33m             \u001b[1;32mraise\u001b[0m \u001b[0mTypeError\u001b[0m\u001b[1;33m(\u001b[0m\u001b[1;34m'Name should be stirng'\u001b[0m\u001b[1;33m)\u001b[0m\u001b[1;33m\u001b[0m\u001b[1;33m\u001b[0m\u001b[0m\n\u001b[0m\u001b[0;32m     15\u001b[0m \u001b[1;33m\u001b[0m\u001b[0m\n\u001b[0;32m     16\u001b[0m     \u001b[1;32mdef\u001b[0m \u001b[0mdelVal\u001b[0m\u001b[1;33m(\u001b[0m\u001b[0mself\u001b[0m\u001b[1;33m)\u001b[0m\u001b[1;33m:\u001b[0m\u001b[1;33m\u001b[0m\u001b[1;33m\u001b[0m\u001b[0m\n",
      "\u001b[1;31mTypeError\u001b[0m: Name should be stirng"
     ]
    }
   ],
   "source": [
    "# 예외 발생\n",
    "s2.name = 10"
   ]
  },
  {
   "cell_type": "code",
   "execution_count": 25,
   "id": "5a7c4d01",
   "metadata": {
    "ExecuteTime": {
     "end_time": "2021-12-24T23:42:27.887895Z",
     "start_time": "2021-12-24T23:42:27.876581Z"
    }
   },
   "outputs": [
    {
     "data": {
      "text/plain": [
       "'Get method called. self : <__main__.DesciptorEx2 object at 0x000001622E96F070>, name : Desciptor Test2 Method'"
      ]
     },
     "execution_count": 25,
     "metadata": {},
     "output_type": "execute_result"
    }
   ],
   "source": [
    "# getVal 호출\n",
    "s2.name"
   ]
  },
  {
   "cell_type": "code",
   "execution_count": 26,
   "id": "2c9b457d",
   "metadata": {
    "ExecuteTime": {
     "end_time": "2021-12-24T23:42:41.901396Z",
     "start_time": "2021-12-24T23:42:41.896394Z"
    }
   },
   "outputs": [
    {
     "name": "stdout",
     "output_type": "stream",
     "text": [
      "Delete method called\n"
     ]
    }
   ],
   "source": [
    "# delVal 호출\n",
    "del s2.name"
   ]
  },
  {
   "cell_type": "code",
   "execution_count": 27,
   "id": "1608b00a",
   "metadata": {
    "ExecuteTime": {
     "end_time": "2021-12-24T23:42:54.608350Z",
     "start_time": "2021-12-24T23:42:54.599353Z"
    }
   },
   "outputs": [
    {
     "data": {
      "text/plain": [
       "'Get method called. self : <__main__.DesciptorEx2 object at 0x000001622E96F070>, name : None'"
      ]
     },
     "execution_count": 27,
     "metadata": {},
     "output_type": "execute_result"
    }
   ],
   "source": [
    "# 재확인\n",
    "s2.name"
   ]
  },
  {
   "cell_type": "code",
   "execution_count": 28,
   "id": "ebbf456b",
   "metadata": {
    "ExecuteTime": {
     "end_time": "2021-12-24T23:43:13.166344Z",
     "start_time": "2021-12-24T23:43:13.162345Z"
    }
   },
   "outputs": [
    {
     "data": {
      "text/plain": [
       "'Property method Ex'"
      ]
     },
     "execution_count": 28,
     "metadata": {},
     "output_type": "execute_result"
    }
   ],
   "source": [
    "# Doc 확인\n",
    "DesciptorEx2.name.__doc__"
   ]
  },
  {
   "cell_type": "markdown",
   "id": "b80c9c86",
   "metadata": {},
   "source": [
    "## ex3"
   ]
  },
  {
   "cell_type": "code",
   "execution_count": 33,
   "id": "4d1bb0d8",
   "metadata": {
    "ExecuteTime": {
     "end_time": "2021-12-25T02:13:19.159466Z",
     "start_time": "2021-12-25T02:13:19.155463Z"
    }
   },
   "outputs": [],
   "source": [
    "import os\n",
    "\n",
    "class DirectoryFileCount:\n",
    "    def __get__(self, obj, objtype=None):\n",
    "        print(os.listdir(obj.dirname))\n",
    "        return len(os.listdir(obj.dirname))\n",
    "\n",
    "class DirectoryPath:\n",
    "    # Discriptor instance\n",
    "    size = DirectoryFileCount()\n",
    "\n",
    "    def __init__(self, dirname):\n",
    "        self.dirname = dirname\n",
    "        "
   ]
  },
  {
   "cell_type": "code",
   "execution_count": 35,
   "id": "0ff50230",
   "metadata": {
    "ExecuteTime": {
     "end_time": "2021-12-25T02:13:23.232458Z",
     "start_time": "2021-12-25T02:13:23.219459Z"
    }
   },
   "outputs": [],
   "source": [
    "s = DirectoryPath('./')"
   ]
  },
  {
   "cell_type": "code",
   "execution_count": 36,
   "id": "62a38aa3",
   "metadata": {
    "ExecuteTime": {
     "end_time": "2021-12-25T02:13:25.658485Z",
     "start_time": "2021-12-25T02:13:25.653484Z"
    }
   },
   "outputs": [
    {
     "name": "stdout",
     "output_type": "stream",
     "text": [
      "['.ipynb_checkpoints', 'context_manager.ipynb', 'copy.ipynb', 'desciptor.ipynb', 'getter_setter.ipynb', 'map_filter_reduce.ipynb', 'meta_class.ipynb', 'method_overloading.ipynb', 'method_overriding.ipynb', 'timer.py', 'underscore.ipynb', 'variable_scope.ipynb']\n"
     ]
    },
    {
     "data": {
      "text/plain": [
       "12"
      ]
     },
     "execution_count": 36,
     "metadata": {},
     "output_type": "execute_result"
    }
   ],
   "source": [
    "s.size"
   ]
  },
  {
   "cell_type": "code",
   "execution_count": 37,
   "id": "3327b8d2",
   "metadata": {
    "ExecuteTime": {
     "end_time": "2021-12-25T02:15:39.346304Z",
     "start_time": "2021-12-25T02:15:39.331309Z"
    }
   },
   "outputs": [
    {
     "data": {
      "text/plain": [
       "['__class__',\n",
       " '__delattr__',\n",
       " '__dict__',\n",
       " '__dir__',\n",
       " '__doc__',\n",
       " '__eq__',\n",
       " '__format__',\n",
       " '__ge__',\n",
       " '__getattribute__',\n",
       " '__gt__',\n",
       " '__hash__',\n",
       " '__init__',\n",
       " '__init_subclass__',\n",
       " '__le__',\n",
       " '__lt__',\n",
       " '__module__',\n",
       " '__ne__',\n",
       " '__new__',\n",
       " '__reduce__',\n",
       " '__reduce_ex__',\n",
       " '__repr__',\n",
       " '__setattr__',\n",
       " '__sizeof__',\n",
       " '__str__',\n",
       " '__subclasshook__',\n",
       " '__weakref__',\n",
       " 'size']"
      ]
     },
     "execution_count": 37,
     "metadata": {},
     "output_type": "execute_result"
    }
   ],
   "source": [
    "dir(DirectoryPath)"
   ]
  },
  {
   "cell_type": "markdown",
   "id": "5f09f27e",
   "metadata": {},
   "source": [
    "## ex4"
   ]
  },
  {
   "cell_type": "code",
   "execution_count": 38,
   "id": "b2624af3",
   "metadata": {
    "ExecuteTime": {
     "end_time": "2021-12-25T02:21:34.441571Z",
     "start_time": "2021-12-25T02:21:34.425571Z"
    }
   },
   "outputs": [],
   "source": [
    "import logging"
   ]
  },
  {
   "cell_type": "code",
   "execution_count": 62,
   "id": "c0cef0f7",
   "metadata": {
    "ExecuteTime": {
     "end_time": "2021-12-25T02:31:10.636265Z",
     "start_time": "2021-12-25T02:31:10.634265Z"
    }
   },
   "outputs": [],
   "source": [
    "FORMAT = '%(asctime)s %(message)s'\n",
    "\n",
    "logging.basicConfig(\n",
    "    format=FORMAT,\n",
    "    level=logging.INFO,\n",
    "    datetiem='%Y-%m-%d %H:%M:%S')"
   ]
  },
  {
   "cell_type": "code",
   "execution_count": 63,
   "id": "58d19320",
   "metadata": {
    "ExecuteTime": {
     "end_time": "2021-12-25T02:31:11.076744Z",
     "start_time": "2021-12-25T02:31:11.061748Z"
    }
   },
   "outputs": [],
   "source": [
    "class LoggedScoreAccess():\n",
    "    def __init__(self, value=50):\n",
    "        self.value = value\n",
    "        \n",
    "    def __get__(self, obj, objtype=None):\n",
    "        logging.info('Accessing %r giving %r', 'score', self.value)\n",
    "        return self.value\n",
    "    \n",
    "    def __set__(self, obj, value):\n",
    "        logging.info('Updating %r giving %r', 'score', self.value)\n",
    "        self.value = value"
   ]
  },
  {
   "cell_type": "code",
   "execution_count": 64,
   "id": "66de38be",
   "metadata": {
    "ExecuteTime": {
     "end_time": "2021-12-25T02:31:11.298854Z",
     "start_time": "2021-12-25T02:31:11.283856Z"
    }
   },
   "outputs": [],
   "source": [
    "class Student:\n",
    "    score = LoggedScoreAccess()\n",
    "    \n",
    "    def __init__(self, name):\n",
    "        self.name = name"
   ]
  },
  {
   "cell_type": "code",
   "execution_count": 65,
   "id": "2cead80e",
   "metadata": {
    "ExecuteTime": {
     "end_time": "2021-12-25T02:31:11.473955Z",
     "start_time": "2021-12-25T02:31:11.468956Z"
    }
   },
   "outputs": [],
   "source": [
    "s1 = Student('Kim')\n",
    "s2 = Student('Lee')"
   ]
  },
  {
   "cell_type": "code",
   "execution_count": 66,
   "id": "3b691aed",
   "metadata": {
    "ExecuteTime": {
     "end_time": "2021-12-25T02:31:11.898725Z",
     "start_time": "2021-12-25T02:31:11.881726Z"
    }
   },
   "outputs": [
    {
     "name": "stderr",
     "output_type": "stream",
     "text": [
      "--- Logging error ---\n",
      "Traceback (most recent call last):\n",
      "  File \"C:\\Users\\SeunghaLee\\Anaconda3\\envs\\cv\\lib\\logging\\__init__.py\", line 1083, in emit\n",
      "    msg = self.format(record)\n",
      "  File \"C:\\Users\\SeunghaLee\\Anaconda3\\envs\\cv\\lib\\logging\\__init__.py\", line 927, in format\n",
      "    return fmt.format(record)\n",
      "  File \"C:\\Users\\SeunghaLee\\Anaconda3\\envs\\cv\\lib\\logging\\__init__.py\", line 666, in format\n",
      "    s = self.formatMessage(record)\n",
      "  File \"C:\\Users\\SeunghaLee\\Anaconda3\\envs\\cv\\lib\\logging\\__init__.py\", line 635, in formatMessage\n",
      "    return self._style.format(record)\n",
      "  File \"C:\\Users\\SeunghaLee\\Anaconda3\\envs\\cv\\lib\\logging\\__init__.py\", line 434, in format\n",
      "    return self._format(record)\n",
      "  File \"C:\\Users\\SeunghaLee\\Anaconda3\\envs\\cv\\lib\\logging\\__init__.py\", line 430, in _format\n",
      "    return self._fmt % record.__dict__\n",
      "ValueError: incomplete format\n",
      "Call stack:\n",
      "  File \"C:\\Users\\SeunghaLee\\Anaconda3\\envs\\cv\\lib\\runpy.py\", line 197, in _run_module_as_main\n",
      "    return _run_code(code, main_globals, None,\n",
      "  File \"C:\\Users\\SeunghaLee\\Anaconda3\\envs\\cv\\lib\\runpy.py\", line 87, in _run_code\n",
      "    exec(code, run_globals)\n",
      "  File \"C:\\Users\\SeunghaLee\\Anaconda3\\envs\\cv\\lib\\site-packages\\ipykernel_launcher.py\", line 16, in <module>\n",
      "    app.launch_new_instance()\n",
      "  File \"C:\\Users\\SeunghaLee\\Anaconda3\\envs\\cv\\lib\\site-packages\\traitlets\\config\\application.py\", line 846, in launch_instance\n",
      "    app.start()\n",
      "  File \"C:\\Users\\SeunghaLee\\Anaconda3\\envs\\cv\\lib\\site-packages\\ipykernel\\kernelapp.py\", line 677, in start\n",
      "    self.io_loop.start()\n",
      "  File \"C:\\Users\\SeunghaLee\\Anaconda3\\envs\\cv\\lib\\site-packages\\tornado\\platform\\asyncio.py\", line 199, in start\n",
      "    self.asyncio_loop.run_forever()\n",
      "  File \"C:\\Users\\SeunghaLee\\Anaconda3\\envs\\cv\\lib\\asyncio\\base_events.py\", line 596, in run_forever\n",
      "    self._run_once()\n",
      "  File \"C:\\Users\\SeunghaLee\\Anaconda3\\envs\\cv\\lib\\asyncio\\base_events.py\", line 1890, in _run_once\n",
      "    handle._run()\n",
      "  File \"C:\\Users\\SeunghaLee\\Anaconda3\\envs\\cv\\lib\\asyncio\\events.py\", line 80, in _run\n",
      "    self._context.run(self._callback, *self._args)\n",
      "  File \"C:\\Users\\SeunghaLee\\Anaconda3\\envs\\cv\\lib\\site-packages\\ipykernel\\kernelbase.py\", line 457, in dispatch_queue\n",
      "    await self.process_one()\n",
      "  File \"C:\\Users\\SeunghaLee\\Anaconda3\\envs\\cv\\lib\\site-packages\\ipykernel\\kernelbase.py\", line 446, in process_one\n",
      "    await dispatch(*args)\n",
      "  File \"C:\\Users\\SeunghaLee\\Anaconda3\\envs\\cv\\lib\\site-packages\\ipykernel\\kernelbase.py\", line 353, in dispatch_shell\n",
      "    await result\n",
      "  File \"C:\\Users\\SeunghaLee\\Anaconda3\\envs\\cv\\lib\\site-packages\\ipykernel\\kernelbase.py\", line 648, in execute_request\n",
      "    reply_content = await reply_content\n",
      "  File \"C:\\Users\\SeunghaLee\\Anaconda3\\envs\\cv\\lib\\site-packages\\ipykernel\\ipkernel.py\", line 353, in do_execute\n",
      "    res = shell.run_cell(code, store_history=store_history, silent=silent)\n",
      "  File \"C:\\Users\\SeunghaLee\\Anaconda3\\envs\\cv\\lib\\site-packages\\ipykernel\\zmqshell.py\", line 533, in run_cell\n",
      "    return super(ZMQInteractiveShell, self).run_cell(*args, **kwargs)\n",
      "  File \"C:\\Users\\SeunghaLee\\Anaconda3\\envs\\cv\\lib\\site-packages\\IPython\\core\\interactiveshell.py\", line 2901, in run_cell\n",
      "    result = self._run_cell(\n",
      "  File \"C:\\Users\\SeunghaLee\\Anaconda3\\envs\\cv\\lib\\site-packages\\IPython\\core\\interactiveshell.py\", line 2947, in _run_cell\n",
      "    return runner(coro)\n",
      "  File \"C:\\Users\\SeunghaLee\\Anaconda3\\envs\\cv\\lib\\site-packages\\IPython\\core\\async_helpers.py\", line 68, in _pseudo_sync_runner\n",
      "    coro.send(None)\n",
      "  File \"C:\\Users\\SeunghaLee\\Anaconda3\\envs\\cv\\lib\\site-packages\\IPython\\core\\interactiveshell.py\", line 3172, in run_cell_async\n",
      "    has_raised = await self.run_ast_nodes(code_ast.body, cell_name,\n",
      "  File \"C:\\Users\\SeunghaLee\\Anaconda3\\envs\\cv\\lib\\site-packages\\IPython\\core\\interactiveshell.py\", line 3364, in run_ast_nodes\n",
      "    if (await self.run_code(code, result,  async_=asy)):\n",
      "  File \"C:\\Users\\SeunghaLee\\Anaconda3\\envs\\cv\\lib\\site-packages\\IPython\\core\\interactiveshell.py\", line 3444, in run_code\n",
      "    exec(code_obj, self.user_global_ns, self.user_ns)\n",
      "  File \"C:\\Users\\SEUNGH~1\\AppData\\Local\\Temp/ipykernel_19716/575505385.py\", line 1, in <module>\n",
      "    s1.score\n",
      "  File \"C:\\Users\\SEUNGH~1\\AppData\\Local\\Temp/ipykernel_19716/3758698972.py\", line 6, in __get__\n",
      "    logging.info('Accessing %r giving %r', 'score', self.value)\n",
      "Message: 'Accessing %r giving %r'\n",
      "Arguments: ('score', 50)\n"
     ]
    },
    {
     "data": {
      "text/plain": [
       "50"
      ]
     },
     "execution_count": 66,
     "metadata": {},
     "output_type": "execute_result"
    }
   ],
   "source": [
    "s1.score"
   ]
  },
  {
   "cell_type": "code",
   "execution_count": 67,
   "id": "42645fe3",
   "metadata": {
    "ExecuteTime": {
     "end_time": "2021-12-25T02:31:12.601608Z",
     "start_time": "2021-12-25T02:31:12.591610Z"
    },
    "scrolled": false
   },
   "outputs": [
    {
     "name": "stderr",
     "output_type": "stream",
     "text": [
      "--- Logging error ---\n",
      "Traceback (most recent call last):\n",
      "  File \"C:\\Users\\SeunghaLee\\Anaconda3\\envs\\cv\\lib\\logging\\__init__.py\", line 1083, in emit\n",
      "    msg = self.format(record)\n",
      "  File \"C:\\Users\\SeunghaLee\\Anaconda3\\envs\\cv\\lib\\logging\\__init__.py\", line 927, in format\n",
      "    return fmt.format(record)\n",
      "  File \"C:\\Users\\SeunghaLee\\Anaconda3\\envs\\cv\\lib\\logging\\__init__.py\", line 666, in format\n",
      "    s = self.formatMessage(record)\n",
      "  File \"C:\\Users\\SeunghaLee\\Anaconda3\\envs\\cv\\lib\\logging\\__init__.py\", line 635, in formatMessage\n",
      "    return self._style.format(record)\n",
      "  File \"C:\\Users\\SeunghaLee\\Anaconda3\\envs\\cv\\lib\\logging\\__init__.py\", line 434, in format\n",
      "    return self._format(record)\n",
      "  File \"C:\\Users\\SeunghaLee\\Anaconda3\\envs\\cv\\lib\\logging\\__init__.py\", line 430, in _format\n",
      "    return self._fmt % record.__dict__\n",
      "ValueError: incomplete format\n",
      "Call stack:\n",
      "  File \"C:\\Users\\SeunghaLee\\Anaconda3\\envs\\cv\\lib\\runpy.py\", line 197, in _run_module_as_main\n",
      "    return _run_code(code, main_globals, None,\n",
      "  File \"C:\\Users\\SeunghaLee\\Anaconda3\\envs\\cv\\lib\\runpy.py\", line 87, in _run_code\n",
      "    exec(code, run_globals)\n",
      "  File \"C:\\Users\\SeunghaLee\\Anaconda3\\envs\\cv\\lib\\site-packages\\ipykernel_launcher.py\", line 16, in <module>\n",
      "    app.launch_new_instance()\n",
      "  File \"C:\\Users\\SeunghaLee\\Anaconda3\\envs\\cv\\lib\\site-packages\\traitlets\\config\\application.py\", line 846, in launch_instance\n",
      "    app.start()\n",
      "  File \"C:\\Users\\SeunghaLee\\Anaconda3\\envs\\cv\\lib\\site-packages\\ipykernel\\kernelapp.py\", line 677, in start\n",
      "    self.io_loop.start()\n",
      "  File \"C:\\Users\\SeunghaLee\\Anaconda3\\envs\\cv\\lib\\site-packages\\tornado\\platform\\asyncio.py\", line 199, in start\n",
      "    self.asyncio_loop.run_forever()\n",
      "  File \"C:\\Users\\SeunghaLee\\Anaconda3\\envs\\cv\\lib\\asyncio\\base_events.py\", line 596, in run_forever\n",
      "    self._run_once()\n",
      "  File \"C:\\Users\\SeunghaLee\\Anaconda3\\envs\\cv\\lib\\asyncio\\base_events.py\", line 1890, in _run_once\n",
      "    handle._run()\n",
      "  File \"C:\\Users\\SeunghaLee\\Anaconda3\\envs\\cv\\lib\\asyncio\\events.py\", line 80, in _run\n",
      "    self._context.run(self._callback, *self._args)\n",
      "  File \"C:\\Users\\SeunghaLee\\Anaconda3\\envs\\cv\\lib\\site-packages\\ipykernel\\kernelbase.py\", line 457, in dispatch_queue\n",
      "    await self.process_one()\n",
      "  File \"C:\\Users\\SeunghaLee\\Anaconda3\\envs\\cv\\lib\\site-packages\\ipykernel\\kernelbase.py\", line 446, in process_one\n",
      "    await dispatch(*args)\n",
      "  File \"C:\\Users\\SeunghaLee\\Anaconda3\\envs\\cv\\lib\\site-packages\\ipykernel\\kernelbase.py\", line 353, in dispatch_shell\n",
      "    await result\n",
      "  File \"C:\\Users\\SeunghaLee\\Anaconda3\\envs\\cv\\lib\\site-packages\\ipykernel\\kernelbase.py\", line 648, in execute_request\n",
      "    reply_content = await reply_content\n",
      "  File \"C:\\Users\\SeunghaLee\\Anaconda3\\envs\\cv\\lib\\site-packages\\ipykernel\\ipkernel.py\", line 353, in do_execute\n",
      "    res = shell.run_cell(code, store_history=store_history, silent=silent)\n",
      "  File \"C:\\Users\\SeunghaLee\\Anaconda3\\envs\\cv\\lib\\site-packages\\ipykernel\\zmqshell.py\", line 533, in run_cell\n",
      "    return super(ZMQInteractiveShell, self).run_cell(*args, **kwargs)\n",
      "  File \"C:\\Users\\SeunghaLee\\Anaconda3\\envs\\cv\\lib\\site-packages\\IPython\\core\\interactiveshell.py\", line 2901, in run_cell\n",
      "    result = self._run_cell(\n",
      "  File \"C:\\Users\\SeunghaLee\\Anaconda3\\envs\\cv\\lib\\site-packages\\IPython\\core\\interactiveshell.py\", line 2947, in _run_cell\n",
      "    return runner(coro)\n",
      "  File \"C:\\Users\\SeunghaLee\\Anaconda3\\envs\\cv\\lib\\site-packages\\IPython\\core\\async_helpers.py\", line 68, in _pseudo_sync_runner\n",
      "    coro.send(None)\n",
      "  File \"C:\\Users\\SeunghaLee\\Anaconda3\\envs\\cv\\lib\\site-packages\\IPython\\core\\interactiveshell.py\", line 3172, in run_cell_async\n",
      "    has_raised = await self.run_ast_nodes(code_ast.body, cell_name,\n",
      "  File \"C:\\Users\\SeunghaLee\\Anaconda3\\envs\\cv\\lib\\site-packages\\IPython\\core\\interactiveshell.py\", line 3364, in run_ast_nodes\n",
      "    if (await self.run_code(code, result,  async_=asy)):\n",
      "  File \"C:\\Users\\SeunghaLee\\Anaconda3\\envs\\cv\\lib\\site-packages\\IPython\\core\\interactiveshell.py\", line 3444, in run_code\n",
      "    exec(code_obj, self.user_global_ns, self.user_ns)\n",
      "  File \"C:\\Users\\SEUNGH~1\\AppData\\Local\\Temp/ipykernel_19716/719186985.py\", line 1, in <module>\n",
      "    s1.score += 20\n",
      "  File \"C:\\Users\\SEUNGH~1\\AppData\\Local\\Temp/ipykernel_19716/3758698972.py\", line 6, in __get__\n",
      "    logging.info('Accessing %r giving %r', 'score', self.value)\n",
      "Message: 'Accessing %r giving %r'\n",
      "Arguments: ('score', 50)\n",
      "--- Logging error ---\n",
      "Traceback (most recent call last):\n",
      "  File \"C:\\Users\\SeunghaLee\\Anaconda3\\envs\\cv\\lib\\logging\\__init__.py\", line 1083, in emit\n",
      "    msg = self.format(record)\n",
      "  File \"C:\\Users\\SeunghaLee\\Anaconda3\\envs\\cv\\lib\\logging\\__init__.py\", line 927, in format\n",
      "    return fmt.format(record)\n",
      "  File \"C:\\Users\\SeunghaLee\\Anaconda3\\envs\\cv\\lib\\logging\\__init__.py\", line 666, in format\n",
      "    s = self.formatMessage(record)\n",
      "  File \"C:\\Users\\SeunghaLee\\Anaconda3\\envs\\cv\\lib\\logging\\__init__.py\", line 635, in formatMessage\n",
      "    return self._style.format(record)\n",
      "  File \"C:\\Users\\SeunghaLee\\Anaconda3\\envs\\cv\\lib\\logging\\__init__.py\", line 434, in format\n",
      "    return self._format(record)\n",
      "  File \"C:\\Users\\SeunghaLee\\Anaconda3\\envs\\cv\\lib\\logging\\__init__.py\", line 430, in _format\n",
      "    return self._fmt % record.__dict__\n",
      "ValueError: incomplete format\n",
      "Call stack:\n",
      "  File \"C:\\Users\\SeunghaLee\\Anaconda3\\envs\\cv\\lib\\runpy.py\", line 197, in _run_module_as_main\n",
      "    return _run_code(code, main_globals, None,\n",
      "  File \"C:\\Users\\SeunghaLee\\Anaconda3\\envs\\cv\\lib\\runpy.py\", line 87, in _run_code\n",
      "    exec(code, run_globals)\n",
      "  File \"C:\\Users\\SeunghaLee\\Anaconda3\\envs\\cv\\lib\\site-packages\\ipykernel_launcher.py\", line 16, in <module>\n",
      "    app.launch_new_instance()\n",
      "  File \"C:\\Users\\SeunghaLee\\Anaconda3\\envs\\cv\\lib\\site-packages\\traitlets\\config\\application.py\", line 846, in launch_instance\n",
      "    app.start()\n",
      "  File \"C:\\Users\\SeunghaLee\\Anaconda3\\envs\\cv\\lib\\site-packages\\ipykernel\\kernelapp.py\", line 677, in start\n",
      "    self.io_loop.start()\n",
      "  File \"C:\\Users\\SeunghaLee\\Anaconda3\\envs\\cv\\lib\\site-packages\\tornado\\platform\\asyncio.py\", line 199, in start\n",
      "    self.asyncio_loop.run_forever()\n",
      "  File \"C:\\Users\\SeunghaLee\\Anaconda3\\envs\\cv\\lib\\asyncio\\base_events.py\", line 596, in run_forever\n",
      "    self._run_once()\n",
      "  File \"C:\\Users\\SeunghaLee\\Anaconda3\\envs\\cv\\lib\\asyncio\\base_events.py\", line 1890, in _run_once\n",
      "    handle._run()\n",
      "  File \"C:\\Users\\SeunghaLee\\Anaconda3\\envs\\cv\\lib\\asyncio\\events.py\", line 80, in _run\n",
      "    self._context.run(self._callback, *self._args)\n",
      "  File \"C:\\Users\\SeunghaLee\\Anaconda3\\envs\\cv\\lib\\site-packages\\ipykernel\\kernelbase.py\", line 457, in dispatch_queue\n",
      "    await self.process_one()\n",
      "  File \"C:\\Users\\SeunghaLee\\Anaconda3\\envs\\cv\\lib\\site-packages\\ipykernel\\kernelbase.py\", line 446, in process_one\n",
      "    await dispatch(*args)\n",
      "  File \"C:\\Users\\SeunghaLee\\Anaconda3\\envs\\cv\\lib\\site-packages\\ipykernel\\kernelbase.py\", line 353, in dispatch_shell\n",
      "    await result\n",
      "  File \"C:\\Users\\SeunghaLee\\Anaconda3\\envs\\cv\\lib\\site-packages\\ipykernel\\kernelbase.py\", line 648, in execute_request\n",
      "    reply_content = await reply_content\n",
      "  File \"C:\\Users\\SeunghaLee\\Anaconda3\\envs\\cv\\lib\\site-packages\\ipykernel\\ipkernel.py\", line 353, in do_execute\n",
      "    res = shell.run_cell(code, store_history=store_history, silent=silent)\n",
      "  File \"C:\\Users\\SeunghaLee\\Anaconda3\\envs\\cv\\lib\\site-packages\\ipykernel\\zmqshell.py\", line 533, in run_cell\n",
      "    return super(ZMQInteractiveShell, self).run_cell(*args, **kwargs)\n",
      "  File \"C:\\Users\\SeunghaLee\\Anaconda3\\envs\\cv\\lib\\site-packages\\IPython\\core\\interactiveshell.py\", line 2901, in run_cell\n",
      "    result = self._run_cell(\n",
      "  File \"C:\\Users\\SeunghaLee\\Anaconda3\\envs\\cv\\lib\\site-packages\\IPython\\core\\interactiveshell.py\", line 2947, in _run_cell\n",
      "    return runner(coro)\n",
      "  File \"C:\\Users\\SeunghaLee\\Anaconda3\\envs\\cv\\lib\\site-packages\\IPython\\core\\async_helpers.py\", line 68, in _pseudo_sync_runner\n",
      "    coro.send(None)\n",
      "  File \"C:\\Users\\SeunghaLee\\Anaconda3\\envs\\cv\\lib\\site-packages\\IPython\\core\\interactiveshell.py\", line 3172, in run_cell_async\n",
      "    has_raised = await self.run_ast_nodes(code_ast.body, cell_name,\n",
      "  File \"C:\\Users\\SeunghaLee\\Anaconda3\\envs\\cv\\lib\\site-packages\\IPython\\core\\interactiveshell.py\", line 3364, in run_ast_nodes\n",
      "    if (await self.run_code(code, result,  async_=asy)):\n",
      "  File \"C:\\Users\\SeunghaLee\\Anaconda3\\envs\\cv\\lib\\site-packages\\IPython\\core\\interactiveshell.py\", line 3444, in run_code\n",
      "    exec(code_obj, self.user_global_ns, self.user_ns)\n",
      "  File \"C:\\Users\\SEUNGH~1\\AppData\\Local\\Temp/ipykernel_19716/719186985.py\", line 1, in <module>\n",
      "    s1.score += 20\n",
      "  File \"C:\\Users\\SEUNGH~1\\AppData\\Local\\Temp/ipykernel_19716/3758698972.py\", line 10, in __set__\n",
      "    logging.info('Updating %r giving %r', 'score', self.value)\n",
      "Message: 'Updating %r giving %r'\n",
      "Arguments: ('score', 50)\n"
     ]
    }
   ],
   "source": [
    "s1.score += 20"
   ]
  },
  {
   "cell_type": "code",
   "execution_count": null,
   "id": "f43d2082",
   "metadata": {},
   "outputs": [],
   "source": []
  }
 ],
 "metadata": {
  "kernelspec": {
   "display_name": "Python 3 (ipykernel)",
   "language": "python",
   "name": "python3"
  },
  "language_info": {
   "codemirror_mode": {
    "name": "ipython",
    "version": 3
   },
   "file_extension": ".py",
   "mimetype": "text/x-python",
   "name": "python",
   "nbconvert_exporter": "python",
   "pygments_lexer": "ipython3",
   "version": "3.9.7"
  },
  "toc": {
   "base_numbering": 1,
   "nav_menu": {},
   "number_sections": true,
   "sideBar": true,
   "skip_h1_title": false,
   "title_cell": "Table of Contents",
   "title_sidebar": "Contents",
   "toc_cell": false,
   "toc_position": {},
   "toc_section_display": true,
   "toc_window_display": false
  }
 },
 "nbformat": 4,
 "nbformat_minor": 5
}
