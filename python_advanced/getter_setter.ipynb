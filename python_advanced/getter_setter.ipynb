{
 "cells": [
  {
   "cell_type": "markdown",
   "id": "b8fbe589",
   "metadata": {},
   "source": [
    "# Getter, Setter"
   ]
  },
  {
   "cell_type": "markdown",
   "id": "4d63186d",
   "metadata": {},
   "source": [
    "property : 사용 장점\n",
    "1. 파이쏘닉한 코드 작성 가능\n",
    "2. 변수의 제약 설정 가능\n",
    "3. getter, setter 효과 동등 -> 코드 일관성 있음\n",
    " - 캡슐화, 유효성 검사 기능 추가 용이\n",
    " - 대체 표현 : 속성 노출, 내부 표현 숨기기 가능\n",
    " - 속성이 수명 및 메모리 관리 용이\n",
    " - 디버깅 용이\n",
    " - getter, setter 작동에 대해 설계된 여러 라이브러리 상호 운용성 증가"
   ]
  },
  {
   "cell_type": "markdown",
   "id": "bf576061",
   "metadata": {},
   "source": [
    "## Ex1\n"
   ]
  },
  {
   "cell_type": "code",
   "execution_count": 4,
   "id": "a9c213ac",
   "metadata": {
    "ExecuteTime": {
     "end_time": "2021-12-21T20:38:42.538217Z",
     "start_time": "2021-12-21T20:38:42.521898Z"
    }
   },
   "outputs": [],
   "source": [
    "class SampleA:\n",
    "    def __init__(self):\n",
    "        self.x = 0\n",
    "        self.__y = 0\n",
    "    \n",
    "    @property #geter\n",
    "    def y(self):\n",
    "        print('called get method')\n",
    "        return self.__y\n",
    "    \n",
    "    @y.setter\n",
    "    def y(self, value):\n",
    "        print('called set method')\n",
    "        self.__y = value\n",
    "        \n",
    "    @y.deleter\n",
    "    def y(self):\n",
    "        del self.__y"
   ]
  },
  {
   "cell_type": "code",
   "execution_count": 9,
   "id": "f52042ca",
   "metadata": {
    "ExecuteTime": {
     "end_time": "2021-12-21T20:40:22.567129Z",
     "start_time": "2021-12-21T20:40:22.551130Z"
    }
   },
   "outputs": [
    {
     "name": "stdout",
     "output_type": "stream",
     "text": [
      "called set method\n",
      "called get method\n"
     ]
    },
    {
     "data": {
      "text/plain": [
       "2"
      ]
     },
     "execution_count": 9,
     "metadata": {},
     "output_type": "execute_result"
    }
   ],
   "source": [
    "a = SampleA()\n",
    "a.y = 2\n",
    "a.y"
   ]
  },
  {
   "cell_type": "code",
   "execution_count": 10,
   "id": "79ef2d94",
   "metadata": {
    "ExecuteTime": {
     "end_time": "2021-12-21T20:40:23.073934Z",
     "start_time": "2021-12-21T20:40:23.069933Z"
    }
   },
   "outputs": [
    {
     "data": {
      "text/plain": [
       "['__class__',\n",
       " '__delattr__',\n",
       " '__dict__',\n",
       " '__dir__',\n",
       " '__doc__',\n",
       " '__eq__',\n",
       " '__format__',\n",
       " '__ge__',\n",
       " '__getattribute__',\n",
       " '__gt__',\n",
       " '__hash__',\n",
       " '__init__',\n",
       " '__init_subclass__',\n",
       " '__le__',\n",
       " '__lt__',\n",
       " '__module__',\n",
       " '__ne__',\n",
       " '__new__',\n",
       " '__reduce__',\n",
       " '__reduce_ex__',\n",
       " '__repr__',\n",
       " '__setattr__',\n",
       " '__sizeof__',\n",
       " '__str__',\n",
       " '__subclasshook__',\n",
       " '__weakref__',\n",
       " 'x',\n",
       " 'y']"
      ]
     },
     "execution_count": 10,
     "metadata": {},
     "output_type": "execute_result"
    }
   ],
   "source": [
    "del a.y\n",
    "dir(a)"
   ]
  },
  {
   "cell_type": "markdown",
   "id": "996aecbe",
   "metadata": {},
   "source": [
    "## ex2"
   ]
  },
  {
   "cell_type": "code",
   "execution_count": 13,
   "id": "1a56c103",
   "metadata": {
    "ExecuteTime": {
     "end_time": "2021-12-21T20:43:46.576643Z",
     "start_time": "2021-12-21T20:43:46.571644Z"
    }
   },
   "outputs": [],
   "source": [
    "class SampleB:\n",
    "    def __init__(self):\n",
    "        self.x = 0\n",
    "        self.__y = 0\n",
    "    \n",
    "    @property #geter\n",
    "    def y(self):\n",
    "#         print('called get method')\n",
    "        return self.__y\n",
    "    \n",
    "    @y.setter\n",
    "    def y(self, value):\n",
    "#         print('called set method')\n",
    "        if value < 0:\n",
    "            raise ValueError('0보다 큰 값을 입력하세요')\n",
    "        self.__y = value\n",
    "        \n",
    "    @y.deleter\n",
    "    def y(self):\n",
    "        del self.__y"
   ]
  },
  {
   "cell_type": "code",
   "execution_count": 15,
   "id": "63c6768f",
   "metadata": {
    "ExecuteTime": {
     "end_time": "2021-12-21T20:44:10.452038Z",
     "start_time": "2021-12-21T20:44:10.440038Z"
    }
   },
   "outputs": [
    {
     "ename": "ValueError",
     "evalue": "0보다 큰 값을 입력하세요",
     "output_type": "error",
     "traceback": [
      "\u001b[1;31m---------------------------------------------------------------------------\u001b[0m",
      "\u001b[1;31mValueError\u001b[0m                                Traceback (most recent call last)",
      "\u001b[1;32mC:\\Users\\SEUNGH~1\\AppData\\Local\\Temp/ipykernel_3240/78294532.py\u001b[0m in \u001b[0;36m<module>\u001b[1;34m\u001b[0m\n\u001b[0;32m      3\u001b[0m \u001b[0mb\u001b[0m\u001b[1;33m.\u001b[0m\u001b[0mx\u001b[0m \u001b[1;33m=\u001b[0m \u001b[1;36m1\u001b[0m\u001b[1;33m\u001b[0m\u001b[1;33m\u001b[0m\u001b[0m\n\u001b[0;32m      4\u001b[0m \u001b[0mb\u001b[0m\u001b[1;33m.\u001b[0m\u001b[0my\u001b[0m \u001b[1;33m=\u001b[0m \u001b[1;36m10\u001b[0m\u001b[1;33m\u001b[0m\u001b[1;33m\u001b[0m\u001b[0m\n\u001b[1;32m----> 5\u001b[1;33m \u001b[0mb\u001b[0m\u001b[1;33m.\u001b[0m\u001b[0my\u001b[0m \u001b[1;33m=\u001b[0m \u001b[1;33m-\u001b[0m\u001b[1;36m5\u001b[0m\u001b[1;33m\u001b[0m\u001b[1;33m\u001b[0m\u001b[0m\n\u001b[0m",
      "\u001b[1;32mC:\\Users\\SEUNGH~1\\AppData\\Local\\Temp/ipykernel_3240/171152372.py\u001b[0m in \u001b[0;36my\u001b[1;34m(self, value)\u001b[0m\n\u001b[0;32m     13\u001b[0m \u001b[1;31m#         print('called set method')\u001b[0m\u001b[1;33m\u001b[0m\u001b[1;33m\u001b[0m\u001b[0m\n\u001b[0;32m     14\u001b[0m         \u001b[1;32mif\u001b[0m \u001b[0mvalue\u001b[0m \u001b[1;33m<\u001b[0m \u001b[1;36m0\u001b[0m\u001b[1;33m:\u001b[0m\u001b[1;33m\u001b[0m\u001b[1;33m\u001b[0m\u001b[0m\n\u001b[1;32m---> 15\u001b[1;33m             \u001b[1;32mraise\u001b[0m \u001b[0mValueError\u001b[0m\u001b[1;33m(\u001b[0m\u001b[1;34m'0보다 큰 값을 입력하세요'\u001b[0m\u001b[1;33m)\u001b[0m\u001b[1;33m\u001b[0m\u001b[1;33m\u001b[0m\u001b[0m\n\u001b[0m\u001b[0;32m     16\u001b[0m         \u001b[0mself\u001b[0m\u001b[1;33m.\u001b[0m\u001b[0m__y\u001b[0m \u001b[1;33m=\u001b[0m \u001b[0mvalue\u001b[0m\u001b[1;33m\u001b[0m\u001b[1;33m\u001b[0m\u001b[0m\n\u001b[0;32m     17\u001b[0m \u001b[1;33m\u001b[0m\u001b[0m\n",
      "\u001b[1;31mValueError\u001b[0m: 0보다 큰 값을 입력하세요"
     ]
    }
   ],
   "source": [
    "b = SampleB()\n",
    "\n",
    "b.x = 1\n",
    "b.y = 10\n",
    "b.y = -5"
   ]
  },
  {
   "cell_type": "code",
   "execution_count": null,
   "id": "b41cad16",
   "metadata": {},
   "outputs": [],
   "source": []
  }
 ],
 "metadata": {
  "kernelspec": {
   "display_name": "cv",
   "language": "python",
   "name": "cv"
  },
  "language_info": {
   "codemirror_mode": {
    "name": "ipython",
    "version": 3
   },
   "file_extension": ".py",
   "mimetype": "text/x-python",
   "name": "python",
   "nbconvert_exporter": "python",
   "pygments_lexer": "ipython3",
   "version": "3.9.7"
  },
  "toc": {
   "base_numbering": 1,
   "nav_menu": {},
   "number_sections": true,
   "sideBar": true,
   "skip_h1_title": false,
   "title_cell": "Table of Contents",
   "title_sidebar": "Contents",
   "toc_cell": false,
   "toc_position": {},
   "toc_section_display": true,
   "toc_window_display": false
  }
 },
 "nbformat": 4,
 "nbformat_minor": 5
}
