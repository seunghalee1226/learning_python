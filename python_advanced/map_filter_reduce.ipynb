{
 "cells": [
  {
   "cell_type": "markdown",
   "id": "6e294a8a",
   "metadata": {},
   "source": [
    "# lambda, reduce, map, filter functions\n",
    "\n",
    "- keyword - lambda, map, filter, reduce"
   ]
  },
  {
   "cell_type": "markdown",
   "id": "428420da",
   "metadata": {},
   "source": [
    "- lambda : 익명, 힙 영역 사용 즉시 소멸\n",
    "- 일반함수 : 재 사용성 위해 메모리 저장\n",
    "- 시퀀스형 전처리에 reduce, map, filter 주로 사용"
   ]
  },
  {
   "cell_type": "code",
   "execution_count": 3,
   "id": "4fb37422",
   "metadata": {
    "ExecuteTime": {
     "end_time": "2021-12-19T20:48:38.563802Z",
     "start_time": "2021-12-19T20:48:38.554802Z"
    }
   },
   "outputs": [
    {
     "name": "stdout",
     "output_type": "stream",
     "text": [
      "ex1 >  204\n"
     ]
    }
   ],
   "source": [
    "#ex1\n",
    "cul = lambda a, b, c: a * b + c\n",
    "\n",
    "print('ex1 > ', cul(10, 20, 4))"
   ]
  },
  {
   "cell_type": "code",
   "execution_count": 13,
   "id": "7c2d3d42",
   "metadata": {
    "ExecuteTime": {
     "end_time": "2021-12-19T20:52:10.682828Z",
     "start_time": "2021-12-19T20:52:10.663808Z"
    }
   },
   "outputs": [
    {
     "name": "stdout",
     "output_type": "stream",
     "text": [
      "ex2 >  [10, 20, 30, 40, 50, 60, 70, 80, 90, 100]\n",
      "<map object at 0x0000022E6EBFC400>\n",
      "[100, 400, 900, 1600, 2500, 3600, 4900, 6400, 8100, 10000]\n"
     ]
    }
   ],
   "source": [
    "#ex2\n",
    "'''\n",
    "map - list를 순회하면서 함수를 사용할 때\n",
    "'''\n",
    "\n",
    "digits1 = [x*10 for x in range(1, 11)]\n",
    "print('ex2 > ',  digits1)\n",
    "\n",
    "result = map(lambda i: i ** 2, digits1)\n",
    "print(result)\n",
    "\n",
    "result = list(map(lambda i: i ** 2, digits1))\n",
    "print(result)"
   ]
  },
  {
   "cell_type": "code",
   "execution_count": 16,
   "id": "f360604c",
   "metadata": {
    "ExecuteTime": {
     "end_time": "2021-12-19T20:57:23.248613Z",
     "start_time": "2021-12-19T20:57:23.240614Z"
    }
   },
   "outputs": [
    {
     "name": "stdout",
     "output_type": "stream",
     "text": [
      "ex3 >  [2, 4, 6, 8, 10]\n"
     ]
    }
   ],
   "source": [
    "#ex3\n",
    "digits2 = [x for x in range(1, 11)]\n",
    "result = list(filter(lambda x: x % 2 == 0, digits2))\n",
    "print('ex3 > ', result)"
   ]
  },
  {
   "cell_type": "code",
   "execution_count": 18,
   "id": "95e1844d",
   "metadata": {
    "ExecuteTime": {
     "end_time": "2021-12-19T21:01:39.612164Z",
     "start_time": "2021-12-19T21:01:39.604163Z"
    }
   },
   "outputs": [
    {
     "name": "stdout",
     "output_type": "stream",
     "text": [
      "ex4 >  5050\n"
     ]
    }
   ],
   "source": [
    "#ex4\n",
    "'''\n",
    "결과값이 리스트 형이 아니라 값 형태로 반환을 해주는 형태\n",
    "python 3.x 부터는 내장함수에서 빠졌기 때문에 따로 import 해줘야 함\n",
    "'''\n",
    "from functools import reduce\n",
    "\n",
    "digits3 = [x for x in range(1, 101)]\n",
    "result = reduce(lambda x, y: x + y, digits3)\n",
    "print('ex4 > ', result)"
   ]
  },
  {
   "cell_type": "code",
   "execution_count": null,
   "id": "0bd81cbb",
   "metadata": {},
   "outputs": [],
   "source": []
  }
 ],
 "metadata": {
  "kernelspec": {
   "display_name": "cv",
   "language": "python",
   "name": "cv"
  },
  "language_info": {
   "codemirror_mode": {
    "name": "ipython",
    "version": 3
   },
   "file_extension": ".py",
   "mimetype": "text/x-python",
   "name": "python",
   "nbconvert_exporter": "python",
   "pygments_lexer": "ipython3",
   "version": "3.9.7"
  },
  "toc": {
   "base_numbering": 1,
   "nav_menu": {},
   "number_sections": true,
   "sideBar": true,
   "skip_h1_title": false,
   "title_cell": "Table of Contents",
   "title_sidebar": "Contents",
   "toc_cell": false,
   "toc_position": {},
   "toc_section_display": true,
   "toc_window_display": false
  }
 },
 "nbformat": 4,
 "nbformat_minor": 5
}
