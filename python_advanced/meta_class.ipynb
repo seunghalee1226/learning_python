{
 "cells": [
  {
   "cell_type": "markdown",
   "id": "4025f21f",
   "metadata": {},
   "source": [
    "# 메타클래스"
   ]
  },
  {
   "cell_type": "markdown",
   "id": "024ad633",
   "metadata": {},
   "source": [
    "메타 클래스\n",
    "1. 클래스를 만드는 역할 -> 의도하는 방향으로 클래스 커스텀\n",
    "2. 프레임워크 작성 시 필수\n",
    "3. 동적 생성(type), 커스텀 생성(type) 함수\n",
    "4. 커스텀 클래스 -> 검증 클래스 등\n",
    "5. 엄격한 class 사용 요구"
   ]
  },
  {
   "cell_type": "markdown",
   "id": "3126f603",
   "metadata": {},
   "source": [
    "## ex1"
   ]
  },
  {
   "cell_type": "code",
   "execution_count": 1,
   "id": "64e9463f",
   "metadata": {
    "ExecuteTime": {
     "end_time": "2021-12-23T03:08:23.297616Z",
     "start_time": "2021-12-23T03:08:23.279615Z"
    }
   },
   "outputs": [],
   "source": [
    "class SampleA():\n",
    "    pass"
   ]
  },
  {
   "cell_type": "code",
   "execution_count": 3,
   "id": "ba7eb201",
   "metadata": {
    "ExecuteTime": {
     "end_time": "2021-12-23T03:10:23.868612Z",
     "start_time": "2021-12-23T03:10:23.858612Z"
    }
   },
   "outputs": [],
   "source": [
    "obj1 = SampleA() # 변수에 할당, 복사 가능, 새로운 속성 추가 가능, 함수 인자로 넘기기 가능"
   ]
  },
  {
   "cell_type": "code",
   "execution_count": 4,
   "id": "d8dc1f04",
   "metadata": {
    "ExecuteTime": {
     "end_time": "2021-12-23T03:20:38.722576Z",
     "start_time": "2021-12-23T03:20:38.716573Z"
    }
   },
   "outputs": [
    {
     "data": {
      "text/plain": [
       "__main__.SampleA"
      ]
     },
     "execution_count": 4,
     "metadata": {},
     "output_type": "execute_result"
    }
   ],
   "source": [
    "obj1.__class__"
   ]
  },
  {
   "cell_type": "code",
   "execution_count": 5,
   "id": "56eaeec8",
   "metadata": {
    "ExecuteTime": {
     "end_time": "2021-12-23T03:21:13.820260Z",
     "start_time": "2021-12-23T03:21:13.810256Z"
    }
   },
   "outputs": [
    {
     "data": {
      "text/plain": [
       "__main__.SampleA"
      ]
     },
     "execution_count": 5,
     "metadata": {},
     "output_type": "execute_result"
    }
   ],
   "source": [
    "type(obj1)"
   ]
  },
  {
   "cell_type": "code",
   "execution_count": 6,
   "id": "6dc74f3b",
   "metadata": {
    "ExecuteTime": {
     "end_time": "2021-12-23T03:23:46.632874Z",
     "start_time": "2021-12-23T03:23:46.619875Z"
    }
   },
   "outputs": [
    {
     "data": {
      "text/plain": [
       "type"
      ]
     },
     "execution_count": 6,
     "metadata": {},
     "output_type": "execute_result"
    }
   ],
   "source": [
    "obj1.__class__.__class__"
   ]
  },
  {
   "cell_type": "code",
   "execution_count": 8,
   "id": "ac8151d8",
   "metadata": {
    "ExecuteTime": {
     "end_time": "2021-12-23T03:26:11.489527Z",
     "start_time": "2021-12-23T03:26:11.481528Z"
    }
   },
   "outputs": [
    {
     "data": {
      "text/plain": [
       "True"
      ]
     },
     "execution_count": 8,
     "metadata": {},
     "output_type": "execute_result"
    }
   ],
   "source": [
    "obj1.__class__ == type(obj1)"
   ]
  },
  {
   "cell_type": "code",
   "execution_count": 9,
   "id": "ba13ecf1",
   "metadata": {
    "ExecuteTime": {
     "end_time": "2021-12-23T03:26:39.490237Z",
     "start_time": "2021-12-23T03:26:39.479238Z"
    }
   },
   "outputs": [
    {
     "data": {
      "text/plain": [
       "True"
      ]
     },
     "execution_count": 9,
     "metadata": {},
     "output_type": "execute_result"
    }
   ],
   "source": [
    "obj1.__class__.__class__ == type(obj1).__class__"
   ]
  },
  {
   "cell_type": "markdown",
   "id": "53ef59f5",
   "metadata": {},
   "source": [
    "## ex2"
   ]
  },
  {
   "cell_type": "code",
   "execution_count": 10,
   "id": "7804178e",
   "metadata": {
    "ExecuteTime": {
     "end_time": "2021-12-23T04:20:30.226455Z",
     "start_time": "2021-12-23T04:20:30.213455Z"
    }
   },
   "outputs": [],
   "source": [
    "n = 10\n",
    "d = {}"
   ]
  },
  {
   "cell_type": "code",
   "execution_count": 11,
   "id": "8d172567",
   "metadata": {
    "ExecuteTime": {
     "end_time": "2021-12-23T04:21:57.555819Z",
     "start_time": "2021-12-23T04:21:57.547821Z"
    }
   },
   "outputs": [],
   "source": [
    "class SampleB():\n",
    "    pass"
   ]
  },
  {
   "cell_type": "code",
   "execution_count": 12,
   "id": "6f6ee614",
   "metadata": {
    "ExecuteTime": {
     "end_time": "2021-12-23T04:22:03.828117Z",
     "start_time": "2021-12-23T04:22:03.815117Z"
    }
   },
   "outputs": [],
   "source": [
    "obj2 = SampleB()"
   ]
  },
  {
   "cell_type": "code",
   "execution_count": 14,
   "id": "49e1214d",
   "metadata": {
    "ExecuteTime": {
     "end_time": "2021-12-23T04:23:09.572022Z",
     "start_time": "2021-12-23T04:23:09.565022Z"
    }
   },
   "outputs": [
    {
     "name": "stdout",
     "output_type": "stream",
     "text": [
      "<class 'int'> True <class 'type'>\n",
      "<class 'dict'> True <class 'type'>\n",
      "<class '__main__.SampleB'> True <class 'type'>\n"
     ]
    }
   ],
   "source": [
    "for o in (n, d, obj2):\n",
    "    print(f'{type(o)} {type(o) is o.__class__} {o.__class__.__class__}')"
   ]
  },
  {
   "cell_type": "code",
   "execution_count": 15,
   "id": "61d3d7d5",
   "metadata": {
    "ExecuteTime": {
     "end_time": "2021-12-23T04:23:28.370549Z",
     "start_time": "2021-12-23T04:23:28.362548Z"
    }
   },
   "outputs": [
    {
     "name": "stdout",
     "output_type": "stream",
     "text": [
      "{<class 'type'>}\n",
      "{<class 'type'>}\n",
      "{<class 'type'>}\n",
      "{<class 'type'>}\n"
     ]
    }
   ],
   "source": [
    "for t in int, float, list, tuple:\n",
    "    print({type(t)})"
   ]
  },
  {
   "cell_type": "code",
   "execution_count": 16,
   "id": "66449e1d",
   "metadata": {
    "ExecuteTime": {
     "end_time": "2021-12-23T04:23:37.744965Z",
     "start_time": "2021-12-23T04:23:37.735967Z"
    }
   },
   "outputs": [
    {
     "data": {
      "text/plain": [
       "type"
      ]
     },
     "execution_count": 16,
     "metadata": {},
     "output_type": "execute_result"
    }
   ],
   "source": [
    "type(type)"
   ]
  },
  {
   "cell_type": "markdown",
   "id": "4383cc58",
   "metadata": {},
   "source": [
    "Type(name, base, dct), Dynamic metaclass"
   ]
  },
  {
   "cell_type": "markdown",
   "id": "4aa68b16",
   "metadata": {},
   "source": [
    "## ex3"
   ]
  },
  {
   "cell_type": "code",
   "execution_count": 1,
   "id": "8782d359",
   "metadata": {
    "ExecuteTime": {
     "end_time": "2021-12-23T20:26:28.927431Z",
     "start_time": "2021-12-23T20:26:28.905434Z"
    }
   },
   "outputs": [
    {
     "data": {
      "text/plain": [
       "__main__.sample1"
      ]
     },
     "execution_count": 1,
     "metadata": {},
     "output_type": "execute_result"
    }
   ],
   "source": [
    "s1 = type('sample1', (), {})\n",
    "\n",
    "s1"
   ]
  },
  {
   "cell_type": "code",
   "execution_count": 2,
   "id": "63c58c68",
   "metadata": {
    "ExecuteTime": {
     "end_time": "2021-12-23T20:27:30.305895Z",
     "start_time": "2021-12-23T20:27:30.288894Z"
    }
   },
   "outputs": [
    {
     "data": {
      "text/plain": [
       "type"
      ]
     },
     "execution_count": 2,
     "metadata": {},
     "output_type": "execute_result"
    }
   ],
   "source": [
    "type(s1)"
   ]
  },
  {
   "cell_type": "code",
   "execution_count": 3,
   "id": "89555c20",
   "metadata": {
    "ExecuteTime": {
     "end_time": "2021-12-23T20:27:36.414304Z",
     "start_time": "2021-12-23T20:27:36.406305Z"
    }
   },
   "outputs": [
    {
     "data": {
      "text/plain": [
       "object"
      ]
     },
     "execution_count": 3,
     "metadata": {},
     "output_type": "execute_result"
    }
   ],
   "source": [
    "s1.__base__"
   ]
  },
  {
   "cell_type": "code",
   "execution_count": 4,
   "id": "a66419d1",
   "metadata": {
    "ExecuteTime": {
     "end_time": "2021-12-23T20:27:51.136454Z",
     "start_time": "2021-12-23T20:27:51.119455Z"
    }
   },
   "outputs": [
    {
     "data": {
      "text/plain": [
       "mappingproxy({'__module__': '__main__',\n",
       "              '__dict__': <attribute '__dict__' of 'sample1' objects>,\n",
       "              '__weakref__': <attribute '__weakref__' of 'sample1' objects>,\n",
       "              '__doc__': None})"
      ]
     },
     "execution_count": 4,
     "metadata": {},
     "output_type": "execute_result"
    }
   ],
   "source": [
    "s1.__dict__"
   ]
  },
  {
   "cell_type": "code",
   "execution_count": 5,
   "id": "e99b4f89",
   "metadata": {
    "ExecuteTime": {
     "end_time": "2021-12-23T20:28:25.306397Z",
     "start_time": "2021-12-23T20:28:25.294396Z"
    }
   },
   "outputs": [],
   "source": [
    "class Parent1:\n",
    "    pass"
   ]
  },
  {
   "cell_type": "code",
   "execution_count": 7,
   "id": "963e5a9e",
   "metadata": {
    "ExecuteTime": {
     "end_time": "2021-12-23T20:30:09.423172Z",
     "start_time": "2021-12-23T20:30:09.413168Z"
    }
   },
   "outputs": [],
   "source": [
    "'''\n",
    "class Sample2(Parent1):\n",
    "    attr1 = 100\n",
    "    attr2 = 'hi'\n",
    "'''\n",
    "\n",
    "s2 = type('Sample2', (Parent1, ), dict(attr1=100, attr2='hi'))"
   ]
  },
  {
   "cell_type": "code",
   "execution_count": 8,
   "id": "fe841374",
   "metadata": {
    "ExecuteTime": {
     "end_time": "2021-12-23T20:30:23.456620Z",
     "start_time": "2021-12-23T20:30:23.453620Z"
    }
   },
   "outputs": [
    {
     "data": {
      "text/plain": [
       "__main__.Sample2"
      ]
     },
     "execution_count": 8,
     "metadata": {},
     "output_type": "execute_result"
    }
   ],
   "source": [
    "s2"
   ]
  },
  {
   "cell_type": "code",
   "execution_count": 10,
   "id": "4e0a99cc",
   "metadata": {
    "ExecuteTime": {
     "end_time": "2021-12-23T20:30:37.975900Z",
     "start_time": "2021-12-23T20:30:37.965902Z"
    }
   },
   "outputs": [
    {
     "data": {
      "text/plain": [
       "type"
      ]
     },
     "execution_count": 10,
     "metadata": {},
     "output_type": "execute_result"
    }
   ],
   "source": [
    "type(s2)"
   ]
  },
  {
   "cell_type": "code",
   "execution_count": 11,
   "id": "05d70720",
   "metadata": {
    "ExecuteTime": {
     "end_time": "2021-12-23T20:30:43.056620Z",
     "start_time": "2021-12-23T20:30:43.040621Z"
    }
   },
   "outputs": [
    {
     "data": {
      "text/plain": [
       "__main__.Parent1"
      ]
     },
     "execution_count": 11,
     "metadata": {},
     "output_type": "execute_result"
    }
   ],
   "source": [
    "s2.__base__"
   ]
  },
  {
   "cell_type": "code",
   "execution_count": 12,
   "id": "85d22819",
   "metadata": {
    "ExecuteTime": {
     "end_time": "2021-12-23T20:30:47.260357Z",
     "start_time": "2021-12-23T20:30:47.246354Z"
    }
   },
   "outputs": [
    {
     "data": {
      "text/plain": [
       "mappingproxy({'attr1': 100,\n",
       "              'attr2': 'hi',\n",
       "              '__module__': '__main__',\n",
       "              '__doc__': None})"
      ]
     },
     "execution_count": 12,
     "metadata": {},
     "output_type": "execute_result"
    }
   ],
   "source": [
    "s2.__dict__"
   ]
  },
  {
   "cell_type": "code",
   "execution_count": 13,
   "id": "20ea4b4e",
   "metadata": {
    "ExecuteTime": {
     "end_time": "2021-12-23T20:30:51.854660Z",
     "start_time": "2021-12-23T20:30:51.841662Z"
    }
   },
   "outputs": [
    {
     "data": {
      "text/plain": [
       "100"
      ]
     },
     "execution_count": 13,
     "metadata": {},
     "output_type": "execute_result"
    }
   ],
   "source": [
    "s2.attr1"
   ]
  },
  {
   "cell_type": "code",
   "execution_count": 14,
   "id": "1a55cc03",
   "metadata": {
    "ExecuteTime": {
     "end_time": "2021-12-23T20:30:56.081090Z",
     "start_time": "2021-12-23T20:30:56.064094Z"
    }
   },
   "outputs": [
    {
     "data": {
      "text/plain": [
       "'hi'"
      ]
     },
     "execution_count": 14,
     "metadata": {},
     "output_type": "execute_result"
    }
   ],
   "source": [
    "s2.attr2"
   ]
  },
  {
   "cell_type": "markdown",
   "id": "0b18e0c6",
   "metadata": {},
   "source": [
    "## ex4"
   ]
  },
  {
   "cell_type": "code",
   "execution_count": 16,
   "id": "1fcfc766",
   "metadata": {
    "ExecuteTime": {
     "end_time": "2021-12-23T20:33:20.767490Z",
     "start_time": "2021-12-23T20:33:20.757492Z"
    }
   },
   "outputs": [],
   "source": [
    "class SampleEx:\n",
    "    attr1 = 30\n",
    "    attr2 = 100\n",
    "    \n",
    "    def add(self, m, n):\n",
    "        return m + n\n",
    "    \n",
    "    def mul(self, m, n):\n",
    "        return m * n\n",
    "    \n",
    "ex = SampleEx()"
   ]
  },
  {
   "cell_type": "code",
   "execution_count": 17,
   "id": "af458d3a",
   "metadata": {
    "ExecuteTime": {
     "end_time": "2021-12-23T20:33:25.955826Z",
     "start_time": "2021-12-23T20:33:25.947829Z"
    }
   },
   "outputs": [
    {
     "data": {
      "text/plain": [
       "30"
      ]
     },
     "execution_count": 17,
     "metadata": {},
     "output_type": "execute_result"
    }
   ],
   "source": [
    "ex.attr1"
   ]
  },
  {
   "cell_type": "code",
   "execution_count": 18,
   "id": "3e9ccbb5",
   "metadata": {
    "ExecuteTime": {
     "end_time": "2021-12-23T20:33:29.317972Z",
     "start_time": "2021-12-23T20:33:29.310973Z"
    }
   },
   "outputs": [
    {
     "data": {
      "text/plain": [
       "100"
      ]
     },
     "execution_count": 18,
     "metadata": {},
     "output_type": "execute_result"
    }
   ],
   "source": [
    "ex.attr2"
   ]
  },
  {
   "cell_type": "code",
   "execution_count": 19,
   "id": "dd71dce1",
   "metadata": {
    "ExecuteTime": {
     "end_time": "2021-12-23T20:33:35.711657Z",
     "start_time": "2021-12-23T20:33:35.706658Z"
    }
   },
   "outputs": [
    {
     "data": {
      "text/plain": [
       "300"
      ]
     },
     "execution_count": 19,
     "metadata": {},
     "output_type": "execute_result"
    }
   ],
   "source": [
    "ex.add(100, 200)"
   ]
  },
  {
   "cell_type": "code",
   "execution_count": 20,
   "id": "226e1f88",
   "metadata": {
    "ExecuteTime": {
     "end_time": "2021-12-23T20:33:39.947794Z",
     "start_time": "2021-12-23T20:33:39.940783Z"
    }
   },
   "outputs": [
    {
     "data": {
      "text/plain": [
       "2000"
      ]
     },
     "execution_count": 20,
     "metadata": {},
     "output_type": "execute_result"
    }
   ],
   "source": [
    "ex.mul(100, 20)"
   ]
  },
  {
   "cell_type": "code",
   "execution_count": 21,
   "id": "c651be05",
   "metadata": {
    "ExecuteTime": {
     "end_time": "2021-12-23T20:35:15.063864Z",
     "start_time": "2021-12-23T20:35:15.056849Z"
    }
   },
   "outputs": [],
   "source": [
    "s3 = type('Sample3', (object, ), dict(attr1=30, attr2=100,\n",
    "          add=lambda x, y: x + y, mul=lambda x, y: x * y))"
   ]
  },
  {
   "cell_type": "code",
   "execution_count": 22,
   "id": "a7ef5e66",
   "metadata": {
    "ExecuteTime": {
     "end_time": "2021-12-23T20:35:20.732853Z",
     "start_time": "2021-12-23T20:35:20.717853Z"
    }
   },
   "outputs": [
    {
     "data": {
      "text/plain": [
       "30"
      ]
     },
     "execution_count": 22,
     "metadata": {},
     "output_type": "execute_result"
    }
   ],
   "source": [
    "s3.attr1"
   ]
  },
  {
   "cell_type": "code",
   "execution_count": 23,
   "id": "c6150561",
   "metadata": {
    "ExecuteTime": {
     "end_time": "2021-12-23T20:35:25.209709Z",
     "start_time": "2021-12-23T20:35:25.191711Z"
    }
   },
   "outputs": [
    {
     "data": {
      "text/plain": [
       "100"
      ]
     },
     "execution_count": 23,
     "metadata": {},
     "output_type": "execute_result"
    }
   ],
   "source": [
    "s3.attr2"
   ]
  },
  {
   "cell_type": "code",
   "execution_count": 24,
   "id": "5a54a813",
   "metadata": {
    "ExecuteTime": {
     "end_time": "2021-12-23T20:35:33.040572Z",
     "start_time": "2021-12-23T20:35:33.025574Z"
    }
   },
   "outputs": [
    {
     "data": {
      "text/plain": [
       "300"
      ]
     },
     "execution_count": 24,
     "metadata": {},
     "output_type": "execute_result"
    }
   ],
   "source": [
    "s3.add(100, 200)"
   ]
  },
  {
   "cell_type": "code",
   "execution_count": 25,
   "id": "b2fac865",
   "metadata": {
    "ExecuteTime": {
     "end_time": "2021-12-23T20:35:37.227813Z",
     "start_time": "2021-12-23T20:35:37.223809Z"
    }
   },
   "outputs": [
    {
     "data": {
      "text/plain": [
       "2000"
      ]
     },
     "execution_count": 25,
     "metadata": {},
     "output_type": "execute_result"
    }
   ],
   "source": [
    "s3.mul(100, 20)"
   ]
  },
  {
   "cell_type": "code",
   "execution_count": null,
   "id": "0f34a1a8",
   "metadata": {},
   "outputs": [],
   "source": []
  },
  {
   "cell_type": "markdown",
   "id": "ba903a3a",
   "metadata": {},
   "source": [
    "## ex5"
   ]
  },
  {
   "cell_type": "code",
   "execution_count": 50,
   "id": "d1a5a529",
   "metadata": {
    "ExecuteTime": {
     "end_time": "2021-12-23T21:01:34.546586Z",
     "start_time": "2021-12-23T21:01:34.543584Z"
    }
   },
   "outputs": [],
   "source": [
    "def cus_mul(self, d):\n",
    "    for i in range(len(self)):\n",
    "        self[i] = self[i] * d\n",
    "        \n",
    "def cus_replace(self, old, new):\n",
    "    while old in self:\n",
    "        self[self.index(old)] = new\n"
   ]
  },
  {
   "cell_type": "code",
   "execution_count": 35,
   "id": "538f5e04",
   "metadata": {
    "ExecuteTime": {
     "end_time": "2021-12-23T20:45:05.148147Z",
     "start_time": "2021-12-23T20:45:05.137985Z"
    }
   },
   "outputs": [],
   "source": [
    "# list를 상속 받는 메소드 2개 추가\n",
    "CustomList1 = type('CustomList1', (list,), {\n",
    "                   'desc': '커스텀 리스트1', 'cus_mul': cus_mul, 'cus_replace': cus_replace})"
   ]
  },
  {
   "cell_type": "code",
   "execution_count": 36,
   "id": "09320a3b",
   "metadata": {
    "ExecuteTime": {
     "end_time": "2021-12-23T20:45:05.305597Z",
     "start_time": "2021-12-23T20:45:05.295597Z"
    }
   },
   "outputs": [],
   "source": [
    "c1 = CustomList1([i for i in range(10)])"
   ]
  },
  {
   "cell_type": "code",
   "execution_count": 37,
   "id": "c7cba7a0",
   "metadata": {
    "ExecuteTime": {
     "end_time": "2021-12-23T20:45:05.460896Z",
     "start_time": "2021-12-23T20:45:05.446899Z"
    }
   },
   "outputs": [
    {
     "data": {
      "text/plain": [
       "[0, 1000, 2000, 3000, 4000, 5000, 6000, 7000, 8000, 9000]"
      ]
     },
     "execution_count": 37,
     "metadata": {},
     "output_type": "execute_result"
    }
   ],
   "source": [
    "c1.cus_mul(1000)\n",
    "c1"
   ]
  },
  {
   "cell_type": "code",
   "execution_count": 38,
   "id": "1949705a",
   "metadata": {
    "ExecuteTime": {
     "end_time": "2021-12-23T20:45:15.504385Z",
     "start_time": "2021-12-23T20:45:15.499383Z"
    }
   },
   "outputs": [
    {
     "data": {
      "text/plain": [
       "[0, 7777, 2000, 3000, 4000, 5000, 6000, 7000, 8000, 9000]"
      ]
     },
     "execution_count": 38,
     "metadata": {},
     "output_type": "execute_result"
    }
   ],
   "source": [
    "c1.cus_replace(1000, 7777)\n",
    "c1"
   ]
  },
  {
   "cell_type": "code",
   "execution_count": 39,
   "id": "49643697",
   "metadata": {
    "ExecuteTime": {
     "end_time": "2021-12-23T20:45:37.080997Z",
     "start_time": "2021-12-23T20:45:37.073998Z"
    }
   },
   "outputs": [
    {
     "data": {
      "text/plain": [
       "[0, 7777, 2000, 'hahahah', 4000, 5000, 6000, 7000, 8000, 9000]"
      ]
     },
     "execution_count": 39,
     "metadata": {},
     "output_type": "execute_result"
    }
   ],
   "source": [
    "c1.cus_replace(3000, 'hahahah')\n",
    "c1"
   ]
  },
  {
   "cell_type": "markdown",
   "id": "15d35758",
   "metadata": {},
   "source": [
    "## ex6"
   ]
  },
  {
   "cell_type": "code",
   "execution_count": 40,
   "id": "5e173ac4",
   "metadata": {
    "ExecuteTime": {
     "end_time": "2021-12-23T20:51:22.973983Z",
     "start_time": "2021-12-23T20:51:22.960470Z"
    }
   },
   "outputs": [
    {
     "data": {
      "text/plain": [
       "'\\nclass MetaClassName(type):\\n    def __new__(metacls, name, bases, namespace):\\n        코드\\n'"
      ]
     },
     "execution_count": 40,
     "metadata": {},
     "output_type": "execute_result"
    }
   ],
   "source": [
    "# 커스텀 메타클래스 생성 예제\n",
    "'''\n",
    "class MetaClassName(type):\n",
    "    def __new__(metacls, name, bases, namespace):\n",
    "        코드\n",
    "'''"
   ]
  },
  {
   "cell_type": "code",
   "execution_count": 59,
   "id": "3baf31fc",
   "metadata": {
    "ExecuteTime": {
     "end_time": "2021-12-23T21:05:57.154263Z",
     "start_time": "2021-12-23T21:05:57.148265Z"
    }
   },
   "outputs": [],
   "source": [
    "# new -> init -> call 순서\n",
    "class CustomListMeta(type):\n",
    "    # 생성된 인스턴스 초기화\n",
    "    def __init__(self, object_or_name, bases, dict):\n",
    "        print('__init__', self, object_or_name, bases, dict)\n",
    "        super().__init__(object_or_name, bases, dict)\n",
    "    \n",
    "    def __call__(self, *arg, **kwargs):\n",
    "        print('__call__', self, *arg, **kwargs)\n",
    "        super().__call__(*arg, **kwargs)\n",
    "    \n",
    "    def __new__(metacls, name, bases, namespace):\n",
    "        print('__new__', metacls, name, bases, namespace)\n",
    "        namespace['desc'] = '커스텀 리스트2'\n",
    "        namespace['cus_mul'] = cus_mul\n",
    "        namespace['cus_replace'] = cus_replace\n",
    "        \n",
    "        return type.__new__(metacls, name, bases, namespace)"
   ]
  },
  {
   "cell_type": "code",
   "execution_count": 60,
   "id": "c291e044",
   "metadata": {
    "ExecuteTime": {
     "end_time": "2021-12-23T21:05:57.390208Z",
     "start_time": "2021-12-23T21:05:57.379207Z"
    }
   },
   "outputs": [
    {
     "name": "stdout",
     "output_type": "stream",
     "text": [
      "__new__ <class '__main__.CustomListMeta'> CustomList2 (<class 'list'>,) {}\n",
      "__init__ <class '__main__.CustomList2'> CustomList2 (<class 'list'>,) {'desc': '커스텀 리스트2', 'cus_mul': <function cus_mul at 0x00000236C5F89280>, 'cus_replace': <function cus_replace at 0x00000236C5F89670>}\n"
     ]
    }
   ],
   "source": [
    "CustomList2 = CustomListMeta('CustomList2', (list, ), {})"
   ]
  },
  {
   "cell_type": "code",
   "execution_count": 61,
   "id": "e9bad114",
   "metadata": {
    "ExecuteTime": {
     "end_time": "2021-12-23T21:05:57.592229Z",
     "start_time": "2021-12-23T21:05:57.582229Z"
    }
   },
   "outputs": [
    {
     "name": "stdout",
     "output_type": "stream",
     "text": [
      "__call__ <class '__main__.CustomList2'> [1, 2, 3, 4, 5, 6, 7, 8, 9]\n"
     ]
    }
   ],
   "source": [
    "c3 = CustomList2([i for i in range(1, 10)])\n",
    "c3"
   ]
  },
  {
   "cell_type": "code",
   "execution_count": 62,
   "id": "2360fb13",
   "metadata": {
    "ExecuteTime": {
     "end_time": "2021-12-23T21:05:57.794129Z",
     "start_time": "2021-12-23T21:05:57.782128Z"
    }
   },
   "outputs": [
    {
     "ename": "AttributeError",
     "evalue": "'NoneType' object has no attribute 'cus_mul'",
     "output_type": "error",
     "traceback": [
      "\u001b[1;31m---------------------------------------------------------------------------\u001b[0m",
      "\u001b[1;31mAttributeError\u001b[0m                            Traceback (most recent call last)",
      "\u001b[1;32mC:\\Users\\SEUNGH~1\\AppData\\Local\\Temp/ipykernel_5156/2208691353.py\u001b[0m in \u001b[0;36m<module>\u001b[1;34m\u001b[0m\n\u001b[1;32m----> 1\u001b[1;33m \u001b[0mc3\u001b[0m\u001b[1;33m.\u001b[0m\u001b[0mcus_mul\u001b[0m\u001b[1;33m(\u001b[0m\u001b[1;36m1000\u001b[0m\u001b[1;33m)\u001b[0m\u001b[1;33m\u001b[0m\u001b[1;33m\u001b[0m\u001b[0m\n\u001b[0m\u001b[0;32m      2\u001b[0m \u001b[0mc3\u001b[0m\u001b[1;33m.\u001b[0m\u001b[0mcus_replace\u001b[0m\u001b[1;33m(\u001b[0m\u001b[1;36m1000\u001b[0m\u001b[1;33m,\u001b[0m \u001b[1;36m7777\u001b[0m\u001b[1;33m)\u001b[0m\u001b[1;33m\u001b[0m\u001b[1;33m\u001b[0m\u001b[0m\n",
      "\u001b[1;31mAttributeError\u001b[0m: 'NoneType' object has no attribute 'cus_mul'"
     ]
    }
   ],
   "source": [
    "c3.cus_mul(1000)\n",
    "c3.cus_replace(1000, 7777)"
   ]
  },
  {
   "cell_type": "code",
   "execution_count": 65,
   "id": "c0f940e7",
   "metadata": {
    "ExecuteTime": {
     "end_time": "2021-12-23T21:08:07.868979Z",
     "start_time": "2021-12-23T21:08:07.855978Z"
    }
   },
   "outputs": [
    {
     "data": {
      "text/plain": [
       "(__main__.CustomList2, list, object)"
      ]
     },
     "execution_count": 65,
     "metadata": {},
     "output_type": "execute_result"
    }
   ],
   "source": [
    "CustomList2.__mro__"
   ]
  },
  {
   "cell_type": "code",
   "execution_count": null,
   "id": "0e5aa0da",
   "metadata": {},
   "outputs": [],
   "source": []
  }
 ],
 "metadata": {
  "kernelspec": {
   "display_name": "cv",
   "language": "python",
   "name": "cv"
  },
  "language_info": {
   "codemirror_mode": {
    "name": "ipython",
    "version": 3
   },
   "file_extension": ".py",
   "mimetype": "text/x-python",
   "name": "python",
   "nbconvert_exporter": "python",
   "pygments_lexer": "ipython3",
   "version": "3.9.7"
  },
  "toc": {
   "base_numbering": 1,
   "nav_menu": {},
   "number_sections": true,
   "sideBar": true,
   "skip_h1_title": false,
   "title_cell": "Table of Contents",
   "title_sidebar": "Contents",
   "toc_cell": false,
   "toc_position": {},
   "toc_section_display": true,
   "toc_window_display": false
  }
 },
 "nbformat": 4,
 "nbformat_minor": 5
}
