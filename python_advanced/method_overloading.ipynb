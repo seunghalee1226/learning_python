{
 "cells": [
  {
   "cell_type": "markdown",
   "id": "ec904d1c",
   "metadata": {},
   "source": [
    "# Method Overloading"
   ]
  },
  {
   "cell_type": "code",
   "execution_count": 8,
   "id": "a561c848",
   "metadata": {
    "ExecuteTime": {
     "end_time": "2021-12-23T01:30:41.341830Z",
     "start_time": "2021-12-23T01:30:41.323832Z"
    }
   },
   "outputs": [],
   "source": [
    "class SampleA():\n",
    "    \n",
    "    def add(self, x, y):\n",
    "        return x + y\n",
    "    \n",
    "    def add(self, x, y, z):\n",
    "        return x + y + z\n",
    "    \n",
    "    # packing으로 해결 가능\n",
    "    \n",
    "    def add(self, *args):\n",
    "        return sum(args)\n"
   ]
  },
  {
   "cell_type": "code",
   "execution_count": 9,
   "id": "6cb4ecf3",
   "metadata": {
    "ExecuteTime": {
     "end_time": "2021-12-23T01:30:41.559848Z",
     "start_time": "2021-12-23T01:30:41.555848Z"
    }
   },
   "outputs": [
    {
     "data": {
      "text/plain": [
       "5"
      ]
     },
     "execution_count": 9,
     "metadata": {},
     "output_type": "execute_result"
    }
   ],
   "source": [
    "a = SampleA()\n",
    "\n",
    "a.add(2, 3)"
   ]
  },
  {
   "cell_type": "code",
   "execution_count": 10,
   "id": "8a449d2c",
   "metadata": {
    "ExecuteTime": {
     "end_time": "2021-12-23T01:30:41.791823Z",
     "start_time": "2021-12-23T01:30:41.779818Z"
    }
   },
   "outputs": [
    {
     "data": {
      "text/plain": [
       "['__class__',\n",
       " '__delattr__',\n",
       " '__dict__',\n",
       " '__dir__',\n",
       " '__doc__',\n",
       " '__eq__',\n",
       " '__format__',\n",
       " '__ge__',\n",
       " '__getattribute__',\n",
       " '__gt__',\n",
       " '__hash__',\n",
       " '__init__',\n",
       " '__init_subclass__',\n",
       " '__le__',\n",
       " '__lt__',\n",
       " '__module__',\n",
       " '__ne__',\n",
       " '__new__',\n",
       " '__reduce__',\n",
       " '__reduce_ex__',\n",
       " '__repr__',\n",
       " '__setattr__',\n",
       " '__sizeof__',\n",
       " '__str__',\n",
       " '__subclasshook__',\n",
       " '__weakref__',\n",
       " 'add']"
      ]
     },
     "execution_count": 10,
     "metadata": {},
     "output_type": "execute_result"
    }
   ],
   "source": [
    "dir(a)"
   ]
  },
  {
   "cell_type": "markdown",
   "id": "8292be96",
   "metadata": {},
   "source": [
    "## ex2"
   ]
  },
  {
   "cell_type": "code",
   "execution_count": 13,
   "id": "739fa381",
   "metadata": {
    "ExecuteTime": {
     "end_time": "2021-12-23T01:33:45.371089Z",
     "start_time": "2021-12-23T01:33:45.355090Z"
    }
   },
   "outputs": [
    {
     "data": {
      "text/plain": [
       "11"
      ]
     },
     "execution_count": 13,
     "metadata": {},
     "output_type": "execute_result"
    }
   ],
   "source": [
    "class SampleB():\n",
    "    def add(self, datatype, *args):\n",
    "        \n",
    "        if datatype == 'int':\n",
    "            return sum(args)\n",
    "        \n",
    "        if datatype == 'str':\n",
    "            return ''.join([x for x in args])\n",
    "        \n",
    "b = SampleB()\n",
    "b.add('int', 5, 6)"
   ]
  },
  {
   "cell_type": "markdown",
   "id": "d6189b49",
   "metadata": {},
   "source": [
    "## ex3"
   ]
  },
  {
   "cell_type": "code",
   "execution_count": 16,
   "id": "607d8d01",
   "metadata": {
    "ExecuteTime": {
     "end_time": "2021-12-23T01:39:03.756937Z",
     "start_time": "2021-12-23T01:39:03.742937Z"
    }
   },
   "outputs": [],
   "source": [
    "from multipledispatch import dispatch"
   ]
  },
  {
   "cell_type": "code",
   "execution_count": 18,
   "id": "06f12daf",
   "metadata": {
    "ExecuteTime": {
     "end_time": "2021-12-23T01:41:17.415784Z",
     "start_time": "2021-12-23T01:41:17.402952Z"
    }
   },
   "outputs": [],
   "source": [
    "class SampleC():\n",
    "    @dispatch(int, int)\n",
    "    def product(x, y):\n",
    "        return x * y\n",
    "    \n",
    "    @dispatch(int, int, int)\n",
    "    def product(x, y, z):\n",
    "        return x * y * z"
   ]
  },
  {
   "cell_type": "code",
   "execution_count": null,
   "id": "f3ae31d0",
   "metadata": {},
   "outputs": [],
   "source": []
  }
 ],
 "metadata": {
  "kernelspec": {
   "display_name": "cv",
   "language": "python",
   "name": "cv"
  },
  "language_info": {
   "codemirror_mode": {
    "name": "ipython",
    "version": 3
   },
   "file_extension": ".py",
   "mimetype": "text/x-python",
   "name": "python",
   "nbconvert_exporter": "python",
   "pygments_lexer": "ipython3",
   "version": "3.9.7"
  },
  "toc": {
   "base_numbering": 1,
   "nav_menu": {},
   "number_sections": true,
   "sideBar": true,
   "skip_h1_title": false,
   "title_cell": "Table of Contents",
   "title_sidebar": "Contents",
   "toc_cell": false,
   "toc_position": {},
   "toc_section_display": true,
   "toc_window_display": false
  }
 },
 "nbformat": 4,
 "nbformat_minor": 5
}
