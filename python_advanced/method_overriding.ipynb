{
 "cells": [
  {
   "cell_type": "markdown",
   "id": "cf683e15",
   "metadata": {},
   "source": [
    "# Method Overriding"
   ]
  },
  {
   "cell_type": "markdown",
   "id": "1dfddeec",
   "metadata": {},
   "source": [
    "메소드 오버라이딩 효과\n",
    "1. 서브클래스(자식)에서 슈퍼(부모) 클래스를 호출 후 사용\n",
    "2. 메소드를 재정의 후 사용가능\n",
    "3. 부모 클래스의 메소드를 추상화 후 사용가능(구조적 접근)\n",
    "4. 확장 가능, 다형성(다양한 방식으로 동작)\n",
    "5. 가독성 증가, 오류 가능성 감소, 메소드 이름 절약"
   ]
  },
  {
   "cell_type": "markdown",
   "id": "4f9ab6d8",
   "metadata": {},
   "source": [
    "## ex1"
   ]
  },
  {
   "cell_type": "code",
   "execution_count": 1,
   "id": "29eff351",
   "metadata": {
    "ExecuteTime": {
     "end_time": "2021-12-21T20:57:09.839899Z",
     "start_time": "2021-12-21T20:57:09.834899Z"
    }
   },
   "outputs": [],
   "source": [
    "class ParentEx1():\n",
    "    def __init__(self):\n",
    "        self.value = 5\n",
    "        \n",
    "    def get_value(self):\n",
    "        return self.value\n",
    "    \n",
    "class ChildEx1(ParentEx1):\n",
    "    pass"
   ]
  },
  {
   "cell_type": "code",
   "execution_count": 2,
   "id": "b2a7244c",
   "metadata": {
    "ExecuteTime": {
     "end_time": "2021-12-21T20:57:28.132917Z",
     "start_time": "2021-12-21T20:57:28.129917Z"
    }
   },
   "outputs": [],
   "source": [
    "c1 = ChildEx1()\n",
    "p1 = ParentEx1()"
   ]
  },
  {
   "cell_type": "code",
   "execution_count": 3,
   "id": "c4ecd663",
   "metadata": {
    "ExecuteTime": {
     "end_time": "2021-12-21T20:57:43.870584Z",
     "start_time": "2021-12-21T20:57:43.855583Z"
    }
   },
   "outputs": [
    {
     "data": {
      "text/plain": [
       "5"
      ]
     },
     "execution_count": 3,
     "metadata": {},
     "output_type": "execute_result"
    }
   ],
   "source": [
    "# 부모 클래스 메소드 호출\n",
    "\n",
    "c1.get_value()"
   ]
  },
  {
   "cell_type": "code",
   "execution_count": 4,
   "id": "6d85b110",
   "metadata": {
    "ExecuteTime": {
     "end_time": "2021-12-21T20:58:27.144753Z",
     "start_time": "2021-12-21T20:58:27.138753Z"
    }
   },
   "outputs": [
    {
     "data": {
      "text/plain": [
       "['__class__',\n",
       " '__delattr__',\n",
       " '__dict__',\n",
       " '__dir__',\n",
       " '__doc__',\n",
       " '__eq__',\n",
       " '__format__',\n",
       " '__ge__',\n",
       " '__getattribute__',\n",
       " '__gt__',\n",
       " '__hash__',\n",
       " '__init__',\n",
       " '__init_subclass__',\n",
       " '__le__',\n",
       " '__lt__',\n",
       " '__module__',\n",
       " '__ne__',\n",
       " '__new__',\n",
       " '__reduce__',\n",
       " '__reduce_ex__',\n",
       " '__repr__',\n",
       " '__setattr__',\n",
       " '__sizeof__',\n",
       " '__str__',\n",
       " '__subclasshook__',\n",
       " '__weakref__',\n",
       " 'get_value',\n",
       " 'value']"
      ]
     },
     "execution_count": 4,
     "metadata": {},
     "output_type": "execute_result"
    }
   ],
   "source": [
    "# c1 모든 속성 출력\n",
    "dir(c1)"
   ]
  },
  {
   "cell_type": "code",
   "execution_count": 5,
   "id": "9b17d546",
   "metadata": {
    "ExecuteTime": {
     "end_time": "2021-12-21T20:59:08.412709Z",
     "start_time": "2021-12-21T20:59:08.405709Z"
    }
   },
   "outputs": [
    {
     "data": {
      "text/plain": [
       "['__class__',\n",
       " '__delattr__',\n",
       " '__dict__',\n",
       " '__dir__',\n",
       " '__doc__',\n",
       " '__eq__',\n",
       " '__format__',\n",
       " '__ge__',\n",
       " '__getattribute__',\n",
       " '__gt__',\n",
       " '__hash__',\n",
       " '__init__',\n",
       " '__init_subclass__',\n",
       " '__le__',\n",
       " '__lt__',\n",
       " '__module__',\n",
       " '__ne__',\n",
       " '__new__',\n",
       " '__reduce__',\n",
       " '__reduce_ex__',\n",
       " '__repr__',\n",
       " '__setattr__',\n",
       " '__sizeof__',\n",
       " '__str__',\n",
       " '__subclasshook__',\n",
       " '__weakref__',\n",
       " 'get_value']"
      ]
     },
     "execution_count": 5,
     "metadata": {},
     "output_type": "execute_result"
    }
   ],
   "source": [
    "# 부모 & 자식 모든 속성 출력\n",
    "dir(ParentEx1)"
   ]
  },
  {
   "cell_type": "code",
   "execution_count": 6,
   "id": "6383d156",
   "metadata": {
    "ExecuteTime": {
     "end_time": "2021-12-21T20:59:17.108308Z",
     "start_time": "2021-12-21T20:59:17.099312Z"
    }
   },
   "outputs": [
    {
     "data": {
      "text/plain": [
       "['__class__',\n",
       " '__delattr__',\n",
       " '__dict__',\n",
       " '__dir__',\n",
       " '__doc__',\n",
       " '__eq__',\n",
       " '__format__',\n",
       " '__ge__',\n",
       " '__getattribute__',\n",
       " '__gt__',\n",
       " '__hash__',\n",
       " '__init__',\n",
       " '__init_subclass__',\n",
       " '__le__',\n",
       " '__lt__',\n",
       " '__module__',\n",
       " '__ne__',\n",
       " '__new__',\n",
       " '__reduce__',\n",
       " '__reduce_ex__',\n",
       " '__repr__',\n",
       " '__setattr__',\n",
       " '__sizeof__',\n",
       " '__str__',\n",
       " '__subclasshook__',\n",
       " '__weakref__',\n",
       " 'get_value']"
      ]
     },
     "execution_count": 6,
     "metadata": {},
     "output_type": "execute_result"
    }
   ],
   "source": [
    "dir(ChildEx1)"
   ]
  },
  {
   "cell_type": "code",
   "execution_count": 7,
   "id": "e3acda8c",
   "metadata": {
    "ExecuteTime": {
     "end_time": "2021-12-21T21:00:20.426674Z",
     "start_time": "2021-12-21T21:00:20.410673Z"
    }
   },
   "outputs": [
    {
     "data": {
      "text/plain": [
       "mappingproxy({'__module__': '__main__',\n",
       "              '__init__': <function __main__.ParentEx1.__init__(self)>,\n",
       "              'get_value': <function __main__.ParentEx1.get_value(self)>,\n",
       "              '__dict__': <attribute '__dict__' of 'ParentEx1' objects>,\n",
       "              '__weakref__': <attribute '__weakref__' of 'ParentEx1' objects>,\n",
       "              '__doc__': None})"
      ]
     },
     "execution_count": 7,
     "metadata": {},
     "output_type": "execute_result"
    }
   ],
   "source": [
    "ParentEx1.__dict__"
   ]
  },
  {
   "cell_type": "code",
   "execution_count": 8,
   "id": "10d30a32",
   "metadata": {
    "ExecuteTime": {
     "end_time": "2021-12-21T21:00:26.804675Z",
     "start_time": "2021-12-21T21:00:26.790678Z"
    }
   },
   "outputs": [
    {
     "data": {
      "text/plain": [
       "mappingproxy({'__module__': '__main__', '__doc__': None})"
      ]
     },
     "execution_count": 8,
     "metadata": {},
     "output_type": "execute_result"
    }
   ],
   "source": [
    "ChildEx1.__dict__"
   ]
  },
  {
   "cell_type": "markdown",
   "id": "65987de4",
   "metadata": {},
   "source": [
    "## ex2"
   ]
  },
  {
   "cell_type": "code",
   "execution_count": 4,
   "id": "c8e03be3",
   "metadata": {
    "ExecuteTime": {
     "end_time": "2021-12-23T00:31:44.020775Z",
     "start_time": "2021-12-23T00:31:44.003767Z"
    }
   },
   "outputs": [],
   "source": [
    "class ParentEx2():\n",
    "    def __init__(self):\n",
    "        self.value = 5\n",
    "        \n",
    "    def get_value(self):\n",
    "        return self.value\n",
    "    \n",
    "class ChildEx2(ParentEx1):\n",
    "    def get_value(self):\n",
    "        return self.value * 10"
   ]
  },
  {
   "cell_type": "code",
   "execution_count": 5,
   "id": "3f6b5ead",
   "metadata": {
    "ExecuteTime": {
     "end_time": "2021-12-23T00:31:44.394939Z",
     "start_time": "2021-12-23T00:31:44.378033Z"
    }
   },
   "outputs": [],
   "source": [
    "c2 = ChildEx2()"
   ]
  },
  {
   "cell_type": "code",
   "execution_count": 6,
   "id": "b8fd1603",
   "metadata": {
    "ExecuteTime": {
     "end_time": "2021-12-23T00:31:56.750305Z",
     "start_time": "2021-12-23T00:31:56.735306Z"
    }
   },
   "outputs": [
    {
     "data": {
      "text/plain": [
       "50"
      ]
     },
     "execution_count": 6,
     "metadata": {},
     "output_type": "execute_result"
    }
   ],
   "source": [
    "c2.get_value()"
   ]
  },
  {
   "cell_type": "markdown",
   "id": "85bf7fb1",
   "metadata": {},
   "source": [
    "## ex3"
   ]
  },
  {
   "cell_type": "code",
   "execution_count": 7,
   "id": "e7a6d44c",
   "metadata": {
    "ExecuteTime": {
     "end_time": "2021-12-23T00:54:39.981728Z",
     "start_time": "2021-12-23T00:54:39.976726Z"
    }
   },
   "outputs": [],
   "source": [
    "import datetime"
   ]
  },
  {
   "cell_type": "code",
   "execution_count": 12,
   "id": "4284360f",
   "metadata": {
    "ExecuteTime": {
     "end_time": "2021-12-23T00:59:09.497662Z",
     "start_time": "2021-12-23T00:59:09.491658Z"
    }
   },
   "outputs": [],
   "source": [
    "class Logger(object):\n",
    "    def log(self, msg):\n",
    "        print(msg)\n",
    "        \n",
    "class TimestampLogger(Logger):\n",
    "    def log(self, msg):\n",
    "        message = f\"{datetime.datetime.now()} {msg}\"\n",
    "        # super().log(message)\n",
    "        super(TimestampLogger, self).log(message)\n",
    "        \n",
    "class DateLogger(Logger):\n",
    "    def log(self, msg):\n",
    "        message = f\"{datetime.datetime.now().strftime('%Y-%m-%d')} {msg}\"\n",
    "        # super().log(message)\n",
    "        super(TimestampLogger, self).log(message)"
   ]
  },
  {
   "cell_type": "code",
   "execution_count": null,
   "id": "7e821fa1",
   "metadata": {},
   "outputs": [],
   "source": [
    "l = Logger()\n",
    "t = TimestampLogger()\n",
    "d = DateLogger()"
   ]
  }
 ],
 "metadata": {
  "kernelspec": {
   "display_name": "cv",
   "language": "python",
   "name": "cv"
  },
  "language_info": {
   "codemirror_mode": {
    "name": "ipython",
    "version": 3
   },
   "file_extension": ".py",
   "mimetype": "text/x-python",
   "name": "python",
   "nbconvert_exporter": "python",
   "pygments_lexer": "ipython3",
   "version": "3.9.7"
  },
  "toc": {
   "base_numbering": 1,
   "nav_menu": {},
   "number_sections": true,
   "sideBar": true,
   "skip_h1_title": false,
   "title_cell": "Table of Contents",
   "title_sidebar": "Contents",
   "toc_cell": false,
   "toc_position": {},
   "toc_section_display": true,
   "toc_window_display": false
  }
 },
 "nbformat": 4,
 "nbformat_minor": 5
}
