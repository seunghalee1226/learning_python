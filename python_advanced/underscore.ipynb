{
 "cells": [
  {
   "cell_type": "markdown",
   "id": "3c276f02",
   "metadata": {},
   "source": [
    "# UnderScore"
   ]
  },
  {
   "cell_type": "markdown",
   "id": "3723d16f",
   "metadata": {},
   "source": [
    "1. 인터프리터\n",
    "2. 값 무시\n",
    "3. 네이밍(국제화, 자릿수)"
   ]
  },
  {
   "cell_type": "markdown",
   "id": "2bd3f1e2",
   "metadata": {
    "ExecuteTime": {
     "end_time": "2021-12-21T20:04:15.747734Z",
     "start_time": "2021-12-21T20:04:15.735730Z"
    }
   },
   "source": [
    "## Ex1"
   ]
  },
  {
   "cell_type": "code",
   "execution_count": 7,
   "id": "080ccaf7",
   "metadata": {
    "ExecuteTime": {
     "end_time": "2021-12-21T20:07:29.215422Z",
     "start_time": "2021-12-21T20:07:29.201422Z"
    }
   },
   "outputs": [
    {
     "data": {
      "text/plain": [
       "(1, 3)"
      ]
     },
     "execution_count": 7,
     "metadata": {},
     "output_type": "execute_result"
    }
   ],
   "source": [
    "# unpacking\n",
    "x, _, y = (1, 2, 3)\n",
    "x, y"
   ]
  },
  {
   "cell_type": "code",
   "execution_count": 8,
   "id": "7d5861f5",
   "metadata": {
    "ExecuteTime": {
     "end_time": "2021-12-21T20:07:29.563138Z",
     "start_time": "2021-12-21T20:07:29.545311Z"
    }
   },
   "outputs": [
    {
     "data": {
      "text/plain": [
       "(1, 5)"
      ]
     },
     "execution_count": 8,
     "metadata": {},
     "output_type": "execute_result"
    }
   ],
   "source": [
    "a, *_, b = (1, 2, 3, 4, 5)\n",
    "a, b"
   ]
  },
  {
   "cell_type": "code",
   "execution_count": 9,
   "id": "93f90f1d",
   "metadata": {
    "ExecuteTime": {
     "end_time": "2021-12-21T20:07:29.782933Z",
     "start_time": "2021-12-21T20:07:29.767936Z"
    }
   },
   "outputs": [
    {
     "data": {
      "text/plain": [
       "(1, 3, 1, 5)"
      ]
     },
     "execution_count": 9,
     "metadata": {},
     "output_type": "execute_result"
    }
   ],
   "source": [
    "x, y, a, b"
   ]
  },
  {
   "cell_type": "code",
   "execution_count": 10,
   "id": "2da9e1c3",
   "metadata": {
    "ExecuteTime": {
     "end_time": "2021-12-21T20:07:43.912950Z",
     "start_time": "2021-12-21T20:07:43.901363Z"
    }
   },
   "outputs": [],
   "source": [
    "for _ in range(10):\n",
    "    pass"
   ]
  },
  {
   "cell_type": "code",
   "execution_count": 11,
   "id": "26556363",
   "metadata": {
    "ExecuteTime": {
     "end_time": "2021-12-21T20:08:22.483200Z",
     "start_time": "2021-12-21T20:08:22.468030Z"
    }
   },
   "outputs": [
    {
     "name": "stdout",
     "output_type": "stream",
     "text": [
      "0\n",
      "1\n",
      "2\n",
      "3\n",
      "4\n",
      "5\n",
      "6\n",
      "7\n",
      "8\n",
      "9\n"
     ]
    }
   ],
   "source": [
    "for _, val in enumerate(range(10)):\n",
    "    print(val)"
   ]
  },
  {
   "cell_type": "markdown",
   "id": "7ffadd7e",
   "metadata": {},
   "source": [
    "## ex2"
   ]
  },
  {
   "cell_type": "markdown",
   "id": "9a4a88e4",
   "metadata": {},
   "source": [
    "접근 지정자\n",
    "- name : public \n",
    "- _name : protected\n",
    "- __name : private\n",
    "\n",
    "\n",
    "- 강제성 x, 약속된 규약에 따라 코딩 장려(자유도, 책임감 장려)\n",
    "- 타 클래스(클래스 변수, 인스턴스 변수 값 쓰기 장려 안 함) -> naming mangling\n",
    "- 타 클래스 __ 접근하지 않는 것이 원칙"
   ]
  },
  {
   "cell_type": "code",
   "execution_count": 12,
   "id": "6cad6f01",
   "metadata": {
    "ExecuteTime": {
     "end_time": "2021-12-21T20:15:18.363465Z",
     "start_time": "2021-12-21T20:15:18.347467Z"
    }
   },
   "outputs": [
    {
     "data": {
      "text/plain": [
       "1"
      ]
     },
     "execution_count": 12,
     "metadata": {},
     "output_type": "execute_result"
    }
   ],
   "source": [
    "class SampleA:\n",
    "    def __init__(self):\n",
    "        self.x = 0\n",
    "        self.__y = 0\n",
    "        self._z = 0\n",
    "        \n",
    "a = SampleA()\n",
    "a.x = 1\n",
    "\n",
    "a.x"
   ]
  },
  {
   "cell_type": "code",
   "execution_count": 13,
   "id": "7b4a96dc",
   "metadata": {
    "ExecuteTime": {
     "end_time": "2021-12-21T20:15:42.345432Z",
     "start_time": "2021-12-21T20:15:42.221433Z"
    }
   },
   "outputs": [
    {
     "ename": "AttributeError",
     "evalue": "'SampleA' object has no attribute '__y'",
     "output_type": "error",
     "traceback": [
      "\u001b[1;31m---------------------------------------------------------------------------\u001b[0m",
      "\u001b[1;31mAttributeError\u001b[0m                            Traceback (most recent call last)",
      "\u001b[1;32mC:\\Users\\SEUNGH~1\\AppData\\Local\\Temp/ipykernel_14304/732905193.py\u001b[0m in \u001b[0;36m<module>\u001b[1;34m\u001b[0m\n\u001b[1;32m----> 1\u001b[1;33m \u001b[0ma\u001b[0m\u001b[1;33m.\u001b[0m\u001b[0m__y\u001b[0m\u001b[1;33m\u001b[0m\u001b[1;33m\u001b[0m\u001b[0m\n\u001b[0m",
      "\u001b[1;31mAttributeError\u001b[0m: 'SampleA' object has no attribute '__y'"
     ]
    }
   ],
   "source": [
    "a.__y"
   ]
  },
  {
   "cell_type": "code",
   "execution_count": 14,
   "id": "447a655c",
   "metadata": {
    "ExecuteTime": {
     "end_time": "2021-12-21T20:16:17.435401Z",
     "start_time": "2021-12-21T20:16:17.420401Z"
    }
   },
   "outputs": [
    {
     "data": {
      "text/plain": [
       "0"
      ]
     },
     "execution_count": 14,
     "metadata": {},
     "output_type": "execute_result"
    }
   ],
   "source": [
    "a._z"
   ]
  },
  {
   "cell_type": "code",
   "execution_count": 19,
   "id": "6c75cc72",
   "metadata": {
    "ExecuteTime": {
     "end_time": "2021-12-21T20:18:39.872205Z",
     "start_time": "2021-12-21T20:18:39.858187Z"
    }
   },
   "outputs": [
    {
     "data": {
      "text/plain": [
       "['_SampleA__y',\n",
       " '__class__',\n",
       " '__delattr__',\n",
       " '__dict__',\n",
       " '__dir__',\n",
       " '__doc__',\n",
       " '__eq__',\n",
       " '__format__',\n",
       " '__ge__',\n",
       " '__getattribute__',\n",
       " '__gt__',\n",
       " '__hash__',\n",
       " '__init__',\n",
       " '__init_subclass__',\n",
       " '__le__',\n",
       " '__lt__',\n",
       " '__module__',\n",
       " '__ne__',\n",
       " '__new__',\n",
       " '__reduce__',\n",
       " '__reduce_ex__',\n",
       " '__repr__',\n",
       " '__setattr__',\n",
       " '__sizeof__',\n",
       " '__str__',\n",
       " '__subclasshook__',\n",
       " '__weakref__',\n",
       " '_z',\n",
       " 'x']"
      ]
     },
     "execution_count": 19,
     "metadata": {},
     "output_type": "execute_result"
    }
   ],
   "source": [
    "# priviate 변수는 임의로 이름을 바꾸주는 현상이 있음\n",
    "dir(a)"
   ]
  },
  {
   "cell_type": "code",
   "execution_count": 20,
   "id": "dbda47b4",
   "metadata": {
    "ExecuteTime": {
     "end_time": "2021-12-21T20:19:01.232123Z",
     "start_time": "2021-12-21T20:19:01.217126Z"
    }
   },
   "outputs": [
    {
     "data": {
      "text/plain": [
       "2"
      ]
     },
     "execution_count": 20,
     "metadata": {},
     "output_type": "execute_result"
    }
   ],
   "source": [
    "# 강제로 바꿀 수는 있으나 규약에 따라 바꾸면 안 됨\n",
    "a._SampleA__y = 2\n",
    "a._SampleA__y"
   ]
  },
  {
   "cell_type": "markdown",
   "id": "36eb24dd",
   "metadata": {
    "ExecuteTime": {
     "end_time": "2021-12-21T20:20:38.139367Z",
     "start_time": "2021-12-21T20:20:38.132366Z"
    }
   },
   "source": [
    "## ex3\n",
    "메소드 활용 Getter, Setter"
   ]
  },
  {
   "cell_type": "code",
   "execution_count": 23,
   "id": "86c4441d",
   "metadata": {
    "ExecuteTime": {
     "end_time": "2021-12-21T20:24:11.476684Z",
     "start_time": "2021-12-21T20:24:11.460685Z"
    }
   },
   "outputs": [
    {
     "data": {
      "text/plain": [
       "2"
      ]
     },
     "execution_count": 23,
     "metadata": {},
     "output_type": "execute_result"
    }
   ],
   "source": [
    "class SampleB:\n",
    "    def __init__(self):\n",
    "        self.x = 0\n",
    "        self.__y = 0 #_SampleB__y\n",
    "    \n",
    "    def get_y(self):\n",
    "        return self.__y\n",
    "    \n",
    "    def set_y(self, value):\n",
    "        self.__y = value\n",
    "\n",
    "b = SampleB()\n",
    "b.set_y(2)\n",
    "b.get_y()"
   ]
  },
  {
   "cell_type": "code",
   "execution_count": 24,
   "id": "78330808",
   "metadata": {
    "ExecuteTime": {
     "end_time": "2021-12-21T20:25:32.465574Z",
     "start_time": "2021-12-21T20:25:32.455571Z"
    }
   },
   "outputs": [
    {
     "data": {
      "text/plain": [
       "['_SampleB__y',\n",
       " '__class__',\n",
       " '__delattr__',\n",
       " '__dict__',\n",
       " '__dir__',\n",
       " '__doc__',\n",
       " '__eq__',\n",
       " '__format__',\n",
       " '__ge__',\n",
       " '__getattribute__',\n",
       " '__gt__',\n",
       " '__hash__',\n",
       " '__init__',\n",
       " '__init_subclass__',\n",
       " '__le__',\n",
       " '__lt__',\n",
       " '__module__',\n",
       " '__ne__',\n",
       " '__new__',\n",
       " '__reduce__',\n",
       " '__reduce_ex__',\n",
       " '__repr__',\n",
       " '__setattr__',\n",
       " '__sizeof__',\n",
       " '__str__',\n",
       " '__subclasshook__',\n",
       " '__weakref__',\n",
       " 'get_y',\n",
       " 'set_y',\n",
       " 'x']"
      ]
     },
     "execution_count": 24,
     "metadata": {},
     "output_type": "execute_result"
    }
   ],
   "source": [
    "dir(b)"
   ]
  },
  {
   "cell_type": "code",
   "execution_count": null,
   "id": "2bc13083",
   "metadata": {},
   "outputs": [],
   "source": []
  }
 ],
 "metadata": {
  "kernelspec": {
   "display_name": "cv",
   "language": "python",
   "name": "cv"
  },
  "language_info": {
   "codemirror_mode": {
    "name": "ipython",
    "version": 3
   },
   "file_extension": ".py",
   "mimetype": "text/x-python",
   "name": "python",
   "nbconvert_exporter": "python",
   "pygments_lexer": "ipython3",
   "version": "3.9.7"
  },
  "toc": {
   "base_numbering": 1,
   "nav_menu": {},
   "number_sections": true,
   "sideBar": true,
   "skip_h1_title": false,
   "title_cell": "Table of Contents",
   "title_sidebar": "Contents",
   "toc_cell": false,
   "toc_position": {},
   "toc_section_display": true,
   "toc_window_display": false
  }
 },
 "nbformat": 4,
 "nbformat_minor": 5
}
