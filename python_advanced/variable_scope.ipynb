{
 "cells": [
  {
   "cell_type": "markdown",
   "id": "bc0775ad",
   "metadata": {},
   "source": [
    "# Python variable scope\n",
    "Keyword - scope, global, nonlocal, locals, globals\n",
    "\n"
   ]
  },
  {
   "cell_type": "markdown",
   "id": "99252c8d",
   "metadata": {},
   "source": [
    "- 전역변수 Global variable - 주로 변하지 않는 고정값에 사용\n",
    "- 지역변수 Local variable - 함수 내 로직 해결에 국한, 소멸 주기(함수 실행 해제시 실행)\n",
    "- 전역변수를 지역 내에서 수정되는 것은 권장하지 않음"
   ]
  },
  {
   "cell_type": "code",
   "execution_count": 6,
   "id": "69ea8641",
   "metadata": {
    "ExecuteTime": {
     "end_time": "2021-12-19T19:44:35.368166Z",
     "start_time": "2021-12-19T19:44:35.350505Z"
    },
    "scrolled": true
   },
   "outputs": [
    {
     "name": "stdout",
     "output_type": "stream",
     "text": [
      "ex1 >  10\n"
     ]
    }
   ],
   "source": [
    "# ex1\n",
    "a = 10 # Global variable\n",
    "\n",
    "def foo():\n",
    "  \n",
    "    print('ex1 > ' , a)    # Read global variable\n",
    "\n",
    "foo()"
   ]
  },
  {
   "cell_type": "code",
   "execution_count": 15,
   "id": "2a1d1e92",
   "metadata": {
    "ExecuteTime": {
     "end_time": "2021-12-19T19:46:52.570981Z",
     "start_time": "2021-12-19T19:46:52.560983Z"
    },
    "scrolled": true
   },
   "outputs": [
    {
     "name": "stdout",
     "output_type": "stream",
     "text": [
      "ex2 >  30\n",
      "ex2 >  20\n"
     ]
    }
   ],
   "source": [
    "# ex2\n",
    "b = 20\n",
    "\n",
    "def bar():\n",
    "    \n",
    "    b = 30 # Local variable\n",
    "    print('ex2 > ', b) # Read local variable\n",
    "    \n",
    "bar()\n",
    "\n",
    "# Global scope 안에 변수가 있는지 확인 후 값을 가지고 옴. 없으면 예외 발생 (NameError)\n",
    "print('ex2 > ', b)"
   ]
  },
  {
   "cell_type": "code",
   "execution_count": 16,
   "id": "3197a2f6",
   "metadata": {
    "ExecuteTime": {
     "end_time": "2021-12-19T19:48:20.138161Z",
     "start_time": "2021-12-19T19:48:20.130160Z"
    }
   },
   "outputs": [
    {
     "ename": "UnboundLocalError",
     "evalue": "local variable 'c' referenced before assignment",
     "output_type": "error",
     "traceback": [
      "\u001b[1;31m---------------------------------------------------------------------------\u001b[0m",
      "\u001b[1;31mUnboundLocalError\u001b[0m                         Traceback (most recent call last)",
      "\u001b[1;32mC:\\Users\\SEUNGH~1\\AppData\\Local\\Temp/ipykernel_6024/770481764.py\u001b[0m in \u001b[0;36m<module>\u001b[1;34m\u001b[0m\n\u001b[0;32m      5\u001b[0m     \u001b[0mprint\u001b[0m\u001b[1;33m(\u001b[0m\u001b[1;34m'ex 3 >'\u001b[0m\u001b[1;33m,\u001b[0m \u001b[0mc\u001b[0m\u001b[1;33m)\u001b[0m\u001b[1;33m\u001b[0m\u001b[1;33m\u001b[0m\u001b[0m\n\u001b[0;32m      6\u001b[0m \u001b[1;33m\u001b[0m\u001b[0m\n\u001b[1;32m----> 7\u001b[1;33m \u001b[0mfoobar\u001b[0m\u001b[1;33m(\u001b[0m\u001b[1;33m)\u001b[0m\u001b[1;33m\u001b[0m\u001b[1;33m\u001b[0m\u001b[0m\n\u001b[0m\u001b[0;32m      8\u001b[0m \u001b[1;33m\u001b[0m\u001b[0m\n\u001b[0;32m      9\u001b[0m '''\n",
      "\u001b[1;32mC:\\Users\\SEUNGH~1\\AppData\\Local\\Temp/ipykernel_6024/770481764.py\u001b[0m in \u001b[0;36mfoobar\u001b[1;34m()\u001b[0m\n\u001b[0;32m      2\u001b[0m \u001b[1;33m\u001b[0m\u001b[0m\n\u001b[0;32m      3\u001b[0m \u001b[1;32mdef\u001b[0m \u001b[0mfoobar\u001b[0m\u001b[1;33m(\u001b[0m\u001b[1;33m)\u001b[0m\u001b[1;33m:\u001b[0m\u001b[1;33m\u001b[0m\u001b[1;33m\u001b[0m\u001b[0m\n\u001b[1;32m----> 4\u001b[1;33m     \u001b[0mc\u001b[0m \u001b[1;33m=\u001b[0m \u001b[0mc\u001b[0m \u001b[1;33m+\u001b[0m \u001b[1;36m10\u001b[0m\u001b[1;33m\u001b[0m\u001b[1;33m\u001b[0m\u001b[0m\n\u001b[0m\u001b[0;32m      5\u001b[0m     \u001b[0mprint\u001b[0m\u001b[1;33m(\u001b[0m\u001b[1;34m'ex 3 >'\u001b[0m\u001b[1;33m,\u001b[0m \u001b[0mc\u001b[0m\u001b[1;33m)\u001b[0m\u001b[1;33m\u001b[0m\u001b[1;33m\u001b[0m\u001b[0m\n\u001b[0;32m      6\u001b[0m \u001b[1;33m\u001b[0m\u001b[0m\n",
      "\u001b[1;31mUnboundLocalError\u001b[0m: local variable 'c' referenced before assignment"
     ]
    }
   ],
   "source": [
    "# ex3\n",
    "'''\n",
    "- UnboundLocalError\n",
    "- 전역에 있는 변수를 로컬에서 변경이 가능하나 특정 예약어(global)가 필요\n",
    "'''\n",
    "\n",
    "c = 40\n",
    "\n",
    "def foobar():\n",
    "    c = c + 10\n",
    "    print('ex 3 >', c)\n",
    "\n",
    "foobar()"
   ]
  },
  {
   "cell_type": "code",
   "execution_count": 20,
   "id": "2b693dfc",
   "metadata": {
    "ExecuteTime": {
     "end_time": "2021-12-19T19:51:53.091879Z",
     "start_time": "2021-12-19T19:51:53.082880Z"
    }
   },
   "outputs": [
    {
     "name": "stdout",
     "output_type": "stream",
     "text": [
      "ex 4 > 150\n"
     ]
    }
   ],
   "source": [
    "# ex4\n",
    "'''\n",
    "- 전역 변수는 'global' 선언을 통해서 전역 변수에 있는 것을 로컬에서 사용 가능함\n",
    "- 하지만 global로 선언하는 것은 자제할 필요가 있음. 유지 보수의 어려움(코드가 많을 떄)\n",
    "'''\n",
    "\n",
    "d = 50\n",
    "\n",
    "def foobar():\n",
    "    global d\n",
    "    d += 100\n",
    "    print('ex 4 >', d)\n",
    "\n",
    "foobar()\n"
   ]
  },
  {
   "cell_type": "code",
   "execution_count": 24,
   "id": "b347fd47",
   "metadata": {
    "ExecuteTime": {
     "end_time": "2021-12-19T19:52:28.706864Z",
     "start_time": "2021-12-19T19:52:28.694865Z"
    }
   },
   "outputs": [
    {
     "name": "stdout",
     "output_type": "stream",
     "text": [
      "ex 4-1 > 120\n",
      "ex 4-1 > 120\n"
     ]
    }
   ],
   "source": [
    "# ex4 -1\n",
    "'''\n",
    "\n",
    "'''\n",
    "\n",
    "d = 50\n",
    "\n",
    "def foobar():\n",
    "    global d\n",
    "    d = 20\n",
    "    d += 100\n",
    "    print('ex 4-1 >', d)\n",
    "\n",
    "foobar()\n",
    "\n",
    "print('ex 4-1 >', d)"
   ]
  },
  {
   "cell_type": "code",
   "execution_count": 32,
   "id": "4ee9b86a",
   "metadata": {
    "ExecuteTime": {
     "end_time": "2021-12-19T20:01:58.695823Z",
     "start_time": "2021-12-19T20:01:58.675825Z"
    }
   },
   "outputs": [
    {
     "ename": "UnboundLocalError",
     "evalue": "local variable 'e' referenced before assignment",
     "output_type": "error",
     "traceback": [
      "\u001b[1;31m---------------------------------------------------------------------------\u001b[0m",
      "\u001b[1;31mUnboundLocalError\u001b[0m                         Traceback (most recent call last)",
      "\u001b[1;32mC:\\Users\\SEUNGH~1\\AppData\\Local\\Temp/ipykernel_6024/2627956231.py\u001b[0m in \u001b[0;36m<module>\u001b[1;34m\u001b[0m\n\u001b[0;32m     11\u001b[0m \u001b[1;33m\u001b[0m\u001b[0m\n\u001b[0;32m     12\u001b[0m \u001b[0min_test\u001b[0m \u001b[1;33m=\u001b[0m \u001b[0mouter\u001b[0m\u001b[1;33m(\u001b[0m\u001b[1;33m)\u001b[0m\u001b[1;33m\u001b[0m\u001b[1;33m\u001b[0m\u001b[0m\n\u001b[1;32m---> 13\u001b[1;33m \u001b[0min_test\u001b[0m\u001b[1;33m(\u001b[0m\u001b[1;33m)\u001b[0m\u001b[1;33m\u001b[0m\u001b[1;33m\u001b[0m\u001b[0m\n\u001b[0m",
      "\u001b[1;32mC:\\Users\\SEUNGH~1\\AppData\\Local\\Temp/ipykernel_6024/2627956231.py\u001b[0m in \u001b[0;36minner\u001b[1;34m()\u001b[0m\n\u001b[0;32m      5\u001b[0m     \u001b[1;31m# outer 하위에 있는 지역 변수\u001b[0m\u001b[1;33m\u001b[0m\u001b[1;33m\u001b[0m\u001b[0m\n\u001b[0;32m      6\u001b[0m     \u001b[1;32mdef\u001b[0m \u001b[0minner\u001b[0m\u001b[1;33m(\u001b[0m\u001b[1;33m)\u001b[0m\u001b[1;33m:\u001b[0m\u001b[1;33m\u001b[0m\u001b[1;33m\u001b[0m\u001b[0m\n\u001b[1;32m----> 7\u001b[1;33m         \u001b[0me\u001b[0m \u001b[1;33m+=\u001b[0m \u001b[1;36m10\u001b[0m \u001b[1;31m# e = e + 10\u001b[0m\u001b[1;33m\u001b[0m\u001b[1;33m\u001b[0m\u001b[0m\n\u001b[0m\u001b[0;32m      8\u001b[0m         \u001b[0mprint\u001b[0m\u001b[1;33m(\u001b[0m\u001b[1;34m'ex5 >'\u001b[0m\u001b[1;33m,\u001b[0m \u001b[0me\u001b[0m\u001b[1;33m)\u001b[0m\u001b[1;33m\u001b[0m\u001b[1;33m\u001b[0m\u001b[0m\n\u001b[0;32m      9\u001b[0m \u001b[1;33m\u001b[0m\u001b[0m\n",
      "\u001b[1;31mUnboundLocalError\u001b[0m: local variable 'e' referenced before assignment"
     ]
    }
   ],
   "source": [
    "# ex5 - Closure\n",
    "'''\n",
    "- UnboundLocalError\n",
    "- 서로 다른 지역변수인 것처럼 보이지만 하위 지역변수(inner())에서 상위 지역변수(outer())을 수정 불가\n",
    "- nonlocal 예약어를 통해 수정 가능\n",
    "'''\n",
    "def outer():\n",
    "    e = 70\n",
    "    # outer 하위에 있는 지역 변수\n",
    "    def inner():\n",
    "        e += 10 # e = e + 10\n",
    "        print('ex5 >', e)\n",
    "    \n",
    "    return inner\n",
    "\n",
    "in_test = outer()\n",
    "in_test()"
   ]
  },
  {
   "cell_type": "code",
   "execution_count": 36,
   "id": "65265a59",
   "metadata": {
    "ExecuteTime": {
     "end_time": "2021-12-19T20:05:28.797725Z",
     "start_time": "2021-12-19T20:05:28.793725Z"
    }
   },
   "outputs": [
    {
     "name": "stdout",
     "output_type": "stream",
     "text": [
      "ex5 > 80\n",
      "ex5 > 90\n",
      "ex5 > 100\n",
      "ex5 > 110\n",
      "ex5 > 120\n"
     ]
    }
   ],
   "source": [
    "# ex5-1 - Closure\n",
    "'''\n",
    "nonlocal \n",
    "- 하나의 함수를 만들어 놓고, 효율적으로 운영 가능\n",
    "- 변수의 수를 아끼고, 모듈화를 통해서 사용하기 쉽게 만들기 위함\n",
    "'''\n",
    "def outer():\n",
    "    e = 70\n",
    "    # outer 하위에 있는 지역 변수\n",
    "    def inner():\n",
    "        nonlocal e \n",
    "        e += 10 # e = e + 10\n",
    "        print('ex5 >', e)\n",
    "    \n",
    "    return inner\n",
    "\n",
    "in_test = outer()\n",
    "in_test()\n",
    "\n",
    "# closure - generator - coroutine\n",
    "in_test() \n",
    "in_test()\n",
    "in_test()\n",
    "in_test()\n"
   ]
  },
  {
   "cell_type": "code",
   "execution_count": 37,
   "id": "cefbc2dd",
   "metadata": {
    "ExecuteTime": {
     "end_time": "2021-12-19T20:06:49.487883Z",
     "start_time": "2021-12-19T20:06:49.471884Z"
    }
   },
   "outputs": [
    {
     "name": "stdout",
     "output_type": "stream",
     "text": [
      "func inner {'var': 'hi', 'x': 10, 'printer': <function func.<locals>.printer at 0x0000023EDC612160>}\n"
     ]
    }
   ],
   "source": [
    "# ex6\n",
    "'''\n",
    "locals() : 지역 전체 출력\n",
    "'''\n",
    "def func(var):\n",
    "    x = 10\n",
    "    def printer():\n",
    "        print('ex6 > ', 'Printer func inner')\n",
    "        \n",
    "    print('func inner', locals())\n",
    "    \n",
    "func('hi')"
   ]
  },
  {
   "cell_type": "code",
   "execution_count": 40,
   "id": "6305105d",
   "metadata": {
    "ExecuteTime": {
     "end_time": "2021-12-19T20:09:09.695543Z",
     "start_time": "2021-12-19T20:09:09.682523Z"
    },
    "scrolled": true
   },
   "outputs": [
    {
     "name": "stdout",
     "output_type": "stream",
     "text": [
      "ex7 >  {'__name__': '__main__', '__doc__': '\\nnonlocal \\n- 하나의 함수를 만들어 놓고, 효율적으로 운영 가능\\n- 변수의 수를 아끼고, 모듈화를 통해서 사용하기 쉽게 만들기 위함\\n', '__package__': None, '__loader__': None, '__spec__': None, '__builtin__': <module 'builtins' (built-in)>, '__builtins__': <module 'builtins' (built-in)>, '_ih': ['', \"a = 10 # Global variable\\n\\ndef foo():\\n    # Read global variable\\n    \\n    print('Ex1 > ' , a)\\n\\nfoo()\", \"b = 20\\n\\ndef bar():\\n    \\n    b = 30\\n    print('EX2 > ', b)\\n    \\nbar()\", \"b = 20\\n\\ndef bar():\\n    \\n    b = 30\\n    print('ex2 > ', b)\\n    \\nbar()\", \"b = 20\\n\\ndef bar():\\n    \\n    b = 30\\n    print('ex2 > ', b)\\n    \\nbar()\", \"a = 10 # Global variable\\n\\ndef foo():\\n    # Read global variable\\n    \\n    print('ex1 > ' , a)\\n\\nfoo()\", \"a = 10 # Global variable\\n\\ndef foo():\\n  \\n    print('ex1 > ' , a)    # Read global variable\\n\\nfoo()\", \"b = 20\\n\\ndef bar():\\n    \\n    b = 30 # Local variable\\n    print('ex2 > ', b) # Read local variable\\n    \\nbar()\", \"print('ex 2 > ', b)\", \"print('ex 2 > ', b) #  Global scope 안에 변수가 있는지 확인 후 값을 가지고 옴. 없으면 예외\", \"# Global scope 안에 변수가 있는지 확인 후 값을 가지고 옴. 없으면 예외 발생 (NameError)\\n\\nprint('ex 2 > ', b)\", \"# Global scope 안에 변수가 있는지 확인 후 값을 가지고 옴. 없으면 예외 발생 (NameError)\\nprint('ex 2 > ', b)\", \"c = 40\\n\\ndef foobar():\\n    c = c + 10\\n    print('ex 3 >', c)\", \"c = 40\\n\\ndef foobar():\\n    c = c + 10\\n    print('ex 3 >', c)\\n\\nfoobar()\", \"b = 20\\n\\ndef bar():\\n    \\n    b = 30 # Local variable\\n    print('ex2 > ', b) # Read local variable\\n    \\nbar()\\n\\n# Global scope 안에 변수가 있는지 확인 후 값을 가지고 옴. 없으면 예외 발생 (NameError)\\nprint('ex 2 > ', b)\", \"b = 20\\n\\ndef bar():\\n    \\n    b = 30 # Local variable\\n    print('ex2 > ', b) # Read local variable\\n    \\nbar()\\n\\n# Global scope 안에 변수가 있는지 확인 후 값을 가지고 옴. 없으면 예외 발생 (NameError)\\nprint('ex2 > ', b)\", \"c = 40\\n\\ndef foobar():\\n    c = c + 10\\n    print('ex 3 >', c)\\n\\nfoobar()\\n\\n'''\\n- UnboundLocalError, 참조 에러 발생\\n- 전역에 있는 변수를 로컬에서 변경이 가능하나 특정 예약어가 필요\\n'''\", \"# ex4\\n\\nd = 50\\n\\ndef foobar():\\n    global d\\n    d = d + 10\\n    print('ex 4 >', d)\\n\\nfoobar()\", \"# ex4\\n'''\\n- 전역 변수는 'global' 선언을 통해서 전역 변수에 있는 것을 로컬에서 사용 가능함\\n- 하지만 global로 선언하는 것은 자제할 필요가 있음. 유지 보수의 어려움\\n'''\\n\\nd = 50\\n\\ndef foobar():\\n    global d\\n    d = d + 10\\n    print('ex 4 >', d)\\n\\nfoobar()\", \"# ex4\\n'''\\n- 전역 변수는 'global' 선언을 통해서 전역 변수에 있는 것을 로컬에서 사용 가능함\\n- 하지만 global로 선언하는 것은 자제할 필요가 있음. 유지 보수의 어려움\\n'''\\n\\nd = 50\\n\\ndef foobar():\\n    global d\\n    d = 60\\n    d += 100\\n    print('ex 4 >', d)\\n\\nfoobar()\", \"# ex4\\n'''\\n- 전역 변수는 'global' 선언을 통해서 전역 변수에 있는 것을 로컬에서 사용 가능함\\n- 하지만 global로 선언하는 것은 자제할 필요가 있음. 유지 보수의 어려움\\n'''\\n\\nd = 50\\n\\ndef foobar():\\n    global d\\n    d += 100\\n    print('ex 4 >', d)\\n\\nfoobar()\", \"# ex4 -1\\n'''\\n- 전역 변수는 'global' 선언을 통해서 전역 변수에 있는 것을 로컬에서 사용 가능함\\n- 하지만 global로 선언하는 것은 자제할 필요가 있음. 유지 보수의 어려움\\n'''\\n\\nd = 50\\n\\ndef foobar():\\n    global d\\n    d = 20\\n    d += 100\\n    print('ex 4 >', d)\\n\\nfoobar()\", \"# ex4 -1\\n'''\\n- 전역 변수는 'global' 선언을 통해서 전역 변수에 있는 것을 로컬에서 사용 가능함\\n- 하지만 global로 선언하는 것은 자제할 필요가 있음. 유지 보수의 어려움\\n'''\\n\\nd = 50\\n\\ndef foobar():\\n    global d\\n    d = 20\\n    d += 100\\n    print('ex 4-1 >', d)\\n\\nfoobar()\", \"# ex4 -1\\n'''\\n- 전역 변수는 'global' 선언을 통해서 전역 변수에 있는 것을 로컬에서 사용 가능함\\n- 하지만 global로 선언하는 것은 자제할 필요가 있음. 유지 보수의 어려움\\n'''\\n\\nd = 50\\n\\ndef foobar():\\n    global d\\n    d = 20\\n    d += 100\\n    print('ex 4-1 >', d)\\n\\nfoobar()\\n\\nprint('ex 4 >', d)\", \"# ex4 -1\\n'''\\n- 전역 변수는 'global' 선언을 통해서 전역 변수에 있는 것을 로컬에서 사용 가능함\\n- 하지만 global로 선언하는 것은 자제할 필요가 있음. 유지 보수의 어려움\\n'''\\n\\nd = 50\\n\\ndef foobar():\\n    global d\\n    d = 20\\n    d += 100\\n    print('ex 4-1 >', d)\\n\\nfoobar()\\n\\nprint('ex 4-1 >', d)\", \"# ex5\\n\\ndef outer():\\n    e = 70\\n    \\n    def inner():\\n        e += 10 # e = e + 10\\n        print('ex5 >', e)\", \"# ex5\\n\\ndef outer():\\n    e = 70\\n    \\n    def inner():\\n        e += 10 # e = e + 10\\n        print('ex5 >', e)\\n    return inner\", \"# ex5\\n\\ndef outer():\\n    e = 70\\n    \\n    def inner():\\n        e += 10 # e = e + 10\\n        print('ex5 >', e)\\n    return inner\\n\\nouter()\", \"# ex5\\n\\ndef outer():\\n    e = 70\\n    \\n    def inner():\\n        e += 10 # e = e + 10\\n        print('ex5 >', e)\\n    \\n    return inner\\n\\nouter()\", \"# ex5 - Closure\\n\\ndef outer():\\n    e = 70\\n    \\n    # outer 하위에 있는 지역 변수\\n    def inner():\\n        e += 10 # e = e + 10\\n        print('ex5 >', e)\\n    \\n    return inner\\n\\nin_test = outer()\\nin_test\", \"# ex5 - Closure\\n\\ndef outer():\\n    e = 70\\n    # outer 하위에 있는 지역 변수\\n    def inner():\\n        e += 10 # e = e + 10\\n        print('ex5 >', e)\\n    \\n    return inner\\n\\nin_test = outer()\\nin_test\", \"# ex5-1 - Closure\\n\\ndef outer():\\n    e = 70\\n    # outer 하위에 있는 지역 변수\\n    def inner():\\n        nonlocal e\\n        e += 10 # e = e + 10\\n        print('ex5 >', e)\\n    \\n    return inner\\n\\nin_test = outer()\\nin_test\", \"# ex5 - Closure\\n\\ndef outer():\\n    e = 70\\n    # outer 하위에 있는 지역 변수\\n    def inner():\\n        e += 10 # e = e + 10\\n        print('ex5 >', e)\\n    \\n    return inner\\n\\nin_test = outer()\\nin_test()\", \"# ex5-1 - Closure\\n\\ndef outer():\\n    e = 70\\n    # outer 하위에 있는 지역 변수\\n    def inner():\\n        nonlocal e # 하나의 함수를 만들어 놓고, 변수의 수를 아끼고, 사용하기 쉽게 만들기 위해서\\n        e += 10 # e = e + 10\\n        print('ex5 >', e)\\n    \\n    return inner\\n\\nin_test = outer()\\nin_test()\", \"# ex5-1 - Closure\\n'''\\nnonlocal \\n- 하나의 함수를 만들어 놓고, 효율적으로 운영 가능\\n- 변수의 수를 아끼고, 모듈화를 통해서 사용하기 쉽게 만들기 위함\\n'''\\ndef outer():\\n    e = 70\\n    # outer 하위에 있는 지역 변수\\n    def inner():\\n        nonlocal e \\n        e += 10 # e = e + 10\\n        print('ex5 >', e)\\n    \\n    return inner\\n\\nin_test = outer()\\nin_test()\", \"# ex5-1 - Closure\\n'''\\nnonlocal \\n- 하나의 함수를 만들어 놓고, 효율적으로 운영 가능\\n- 변수의 수를 아끼고, 모듈화를 통해서 사용하기 쉽게 만들기 위함\\n'''\\ndef outer():\\n    e = 70\\n    # outer 하위에 있는 지역 변수\\n    def inner():\\n        nonlocal e \\n        e += 10 # e = e + 10\\n        print('ex5 >', e)\\n    \\n    return inner\\n\\nin_test = outer()\\nin_test()\\nin_test()\\nin_test()\", \"# ex5-1 - Closure\\n'''\\nnonlocal \\n- 하나의 함수를 만들어 놓고, 효율적으로 운영 가능\\n- 변수의 수를 아끼고, 모듈화를 통해서 사용하기 쉽게 만들기 위함\\n'''\\ndef outer():\\n    e = 70\\n    # outer 하위에 있는 지역 변수\\n    def inner():\\n        nonlocal e \\n        e += 10 # e = e + 10\\n        print('ex5 >', e)\\n    \\n    return inner\\n\\nin_test = outer()\\nin_test()\\n\\n# closure - generator - coroutine\\nin_test() \\nin_test()\\nin_test()\\nin_test()\", \"# ex6\\n\\ndef func(var):\\n    x = 10\\n    def printer():\\n        print('ex6 > ', 'Printer func inner')\\n        \\n    print('func inner', locals())\\n    \\nfunc('hi')\", \"# ex7\\nprint('ex7 > ' globals())\", \"# ex7\\nprint('ex7 > ', globals())\", \"# ex7\\nprint('ex7 > ', globals())\\ntest_Variable = 100\\nprint('ex7 > ', globals())\"], '_oh': {27: <function outer.<locals>.inner at 0x0000023EDBB5BE50>, 28: <function outer.<locals>.inner at 0x0000023EDBB5BB80>, 29: <function outer.<locals>.inner at 0x0000023EDC612CA0>, 30: <function outer.<locals>.inner at 0x0000023EDBB5B820>, 31: <function outer.<locals>.inner at 0x0000023EDC1BAE50>}, '_dh': ['D:\\\\Project\\\\FluentPython\\\\python_advanced'], 'In': ['', \"a = 10 # Global variable\\n\\ndef foo():\\n    # Read global variable\\n    \\n    print('Ex1 > ' , a)\\n\\nfoo()\", \"b = 20\\n\\ndef bar():\\n    \\n    b = 30\\n    print('EX2 > ', b)\\n    \\nbar()\", \"b = 20\\n\\ndef bar():\\n    \\n    b = 30\\n    print('ex2 > ', b)\\n    \\nbar()\", \"b = 20\\n\\ndef bar():\\n    \\n    b = 30\\n    print('ex2 > ', b)\\n    \\nbar()\", \"a = 10 # Global variable\\n\\ndef foo():\\n    # Read global variable\\n    \\n    print('ex1 > ' , a)\\n\\nfoo()\", \"a = 10 # Global variable\\n\\ndef foo():\\n  \\n    print('ex1 > ' , a)    # Read global variable\\n\\nfoo()\", \"b = 20\\n\\ndef bar():\\n    \\n    b = 30 # Local variable\\n    print('ex2 > ', b) # Read local variable\\n    \\nbar()\", \"print('ex 2 > ', b)\", \"print('ex 2 > ', b) #  Global scope 안에 변수가 있는지 확인 후 값을 가지고 옴. 없으면 예외\", \"# Global scope 안에 변수가 있는지 확인 후 값을 가지고 옴. 없으면 예외 발생 (NameError)\\n\\nprint('ex 2 > ', b)\", \"# Global scope 안에 변수가 있는지 확인 후 값을 가지고 옴. 없으면 예외 발생 (NameError)\\nprint('ex 2 > ', b)\", \"c = 40\\n\\ndef foobar():\\n    c = c + 10\\n    print('ex 3 >', c)\", \"c = 40\\n\\ndef foobar():\\n    c = c + 10\\n    print('ex 3 >', c)\\n\\nfoobar()\", \"b = 20\\n\\ndef bar():\\n    \\n    b = 30 # Local variable\\n    print('ex2 > ', b) # Read local variable\\n    \\nbar()\\n\\n# Global scope 안에 변수가 있는지 확인 후 값을 가지고 옴. 없으면 예외 발생 (NameError)\\nprint('ex 2 > ', b)\", \"b = 20\\n\\ndef bar():\\n    \\n    b = 30 # Local variable\\n    print('ex2 > ', b) # Read local variable\\n    \\nbar()\\n\\n# Global scope 안에 변수가 있는지 확인 후 값을 가지고 옴. 없으면 예외 발생 (NameError)\\nprint('ex2 > ', b)\", \"c = 40\\n\\ndef foobar():\\n    c = c + 10\\n    print('ex 3 >', c)\\n\\nfoobar()\\n\\n'''\\n- UnboundLocalError, 참조 에러 발생\\n- 전역에 있는 변수를 로컬에서 변경이 가능하나 특정 예약어가 필요\\n'''\", \"# ex4\\n\\nd = 50\\n\\ndef foobar():\\n    global d\\n    d = d + 10\\n    print('ex 4 >', d)\\n\\nfoobar()\", \"# ex4\\n'''\\n- 전역 변수는 'global' 선언을 통해서 전역 변수에 있는 것을 로컬에서 사용 가능함\\n- 하지만 global로 선언하는 것은 자제할 필요가 있음. 유지 보수의 어려움\\n'''\\n\\nd = 50\\n\\ndef foobar():\\n    global d\\n    d = d + 10\\n    print('ex 4 >', d)\\n\\nfoobar()\", \"# ex4\\n'''\\n- 전역 변수는 'global' 선언을 통해서 전역 변수에 있는 것을 로컬에서 사용 가능함\\n- 하지만 global로 선언하는 것은 자제할 필요가 있음. 유지 보수의 어려움\\n'''\\n\\nd = 50\\n\\ndef foobar():\\n    global d\\n    d = 60\\n    d += 100\\n    print('ex 4 >', d)\\n\\nfoobar()\", \"# ex4\\n'''\\n- 전역 변수는 'global' 선언을 통해서 전역 변수에 있는 것을 로컬에서 사용 가능함\\n- 하지만 global로 선언하는 것은 자제할 필요가 있음. 유지 보수의 어려움\\n'''\\n\\nd = 50\\n\\ndef foobar():\\n    global d\\n    d += 100\\n    print('ex 4 >', d)\\n\\nfoobar()\", \"# ex4 -1\\n'''\\n- 전역 변수는 'global' 선언을 통해서 전역 변수에 있는 것을 로컬에서 사용 가능함\\n- 하지만 global로 선언하는 것은 자제할 필요가 있음. 유지 보수의 어려움\\n'''\\n\\nd = 50\\n\\ndef foobar():\\n    global d\\n    d = 20\\n    d += 100\\n    print('ex 4 >', d)\\n\\nfoobar()\", \"# ex4 -1\\n'''\\n- 전역 변수는 'global' 선언을 통해서 전역 변수에 있는 것을 로컬에서 사용 가능함\\n- 하지만 global로 선언하는 것은 자제할 필요가 있음. 유지 보수의 어려움\\n'''\\n\\nd = 50\\n\\ndef foobar():\\n    global d\\n    d = 20\\n    d += 100\\n    print('ex 4-1 >', d)\\n\\nfoobar()\", \"# ex4 -1\\n'''\\n- 전역 변수는 'global' 선언을 통해서 전역 변수에 있는 것을 로컬에서 사용 가능함\\n- 하지만 global로 선언하는 것은 자제할 필요가 있음. 유지 보수의 어려움\\n'''\\n\\nd = 50\\n\\ndef foobar():\\n    global d\\n    d = 20\\n    d += 100\\n    print('ex 4-1 >', d)\\n\\nfoobar()\\n\\nprint('ex 4 >', d)\", \"# ex4 -1\\n'''\\n- 전역 변수는 'global' 선언을 통해서 전역 변수에 있는 것을 로컬에서 사용 가능함\\n- 하지만 global로 선언하는 것은 자제할 필요가 있음. 유지 보수의 어려움\\n'''\\n\\nd = 50\\n\\ndef foobar():\\n    global d\\n    d = 20\\n    d += 100\\n    print('ex 4-1 >', d)\\n\\nfoobar()\\n\\nprint('ex 4-1 >', d)\", \"# ex5\\n\\ndef outer():\\n    e = 70\\n    \\n    def inner():\\n        e += 10 # e = e + 10\\n        print('ex5 >', e)\", \"# ex5\\n\\ndef outer():\\n    e = 70\\n    \\n    def inner():\\n        e += 10 # e = e + 10\\n        print('ex5 >', e)\\n    return inner\", \"# ex5\\n\\ndef outer():\\n    e = 70\\n    \\n    def inner():\\n        e += 10 # e = e + 10\\n        print('ex5 >', e)\\n    return inner\\n\\nouter()\", \"# ex5\\n\\ndef outer():\\n    e = 70\\n    \\n    def inner():\\n        e += 10 # e = e + 10\\n        print('ex5 >', e)\\n    \\n    return inner\\n\\nouter()\", \"# ex5 - Closure\\n\\ndef outer():\\n    e = 70\\n    \\n    # outer 하위에 있는 지역 변수\\n    def inner():\\n        e += 10 # e = e + 10\\n        print('ex5 >', e)\\n    \\n    return inner\\n\\nin_test = outer()\\nin_test\", \"# ex5 - Closure\\n\\ndef outer():\\n    e = 70\\n    # outer 하위에 있는 지역 변수\\n    def inner():\\n        e += 10 # e = e + 10\\n        print('ex5 >', e)\\n    \\n    return inner\\n\\nin_test = outer()\\nin_test\", \"# ex5-1 - Closure\\n\\ndef outer():\\n    e = 70\\n    # outer 하위에 있는 지역 변수\\n    def inner():\\n        nonlocal e\\n        e += 10 # e = e + 10\\n        print('ex5 >', e)\\n    \\n    return inner\\n\\nin_test = outer()\\nin_test\", \"# ex5 - Closure\\n\\ndef outer():\\n    e = 70\\n    # outer 하위에 있는 지역 변수\\n    def inner():\\n        e += 10 # e = e + 10\\n        print('ex5 >', e)\\n    \\n    return inner\\n\\nin_test = outer()\\nin_test()\", \"# ex5-1 - Closure\\n\\ndef outer():\\n    e = 70\\n    # outer 하위에 있는 지역 변수\\n    def inner():\\n        nonlocal e # 하나의 함수를 만들어 놓고, 변수의 수를 아끼고, 사용하기 쉽게 만들기 위해서\\n        e += 10 # e = e + 10\\n        print('ex5 >', e)\\n    \\n    return inner\\n\\nin_test = outer()\\nin_test()\", \"# ex5-1 - Closure\\n'''\\nnonlocal \\n- 하나의 함수를 만들어 놓고, 효율적으로 운영 가능\\n- 변수의 수를 아끼고, 모듈화를 통해서 사용하기 쉽게 만들기 위함\\n'''\\ndef outer():\\n    e = 70\\n    # outer 하위에 있는 지역 변수\\n    def inner():\\n        nonlocal e \\n        e += 10 # e = e + 10\\n        print('ex5 >', e)\\n    \\n    return inner\\n\\nin_test = outer()\\nin_test()\", \"# ex5-1 - Closure\\n'''\\nnonlocal \\n- 하나의 함수를 만들어 놓고, 효율적으로 운영 가능\\n- 변수의 수를 아끼고, 모듈화를 통해서 사용하기 쉽게 만들기 위함\\n'''\\ndef outer():\\n    e = 70\\n    # outer 하위에 있는 지역 변수\\n    def inner():\\n        nonlocal e \\n        e += 10 # e = e + 10\\n        print('ex5 >', e)\\n    \\n    return inner\\n\\nin_test = outer()\\nin_test()\\nin_test()\\nin_test()\", \"# ex5-1 - Closure\\n'''\\nnonlocal \\n- 하나의 함수를 만들어 놓고, 효율적으로 운영 가능\\n- 변수의 수를 아끼고, 모듈화를 통해서 사용하기 쉽게 만들기 위함\\n'''\\ndef outer():\\n    e = 70\\n    # outer 하위에 있는 지역 변수\\n    def inner():\\n        nonlocal e \\n        e += 10 # e = e + 10\\n        print('ex5 >', e)\\n    \\n    return inner\\n\\nin_test = outer()\\nin_test()\\n\\n# closure - generator - coroutine\\nin_test() \\nin_test()\\nin_test()\\nin_test()\", \"# ex6\\n\\ndef func(var):\\n    x = 10\\n    def printer():\\n        print('ex6 > ', 'Printer func inner')\\n        \\n    print('func inner', locals())\\n    \\nfunc('hi')\", \"# ex7\\nprint('ex7 > ' globals())\", \"# ex7\\nprint('ex7 > ', globals())\", \"# ex7\\nprint('ex7 > ', globals())\\ntest_Variable = 100\\nprint('ex7 > ', globals())\"], 'Out': {27: <function outer.<locals>.inner at 0x0000023EDBB5BE50>, 28: <function outer.<locals>.inner at 0x0000023EDBB5BB80>, 29: <function outer.<locals>.inner at 0x0000023EDC612CA0>, 30: <function outer.<locals>.inner at 0x0000023EDBB5B820>, 31: <function outer.<locals>.inner at 0x0000023EDC1BAE50>}, 'get_ipython': <bound method InteractiveShell.get_ipython of <ipykernel.zmqshell.ZMQInteractiveShell object at 0x0000023EDA8CF040>>, 'exit': <IPython.core.autocall.ZMQExitAutocall object at 0x0000023EDA8CFC70>, 'quit': <IPython.core.autocall.ZMQExitAutocall object at 0x0000023EDA8CFC70>, '_': <function outer.<locals>.inner at 0x0000023EDC1BAE50>, '__': <function outer.<locals>.inner at 0x0000023EDBB5B820>, '___': <function outer.<locals>.inner at 0x0000023EDC612CA0>, 'json': <module 'json' from 'C:\\\\Users\\\\SeunghaLee\\\\Anaconda3\\\\envs\\\\cv\\\\lib\\\\json\\\\__init__.py'>, 'autopep8': <module 'autopep8' from 'C:\\\\Users\\\\SeunghaLee\\\\Anaconda3\\\\envs\\\\cv\\\\lib\\\\site-packages\\\\autopep8.py'>, '_i': \"# ex7\\nprint('ex7 > ', globals())\", '_ii': \"# ex7\\nprint('ex7 > ' globals())\", '_iii': \"# ex6\\n\\ndef func(var):\\n    x = 10\\n    def printer():\\n        print('ex6 > ', 'Printer func inner')\\n        \\n    print('func inner', locals())\\n    \\nfunc('hi')\", '_i1': \"a = 10 # Global variable\\n\\ndef foo():\\n    # Read global variable\\n    \\n    print('Ex1 > ' , a)\\n\\nfoo()\", 'a': 10, 'foo': <function foo at 0x0000023EDBAFF280>, '_i2': \"b = 20\\n\\ndef bar():\\n    \\n    b = 30\\n    print('EX2 > ', b)\\n    \\nbar()\", 'b': 20, 'bar': <function bar at 0x0000023EDC6120D0>, '_i3': \"b = 20\\n\\ndef bar():\\n    \\n    b = 30\\n    print('ex2 > ', b)\\n    \\nbar()\", '_i4': \"b = 20\\n\\ndef bar():\\n    \\n    b = 30\\n    print('ex2 > ', b)\\n    \\nbar()\", '_i5': \"a = 10 # Global variable\\n\\ndef foo():\\n    # Read global variable\\n    \\n    print('ex1 > ' , a)\\n\\nfoo()\", '_i6': \"a = 10 # Global variable\\n\\ndef foo():\\n  \\n    print('ex1 > ' , a)    # Read global variable\\n\\nfoo()\", '_i7': \"b = 20\\n\\ndef bar():\\n    \\n    b = 30 # Local variable\\n    print('ex2 > ', b) # Read local variable\\n    \\nbar()\", '_i8': \"print('ex 2 > ', b)\", '_i9': \"print('ex 2 > ', b) #  Global scope 안에 변수가 있는지 확인 후 값을 가지고 옴. 없으면 예외\", '_i10': \"# Global scope 안에 변수가 있는지 확인 후 값을 가지고 옴. 없으면 예외 발생 (NameError)\\n\\nprint('ex 2 > ', b)\", '_i11': \"# Global scope 안에 변수가 있는지 확인 후 값을 가지고 옴. 없으면 예외 발생 (NameError)\\nprint('ex 2 > ', b)\", '_i12': \"c = 40\\n\\ndef foobar():\\n    c = c + 10\\n    print('ex 3 >', c)\", 'c': 40, 'foobar': <function foobar at 0x0000023EDC6125E0>, '_i13': \"c = 40\\n\\ndef foobar():\\n    c = c + 10\\n    print('ex 3 >', c)\\n\\nfoobar()\", '_i14': \"b = 20\\n\\ndef bar():\\n    \\n    b = 30 # Local variable\\n    print('ex2 > ', b) # Read local variable\\n    \\nbar()\\n\\n# Global scope 안에 변수가 있는지 확인 후 값을 가지고 옴. 없으면 예외 발생 (NameError)\\nprint('ex 2 > ', b)\", '_i15': \"b = 20\\n\\ndef bar():\\n    \\n    b = 30 # Local variable\\n    print('ex2 > ', b) # Read local variable\\n    \\nbar()\\n\\n# Global scope 안에 변수가 있는지 확인 후 값을 가지고 옴. 없으면 예외 발생 (NameError)\\nprint('ex2 > ', b)\", '_i16': \"c = 40\\n\\ndef foobar():\\n    c = c + 10\\n    print('ex 3 >', c)\\n\\nfoobar()\\n\\n'''\\n- UnboundLocalError, 참조 에러 발생\\n- 전역에 있는 변수를 로컬에서 변경이 가능하나 특정 예약어가 필요\\n'''\", '_i17': \"# ex4\\n\\nd = 50\\n\\ndef foobar():\\n    global d\\n    d = d + 10\\n    print('ex 4 >', d)\\n\\nfoobar()\", 'd': 120, '_i18': \"# ex4\\n'''\\n- 전역 변수는 'global' 선언을 통해서 전역 변수에 있는 것을 로컬에서 사용 가능함\\n- 하지만 global로 선언하는 것은 자제할 필요가 있음. 유지 보수의 어려움\\n'''\\n\\nd = 50\\n\\ndef foobar():\\n    global d\\n    d = d + 10\\n    print('ex 4 >', d)\\n\\nfoobar()\", '_i19': \"# ex4\\n'''\\n- 전역 변수는 'global' 선언을 통해서 전역 변수에 있는 것을 로컬에서 사용 가능함\\n- 하지만 global로 선언하는 것은 자제할 필요가 있음. 유지 보수의 어려움\\n'''\\n\\nd = 50\\n\\ndef foobar():\\n    global d\\n    d = 60\\n    d += 100\\n    print('ex 4 >', d)\\n\\nfoobar()\", '_i20': \"# ex4\\n'''\\n- 전역 변수는 'global' 선언을 통해서 전역 변수에 있는 것을 로컬에서 사용 가능함\\n- 하지만 global로 선언하는 것은 자제할 필요가 있음. 유지 보수의 어려움\\n'''\\n\\nd = 50\\n\\ndef foobar():\\n    global d\\n    d += 100\\n    print('ex 4 >', d)\\n\\nfoobar()\", '_i21': \"# ex4 -1\\n'''\\n- 전역 변수는 'global' 선언을 통해서 전역 변수에 있는 것을 로컬에서 사용 가능함\\n- 하지만 global로 선언하는 것은 자제할 필요가 있음. 유지 보수의 어려움\\n'''\\n\\nd = 50\\n\\ndef foobar():\\n    global d\\n    d = 20\\n    d += 100\\n    print('ex 4 >', d)\\n\\nfoobar()\", '_i22': \"# ex4 -1\\n'''\\n- 전역 변수는 'global' 선언을 통해서 전역 변수에 있는 것을 로컬에서 사용 가능함\\n- 하지만 global로 선언하는 것은 자제할 필요가 있음. 유지 보수의 어려움\\n'''\\n\\nd = 50\\n\\ndef foobar():\\n    global d\\n    d = 20\\n    d += 100\\n    print('ex 4-1 >', d)\\n\\nfoobar()\", '_i23': \"# ex4 -1\\n'''\\n- 전역 변수는 'global' 선언을 통해서 전역 변수에 있는 것을 로컬에서 사용 가능함\\n- 하지만 global로 선언하는 것은 자제할 필요가 있음. 유지 보수의 어려움\\n'''\\n\\nd = 50\\n\\ndef foobar():\\n    global d\\n    d = 20\\n    d += 100\\n    print('ex 4-1 >', d)\\n\\nfoobar()\\n\\nprint('ex 4 >', d)\", '_i24': \"# ex4 -1\\n'''\\n- 전역 변수는 'global' 선언을 통해서 전역 변수에 있는 것을 로컬에서 사용 가능함\\n- 하지만 global로 선언하는 것은 자제할 필요가 있음. 유지 보수의 어려움\\n'''\\n\\nd = 50\\n\\ndef foobar():\\n    global d\\n    d = 20\\n    d += 100\\n    print('ex 4-1 >', d)\\n\\nfoobar()\\n\\nprint('ex 4-1 >', d)\", '_i25': \"# ex5\\n\\ndef outer():\\n    e = 70\\n    \\n    def inner():\\n        e += 10 # e = e + 10\\n        print('ex5 >', e)\", 'outer': <function outer at 0x0000023EDC1BA0D0>, '_i26': \"# ex5\\n\\ndef outer():\\n    e = 70\\n    \\n    def inner():\\n        e += 10 # e = e + 10\\n        print('ex5 >', e)\\n    return inner\", '_i27': \"# ex5\\n\\ndef outer():\\n    e = 70\\n    \\n    def inner():\\n        e += 10 # e = e + 10\\n        print('ex5 >', e)\\n    return inner\\n\\nouter()\", '_27': <function outer.<locals>.inner at 0x0000023EDBB5BE50>, '_i28': \"# ex5\\n\\ndef outer():\\n    e = 70\\n    \\n    def inner():\\n        e += 10 # e = e + 10\\n        print('ex5 >', e)\\n    \\n    return inner\\n\\nouter()\", '_28': <function outer.<locals>.inner at 0x0000023EDBB5BB80>, '_i29': \"# ex5 - Closure\\n\\ndef outer():\\n    e = 70\\n    \\n    # outer 하위에 있는 지역 변수\\n    def inner():\\n        e += 10 # e = e + 10\\n        print('ex5 >', e)\\n    \\n    return inner\\n\\nin_test = outer()\\nin_test\", 'in_test': <function outer.<locals>.inner at 0x0000023EDC1BA670>, '_29': <function outer.<locals>.inner at 0x0000023EDC612CA0>, '_i30': \"# ex5 - Closure\\n\\ndef outer():\\n    e = 70\\n    # outer 하위에 있는 지역 변수\\n    def inner():\\n        e += 10 # e = e + 10\\n        print('ex5 >', e)\\n    \\n    return inner\\n\\nin_test = outer()\\nin_test\", '_30': <function outer.<locals>.inner at 0x0000023EDBB5B820>, '_i31': \"# ex5-1 - Closure\\n\\ndef outer():\\n    e = 70\\n    # outer 하위에 있는 지역 변수\\n    def inner():\\n        nonlocal e\\n        e += 10 # e = e + 10\\n        print('ex5 >', e)\\n    \\n    return inner\\n\\nin_test = outer()\\nin_test\", '_31': <function outer.<locals>.inner at 0x0000023EDC1BAE50>, '_i32': \"# ex5 - Closure\\n\\ndef outer():\\n    e = 70\\n    # outer 하위에 있는 지역 변수\\n    def inner():\\n        e += 10 # e = e + 10\\n        print('ex5 >', e)\\n    \\n    return inner\\n\\nin_test = outer()\\nin_test()\", '_i33': \"# ex5-1 - Closure\\n\\ndef outer():\\n    e = 70\\n    # outer 하위에 있는 지역 변수\\n    def inner():\\n        nonlocal e # 하나의 함수를 만들어 놓고, 변수의 수를 아끼고, 사용하기 쉽게 만들기 위해서\\n        e += 10 # e = e + 10\\n        print('ex5 >', e)\\n    \\n    return inner\\n\\nin_test = outer()\\nin_test()\", '_i34': \"# ex5-1 - Closure\\n'''\\nnonlocal \\n- 하나의 함수를 만들어 놓고, 효율적으로 운영 가능\\n- 변수의 수를 아끼고, 모듈화를 통해서 사용하기 쉽게 만들기 위함\\n'''\\ndef outer():\\n    e = 70\\n    # outer 하위에 있는 지역 변수\\n    def inner():\\n        nonlocal e \\n        e += 10 # e = e + 10\\n        print('ex5 >', e)\\n    \\n    return inner\\n\\nin_test = outer()\\nin_test()\", '_i35': \"# ex5-1 - Closure\\n'''\\nnonlocal \\n- 하나의 함수를 만들어 놓고, 효율적으로 운영 가능\\n- 변수의 수를 아끼고, 모듈화를 통해서 사용하기 쉽게 만들기 위함\\n'''\\ndef outer():\\n    e = 70\\n    # outer 하위에 있는 지역 변수\\n    def inner():\\n        nonlocal e \\n        e += 10 # e = e + 10\\n        print('ex5 >', e)\\n    \\n    return inner\\n\\nin_test = outer()\\nin_test()\\nin_test()\\nin_test()\", '_i36': \"# ex5-1 - Closure\\n'''\\nnonlocal \\n- 하나의 함수를 만들어 놓고, 효율적으로 운영 가능\\n- 변수의 수를 아끼고, 모듈화를 통해서 사용하기 쉽게 만들기 위함\\n'''\\ndef outer():\\n    e = 70\\n    # outer 하위에 있는 지역 변수\\n    def inner():\\n        nonlocal e \\n        e += 10 # e = e + 10\\n        print('ex5 >', e)\\n    \\n    return inner\\n\\nin_test = outer()\\nin_test()\\n\\n# closure - generator - coroutine\\nin_test() \\nin_test()\\nin_test()\\nin_test()\", '_i37': \"# ex6\\n\\ndef func(var):\\n    x = 10\\n    def printer():\\n        print('ex6 > ', 'Printer func inner')\\n        \\n    print('func inner', locals())\\n    \\nfunc('hi')\", 'func': <function func at 0x0000023EDC612AF0>, '_i38': \"# ex7\\nprint('ex7 > ' globals())\", '_i39': \"# ex7\\nprint('ex7 > ', globals())\", '_i40': \"# ex7\\nprint('ex7 > ', globals())\\ntest_Variable = 100\\nprint('ex7 > ', globals())\"}\n",
      "ex7 >  {'__name__': '__main__', '__doc__': '\\nnonlocal \\n- 하나의 함수를 만들어 놓고, 효율적으로 운영 가능\\n- 변수의 수를 아끼고, 모듈화를 통해서 사용하기 쉽게 만들기 위함\\n', '__package__': None, '__loader__': None, '__spec__': None, '__builtin__': <module 'builtins' (built-in)>, '__builtins__': <module 'builtins' (built-in)>, '_ih': ['', \"a = 10 # Global variable\\n\\ndef foo():\\n    # Read global variable\\n    \\n    print('Ex1 > ' , a)\\n\\nfoo()\", \"b = 20\\n\\ndef bar():\\n    \\n    b = 30\\n    print('EX2 > ', b)\\n    \\nbar()\", \"b = 20\\n\\ndef bar():\\n    \\n    b = 30\\n    print('ex2 > ', b)\\n    \\nbar()\", \"b = 20\\n\\ndef bar():\\n    \\n    b = 30\\n    print('ex2 > ', b)\\n    \\nbar()\", \"a = 10 # Global variable\\n\\ndef foo():\\n    # Read global variable\\n    \\n    print('ex1 > ' , a)\\n\\nfoo()\", \"a = 10 # Global variable\\n\\ndef foo():\\n  \\n    print('ex1 > ' , a)    # Read global variable\\n\\nfoo()\", \"b = 20\\n\\ndef bar():\\n    \\n    b = 30 # Local variable\\n    print('ex2 > ', b) # Read local variable\\n    \\nbar()\", \"print('ex 2 > ', b)\", \"print('ex 2 > ', b) #  Global scope 안에 변수가 있는지 확인 후 값을 가지고 옴. 없으면 예외\", \"# Global scope 안에 변수가 있는지 확인 후 값을 가지고 옴. 없으면 예외 발생 (NameError)\\n\\nprint('ex 2 > ', b)\", \"# Global scope 안에 변수가 있는지 확인 후 값을 가지고 옴. 없으면 예외 발생 (NameError)\\nprint('ex 2 > ', b)\", \"c = 40\\n\\ndef foobar():\\n    c = c + 10\\n    print('ex 3 >', c)\", \"c = 40\\n\\ndef foobar():\\n    c = c + 10\\n    print('ex 3 >', c)\\n\\nfoobar()\", \"b = 20\\n\\ndef bar():\\n    \\n    b = 30 # Local variable\\n    print('ex2 > ', b) # Read local variable\\n    \\nbar()\\n\\n# Global scope 안에 변수가 있는지 확인 후 값을 가지고 옴. 없으면 예외 발생 (NameError)\\nprint('ex 2 > ', b)\", \"b = 20\\n\\ndef bar():\\n    \\n    b = 30 # Local variable\\n    print('ex2 > ', b) # Read local variable\\n    \\nbar()\\n\\n# Global scope 안에 변수가 있는지 확인 후 값을 가지고 옴. 없으면 예외 발생 (NameError)\\nprint('ex2 > ', b)\", \"c = 40\\n\\ndef foobar():\\n    c = c + 10\\n    print('ex 3 >', c)\\n\\nfoobar()\\n\\n'''\\n- UnboundLocalError, 참조 에러 발생\\n- 전역에 있는 변수를 로컬에서 변경이 가능하나 특정 예약어가 필요\\n'''\", \"# ex4\\n\\nd = 50\\n\\ndef foobar():\\n    global d\\n    d = d + 10\\n    print('ex 4 >', d)\\n\\nfoobar()\", \"# ex4\\n'''\\n- 전역 변수는 'global' 선언을 통해서 전역 변수에 있는 것을 로컬에서 사용 가능함\\n- 하지만 global로 선언하는 것은 자제할 필요가 있음. 유지 보수의 어려움\\n'''\\n\\nd = 50\\n\\ndef foobar():\\n    global d\\n    d = d + 10\\n    print('ex 4 >', d)\\n\\nfoobar()\", \"# ex4\\n'''\\n- 전역 변수는 'global' 선언을 통해서 전역 변수에 있는 것을 로컬에서 사용 가능함\\n- 하지만 global로 선언하는 것은 자제할 필요가 있음. 유지 보수의 어려움\\n'''\\n\\nd = 50\\n\\ndef foobar():\\n    global d\\n    d = 60\\n    d += 100\\n    print('ex 4 >', d)\\n\\nfoobar()\", \"# ex4\\n'''\\n- 전역 변수는 'global' 선언을 통해서 전역 변수에 있는 것을 로컬에서 사용 가능함\\n- 하지만 global로 선언하는 것은 자제할 필요가 있음. 유지 보수의 어려움\\n'''\\n\\nd = 50\\n\\ndef foobar():\\n    global d\\n    d += 100\\n    print('ex 4 >', d)\\n\\nfoobar()\", \"# ex4 -1\\n'''\\n- 전역 변수는 'global' 선언을 통해서 전역 변수에 있는 것을 로컬에서 사용 가능함\\n- 하지만 global로 선언하는 것은 자제할 필요가 있음. 유지 보수의 어려움\\n'''\\n\\nd = 50\\n\\ndef foobar():\\n    global d\\n    d = 20\\n    d += 100\\n    print('ex 4 >', d)\\n\\nfoobar()\", \"# ex4 -1\\n'''\\n- 전역 변수는 'global' 선언을 통해서 전역 변수에 있는 것을 로컬에서 사용 가능함\\n- 하지만 global로 선언하는 것은 자제할 필요가 있음. 유지 보수의 어려움\\n'''\\n\\nd = 50\\n\\ndef foobar():\\n    global d\\n    d = 20\\n    d += 100\\n    print('ex 4-1 >', d)\\n\\nfoobar()\", \"# ex4 -1\\n'''\\n- 전역 변수는 'global' 선언을 통해서 전역 변수에 있는 것을 로컬에서 사용 가능함\\n- 하지만 global로 선언하는 것은 자제할 필요가 있음. 유지 보수의 어려움\\n'''\\n\\nd = 50\\n\\ndef foobar():\\n    global d\\n    d = 20\\n    d += 100\\n    print('ex 4-1 >', d)\\n\\nfoobar()\\n\\nprint('ex 4 >', d)\", \"# ex4 -1\\n'''\\n- 전역 변수는 'global' 선언을 통해서 전역 변수에 있는 것을 로컬에서 사용 가능함\\n- 하지만 global로 선언하는 것은 자제할 필요가 있음. 유지 보수의 어려움\\n'''\\n\\nd = 50\\n\\ndef foobar():\\n    global d\\n    d = 20\\n    d += 100\\n    print('ex 4-1 >', d)\\n\\nfoobar()\\n\\nprint('ex 4-1 >', d)\", \"# ex5\\n\\ndef outer():\\n    e = 70\\n    \\n    def inner():\\n        e += 10 # e = e + 10\\n        print('ex5 >', e)\", \"# ex5\\n\\ndef outer():\\n    e = 70\\n    \\n    def inner():\\n        e += 10 # e = e + 10\\n        print('ex5 >', e)\\n    return inner\", \"# ex5\\n\\ndef outer():\\n    e = 70\\n    \\n    def inner():\\n        e += 10 # e = e + 10\\n        print('ex5 >', e)\\n    return inner\\n\\nouter()\", \"# ex5\\n\\ndef outer():\\n    e = 70\\n    \\n    def inner():\\n        e += 10 # e = e + 10\\n        print('ex5 >', e)\\n    \\n    return inner\\n\\nouter()\", \"# ex5 - Closure\\n\\ndef outer():\\n    e = 70\\n    \\n    # outer 하위에 있는 지역 변수\\n    def inner():\\n        e += 10 # e = e + 10\\n        print('ex5 >', e)\\n    \\n    return inner\\n\\nin_test = outer()\\nin_test\", \"# ex5 - Closure\\n\\ndef outer():\\n    e = 70\\n    # outer 하위에 있는 지역 변수\\n    def inner():\\n        e += 10 # e = e + 10\\n        print('ex5 >', e)\\n    \\n    return inner\\n\\nin_test = outer()\\nin_test\", \"# ex5-1 - Closure\\n\\ndef outer():\\n    e = 70\\n    # outer 하위에 있는 지역 변수\\n    def inner():\\n        nonlocal e\\n        e += 10 # e = e + 10\\n        print('ex5 >', e)\\n    \\n    return inner\\n\\nin_test = outer()\\nin_test\", \"# ex5 - Closure\\n\\ndef outer():\\n    e = 70\\n    # outer 하위에 있는 지역 변수\\n    def inner():\\n        e += 10 # e = e + 10\\n        print('ex5 >', e)\\n    \\n    return inner\\n\\nin_test = outer()\\nin_test()\", \"# ex5-1 - Closure\\n\\ndef outer():\\n    e = 70\\n    # outer 하위에 있는 지역 변수\\n    def inner():\\n        nonlocal e # 하나의 함수를 만들어 놓고, 변수의 수를 아끼고, 사용하기 쉽게 만들기 위해서\\n        e += 10 # e = e + 10\\n        print('ex5 >', e)\\n    \\n    return inner\\n\\nin_test = outer()\\nin_test()\", \"# ex5-1 - Closure\\n'''\\nnonlocal \\n- 하나의 함수를 만들어 놓고, 효율적으로 운영 가능\\n- 변수의 수를 아끼고, 모듈화를 통해서 사용하기 쉽게 만들기 위함\\n'''\\ndef outer():\\n    e = 70\\n    # outer 하위에 있는 지역 변수\\n    def inner():\\n        nonlocal e \\n        e += 10 # e = e + 10\\n        print('ex5 >', e)\\n    \\n    return inner\\n\\nin_test = outer()\\nin_test()\", \"# ex5-1 - Closure\\n'''\\nnonlocal \\n- 하나의 함수를 만들어 놓고, 효율적으로 운영 가능\\n- 변수의 수를 아끼고, 모듈화를 통해서 사용하기 쉽게 만들기 위함\\n'''\\ndef outer():\\n    e = 70\\n    # outer 하위에 있는 지역 변수\\n    def inner():\\n        nonlocal e \\n        e += 10 # e = e + 10\\n        print('ex5 >', e)\\n    \\n    return inner\\n\\nin_test = outer()\\nin_test()\\nin_test()\\nin_test()\", \"# ex5-1 - Closure\\n'''\\nnonlocal \\n- 하나의 함수를 만들어 놓고, 효율적으로 운영 가능\\n- 변수의 수를 아끼고, 모듈화를 통해서 사용하기 쉽게 만들기 위함\\n'''\\ndef outer():\\n    e = 70\\n    # outer 하위에 있는 지역 변수\\n    def inner():\\n        nonlocal e \\n        e += 10 # e = e + 10\\n        print('ex5 >', e)\\n    \\n    return inner\\n\\nin_test = outer()\\nin_test()\\n\\n# closure - generator - coroutine\\nin_test() \\nin_test()\\nin_test()\\nin_test()\", \"# ex6\\n\\ndef func(var):\\n    x = 10\\n    def printer():\\n        print('ex6 > ', 'Printer func inner')\\n        \\n    print('func inner', locals())\\n    \\nfunc('hi')\", \"# ex7\\nprint('ex7 > ' globals())\", \"# ex7\\nprint('ex7 > ', globals())\", \"# ex7\\nprint('ex7 > ', globals())\\ntest_Variable = 100\\nprint('ex7 > ', globals())\"], '_oh': {27: <function outer.<locals>.inner at 0x0000023EDBB5BE50>, 28: <function outer.<locals>.inner at 0x0000023EDBB5BB80>, 29: <function outer.<locals>.inner at 0x0000023EDC612CA0>, 30: <function outer.<locals>.inner at 0x0000023EDBB5B820>, 31: <function outer.<locals>.inner at 0x0000023EDC1BAE50>}, '_dh': ['D:\\\\Project\\\\FluentPython\\\\python_advanced'], 'In': ['', \"a = 10 # Global variable\\n\\ndef foo():\\n    # Read global variable\\n    \\n    print('Ex1 > ' , a)\\n\\nfoo()\", \"b = 20\\n\\ndef bar():\\n    \\n    b = 30\\n    print('EX2 > ', b)\\n    \\nbar()\", \"b = 20\\n\\ndef bar():\\n    \\n    b = 30\\n    print('ex2 > ', b)\\n    \\nbar()\", \"b = 20\\n\\ndef bar():\\n    \\n    b = 30\\n    print('ex2 > ', b)\\n    \\nbar()\", \"a = 10 # Global variable\\n\\ndef foo():\\n    # Read global variable\\n    \\n    print('ex1 > ' , a)\\n\\nfoo()\", \"a = 10 # Global variable\\n\\ndef foo():\\n  \\n    print('ex1 > ' , a)    # Read global variable\\n\\nfoo()\", \"b = 20\\n\\ndef bar():\\n    \\n    b = 30 # Local variable\\n    print('ex2 > ', b) # Read local variable\\n    \\nbar()\", \"print('ex 2 > ', b)\", \"print('ex 2 > ', b) #  Global scope 안에 변수가 있는지 확인 후 값을 가지고 옴. 없으면 예외\", \"# Global scope 안에 변수가 있는지 확인 후 값을 가지고 옴. 없으면 예외 발생 (NameError)\\n\\nprint('ex 2 > ', b)\", \"# Global scope 안에 변수가 있는지 확인 후 값을 가지고 옴. 없으면 예외 발생 (NameError)\\nprint('ex 2 > ', b)\", \"c = 40\\n\\ndef foobar():\\n    c = c + 10\\n    print('ex 3 >', c)\", \"c = 40\\n\\ndef foobar():\\n    c = c + 10\\n    print('ex 3 >', c)\\n\\nfoobar()\", \"b = 20\\n\\ndef bar():\\n    \\n    b = 30 # Local variable\\n    print('ex2 > ', b) # Read local variable\\n    \\nbar()\\n\\n# Global scope 안에 변수가 있는지 확인 후 값을 가지고 옴. 없으면 예외 발생 (NameError)\\nprint('ex 2 > ', b)\", \"b = 20\\n\\ndef bar():\\n    \\n    b = 30 # Local variable\\n    print('ex2 > ', b) # Read local variable\\n    \\nbar()\\n\\n# Global scope 안에 변수가 있는지 확인 후 값을 가지고 옴. 없으면 예외 발생 (NameError)\\nprint('ex2 > ', b)\", \"c = 40\\n\\ndef foobar():\\n    c = c + 10\\n    print('ex 3 >', c)\\n\\nfoobar()\\n\\n'''\\n- UnboundLocalError, 참조 에러 발생\\n- 전역에 있는 변수를 로컬에서 변경이 가능하나 특정 예약어가 필요\\n'''\", \"# ex4\\n\\nd = 50\\n\\ndef foobar():\\n    global d\\n    d = d + 10\\n    print('ex 4 >', d)\\n\\nfoobar()\", \"# ex4\\n'''\\n- 전역 변수는 'global' 선언을 통해서 전역 변수에 있는 것을 로컬에서 사용 가능함\\n- 하지만 global로 선언하는 것은 자제할 필요가 있음. 유지 보수의 어려움\\n'''\\n\\nd = 50\\n\\ndef foobar():\\n    global d\\n    d = d + 10\\n    print('ex 4 >', d)\\n\\nfoobar()\", \"# ex4\\n'''\\n- 전역 변수는 'global' 선언을 통해서 전역 변수에 있는 것을 로컬에서 사용 가능함\\n- 하지만 global로 선언하는 것은 자제할 필요가 있음. 유지 보수의 어려움\\n'''\\n\\nd = 50\\n\\ndef foobar():\\n    global d\\n    d = 60\\n    d += 100\\n    print('ex 4 >', d)\\n\\nfoobar()\", \"# ex4\\n'''\\n- 전역 변수는 'global' 선언을 통해서 전역 변수에 있는 것을 로컬에서 사용 가능함\\n- 하지만 global로 선언하는 것은 자제할 필요가 있음. 유지 보수의 어려움\\n'''\\n\\nd = 50\\n\\ndef foobar():\\n    global d\\n    d += 100\\n    print('ex 4 >', d)\\n\\nfoobar()\", \"# ex4 -1\\n'''\\n- 전역 변수는 'global' 선언을 통해서 전역 변수에 있는 것을 로컬에서 사용 가능함\\n- 하지만 global로 선언하는 것은 자제할 필요가 있음. 유지 보수의 어려움\\n'''\\n\\nd = 50\\n\\ndef foobar():\\n    global d\\n    d = 20\\n    d += 100\\n    print('ex 4 >', d)\\n\\nfoobar()\", \"# ex4 -1\\n'''\\n- 전역 변수는 'global' 선언을 통해서 전역 변수에 있는 것을 로컬에서 사용 가능함\\n- 하지만 global로 선언하는 것은 자제할 필요가 있음. 유지 보수의 어려움\\n'''\\n\\nd = 50\\n\\ndef foobar():\\n    global d\\n    d = 20\\n    d += 100\\n    print('ex 4-1 >', d)\\n\\nfoobar()\", \"# ex4 -1\\n'''\\n- 전역 변수는 'global' 선언을 통해서 전역 변수에 있는 것을 로컬에서 사용 가능함\\n- 하지만 global로 선언하는 것은 자제할 필요가 있음. 유지 보수의 어려움\\n'''\\n\\nd = 50\\n\\ndef foobar():\\n    global d\\n    d = 20\\n    d += 100\\n    print('ex 4-1 >', d)\\n\\nfoobar()\\n\\nprint('ex 4 >', d)\", \"# ex4 -1\\n'''\\n- 전역 변수는 'global' 선언을 통해서 전역 변수에 있는 것을 로컬에서 사용 가능함\\n- 하지만 global로 선언하는 것은 자제할 필요가 있음. 유지 보수의 어려움\\n'''\\n\\nd = 50\\n\\ndef foobar():\\n    global d\\n    d = 20\\n    d += 100\\n    print('ex 4-1 >', d)\\n\\nfoobar()\\n\\nprint('ex 4-1 >', d)\", \"# ex5\\n\\ndef outer():\\n    e = 70\\n    \\n    def inner():\\n        e += 10 # e = e + 10\\n        print('ex5 >', e)\", \"# ex5\\n\\ndef outer():\\n    e = 70\\n    \\n    def inner():\\n        e += 10 # e = e + 10\\n        print('ex5 >', e)\\n    return inner\", \"# ex5\\n\\ndef outer():\\n    e = 70\\n    \\n    def inner():\\n        e += 10 # e = e + 10\\n        print('ex5 >', e)\\n    return inner\\n\\nouter()\", \"# ex5\\n\\ndef outer():\\n    e = 70\\n    \\n    def inner():\\n        e += 10 # e = e + 10\\n        print('ex5 >', e)\\n    \\n    return inner\\n\\nouter()\", \"# ex5 - Closure\\n\\ndef outer():\\n    e = 70\\n    \\n    # outer 하위에 있는 지역 변수\\n    def inner():\\n        e += 10 # e = e + 10\\n        print('ex5 >', e)\\n    \\n    return inner\\n\\nin_test = outer()\\nin_test\", \"# ex5 - Closure\\n\\ndef outer():\\n    e = 70\\n    # outer 하위에 있는 지역 변수\\n    def inner():\\n        e += 10 # e = e + 10\\n        print('ex5 >', e)\\n    \\n    return inner\\n\\nin_test = outer()\\nin_test\", \"# ex5-1 - Closure\\n\\ndef outer():\\n    e = 70\\n    # outer 하위에 있는 지역 변수\\n    def inner():\\n        nonlocal e\\n        e += 10 # e = e + 10\\n        print('ex5 >', e)\\n    \\n    return inner\\n\\nin_test = outer()\\nin_test\", \"# ex5 - Closure\\n\\ndef outer():\\n    e = 70\\n    # outer 하위에 있는 지역 변수\\n    def inner():\\n        e += 10 # e = e + 10\\n        print('ex5 >', e)\\n    \\n    return inner\\n\\nin_test = outer()\\nin_test()\", \"# ex5-1 - Closure\\n\\ndef outer():\\n    e = 70\\n    # outer 하위에 있는 지역 변수\\n    def inner():\\n        nonlocal e # 하나의 함수를 만들어 놓고, 변수의 수를 아끼고, 사용하기 쉽게 만들기 위해서\\n        e += 10 # e = e + 10\\n        print('ex5 >', e)\\n    \\n    return inner\\n\\nin_test = outer()\\nin_test()\", \"# ex5-1 - Closure\\n'''\\nnonlocal \\n- 하나의 함수를 만들어 놓고, 효율적으로 운영 가능\\n- 변수의 수를 아끼고, 모듈화를 통해서 사용하기 쉽게 만들기 위함\\n'''\\ndef outer():\\n    e = 70\\n    # outer 하위에 있는 지역 변수\\n    def inner():\\n        nonlocal e \\n        e += 10 # e = e + 10\\n        print('ex5 >', e)\\n    \\n    return inner\\n\\nin_test = outer()\\nin_test()\", \"# ex5-1 - Closure\\n'''\\nnonlocal \\n- 하나의 함수를 만들어 놓고, 효율적으로 운영 가능\\n- 변수의 수를 아끼고, 모듈화를 통해서 사용하기 쉽게 만들기 위함\\n'''\\ndef outer():\\n    e = 70\\n    # outer 하위에 있는 지역 변수\\n    def inner():\\n        nonlocal e \\n        e += 10 # e = e + 10\\n        print('ex5 >', e)\\n    \\n    return inner\\n\\nin_test = outer()\\nin_test()\\nin_test()\\nin_test()\", \"# ex5-1 - Closure\\n'''\\nnonlocal \\n- 하나의 함수를 만들어 놓고, 효율적으로 운영 가능\\n- 변수의 수를 아끼고, 모듈화를 통해서 사용하기 쉽게 만들기 위함\\n'''\\ndef outer():\\n    e = 70\\n    # outer 하위에 있는 지역 변수\\n    def inner():\\n        nonlocal e \\n        e += 10 # e = e + 10\\n        print('ex5 >', e)\\n    \\n    return inner\\n\\nin_test = outer()\\nin_test()\\n\\n# closure - generator - coroutine\\nin_test() \\nin_test()\\nin_test()\\nin_test()\", \"# ex6\\n\\ndef func(var):\\n    x = 10\\n    def printer():\\n        print('ex6 > ', 'Printer func inner')\\n        \\n    print('func inner', locals())\\n    \\nfunc('hi')\", \"# ex7\\nprint('ex7 > ' globals())\", \"# ex7\\nprint('ex7 > ', globals())\", \"# ex7\\nprint('ex7 > ', globals())\\ntest_Variable = 100\\nprint('ex7 > ', globals())\"], 'Out': {27: <function outer.<locals>.inner at 0x0000023EDBB5BE50>, 28: <function outer.<locals>.inner at 0x0000023EDBB5BB80>, 29: <function outer.<locals>.inner at 0x0000023EDC612CA0>, 30: <function outer.<locals>.inner at 0x0000023EDBB5B820>, 31: <function outer.<locals>.inner at 0x0000023EDC1BAE50>}, 'get_ipython': <bound method InteractiveShell.get_ipython of <ipykernel.zmqshell.ZMQInteractiveShell object at 0x0000023EDA8CF040>>, 'exit': <IPython.core.autocall.ZMQExitAutocall object at 0x0000023EDA8CFC70>, 'quit': <IPython.core.autocall.ZMQExitAutocall object at 0x0000023EDA8CFC70>, '_': <function outer.<locals>.inner at 0x0000023EDC1BAE50>, '__': <function outer.<locals>.inner at 0x0000023EDBB5B820>, '___': <function outer.<locals>.inner at 0x0000023EDC612CA0>, 'json': <module 'json' from 'C:\\\\Users\\\\SeunghaLee\\\\Anaconda3\\\\envs\\\\cv\\\\lib\\\\json\\\\__init__.py'>, 'autopep8': <module 'autopep8' from 'C:\\\\Users\\\\SeunghaLee\\\\Anaconda3\\\\envs\\\\cv\\\\lib\\\\site-packages\\\\autopep8.py'>, '_i': \"# ex7\\nprint('ex7 > ', globals())\", '_ii': \"# ex7\\nprint('ex7 > ' globals())\", '_iii': \"# ex6\\n\\ndef func(var):\\n    x = 10\\n    def printer():\\n        print('ex6 > ', 'Printer func inner')\\n        \\n    print('func inner', locals())\\n    \\nfunc('hi')\", '_i1': \"a = 10 # Global variable\\n\\ndef foo():\\n    # Read global variable\\n    \\n    print('Ex1 > ' , a)\\n\\nfoo()\", 'a': 10, 'foo': <function foo at 0x0000023EDBAFF280>, '_i2': \"b = 20\\n\\ndef bar():\\n    \\n    b = 30\\n    print('EX2 > ', b)\\n    \\nbar()\", 'b': 20, 'bar': <function bar at 0x0000023EDC6120D0>, '_i3': \"b = 20\\n\\ndef bar():\\n    \\n    b = 30\\n    print('ex2 > ', b)\\n    \\nbar()\", '_i4': \"b = 20\\n\\ndef bar():\\n    \\n    b = 30\\n    print('ex2 > ', b)\\n    \\nbar()\", '_i5': \"a = 10 # Global variable\\n\\ndef foo():\\n    # Read global variable\\n    \\n    print('ex1 > ' , a)\\n\\nfoo()\", '_i6': \"a = 10 # Global variable\\n\\ndef foo():\\n  \\n    print('ex1 > ' , a)    # Read global variable\\n\\nfoo()\", '_i7': \"b = 20\\n\\ndef bar():\\n    \\n    b = 30 # Local variable\\n    print('ex2 > ', b) # Read local variable\\n    \\nbar()\", '_i8': \"print('ex 2 > ', b)\", '_i9': \"print('ex 2 > ', b) #  Global scope 안에 변수가 있는지 확인 후 값을 가지고 옴. 없으면 예외\", '_i10': \"# Global scope 안에 변수가 있는지 확인 후 값을 가지고 옴. 없으면 예외 발생 (NameError)\\n\\nprint('ex 2 > ', b)\", '_i11': \"# Global scope 안에 변수가 있는지 확인 후 값을 가지고 옴. 없으면 예외 발생 (NameError)\\nprint('ex 2 > ', b)\", '_i12': \"c = 40\\n\\ndef foobar():\\n    c = c + 10\\n    print('ex 3 >', c)\", 'c': 40, 'foobar': <function foobar at 0x0000023EDC6125E0>, '_i13': \"c = 40\\n\\ndef foobar():\\n    c = c + 10\\n    print('ex 3 >', c)\\n\\nfoobar()\", '_i14': \"b = 20\\n\\ndef bar():\\n    \\n    b = 30 # Local variable\\n    print('ex2 > ', b) # Read local variable\\n    \\nbar()\\n\\n# Global scope 안에 변수가 있는지 확인 후 값을 가지고 옴. 없으면 예외 발생 (NameError)\\nprint('ex 2 > ', b)\", '_i15': \"b = 20\\n\\ndef bar():\\n    \\n    b = 30 # Local variable\\n    print('ex2 > ', b) # Read local variable\\n    \\nbar()\\n\\n# Global scope 안에 변수가 있는지 확인 후 값을 가지고 옴. 없으면 예외 발생 (NameError)\\nprint('ex2 > ', b)\", '_i16': \"c = 40\\n\\ndef foobar():\\n    c = c + 10\\n    print('ex 3 >', c)\\n\\nfoobar()\\n\\n'''\\n- UnboundLocalError, 참조 에러 발생\\n- 전역에 있는 변수를 로컬에서 변경이 가능하나 특정 예약어가 필요\\n'''\", '_i17': \"# ex4\\n\\nd = 50\\n\\ndef foobar():\\n    global d\\n    d = d + 10\\n    print('ex 4 >', d)\\n\\nfoobar()\", 'd': 120, '_i18': \"# ex4\\n'''\\n- 전역 변수는 'global' 선언을 통해서 전역 변수에 있는 것을 로컬에서 사용 가능함\\n- 하지만 global로 선언하는 것은 자제할 필요가 있음. 유지 보수의 어려움\\n'''\\n\\nd = 50\\n\\ndef foobar():\\n    global d\\n    d = d + 10\\n    print('ex 4 >', d)\\n\\nfoobar()\", '_i19': \"# ex4\\n'''\\n- 전역 변수는 'global' 선언을 통해서 전역 변수에 있는 것을 로컬에서 사용 가능함\\n- 하지만 global로 선언하는 것은 자제할 필요가 있음. 유지 보수의 어려움\\n'''\\n\\nd = 50\\n\\ndef foobar():\\n    global d\\n    d = 60\\n    d += 100\\n    print('ex 4 >', d)\\n\\nfoobar()\", '_i20': \"# ex4\\n'''\\n- 전역 변수는 'global' 선언을 통해서 전역 변수에 있는 것을 로컬에서 사용 가능함\\n- 하지만 global로 선언하는 것은 자제할 필요가 있음. 유지 보수의 어려움\\n'''\\n\\nd = 50\\n\\ndef foobar():\\n    global d\\n    d += 100\\n    print('ex 4 >', d)\\n\\nfoobar()\", '_i21': \"# ex4 -1\\n'''\\n- 전역 변수는 'global' 선언을 통해서 전역 변수에 있는 것을 로컬에서 사용 가능함\\n- 하지만 global로 선언하는 것은 자제할 필요가 있음. 유지 보수의 어려움\\n'''\\n\\nd = 50\\n\\ndef foobar():\\n    global d\\n    d = 20\\n    d += 100\\n    print('ex 4 >', d)\\n\\nfoobar()\", '_i22': \"# ex4 -1\\n'''\\n- 전역 변수는 'global' 선언을 통해서 전역 변수에 있는 것을 로컬에서 사용 가능함\\n- 하지만 global로 선언하는 것은 자제할 필요가 있음. 유지 보수의 어려움\\n'''\\n\\nd = 50\\n\\ndef foobar():\\n    global d\\n    d = 20\\n    d += 100\\n    print('ex 4-1 >', d)\\n\\nfoobar()\", '_i23': \"# ex4 -1\\n'''\\n- 전역 변수는 'global' 선언을 통해서 전역 변수에 있는 것을 로컬에서 사용 가능함\\n- 하지만 global로 선언하는 것은 자제할 필요가 있음. 유지 보수의 어려움\\n'''\\n\\nd = 50\\n\\ndef foobar():\\n    global d\\n    d = 20\\n    d += 100\\n    print('ex 4-1 >', d)\\n\\nfoobar()\\n\\nprint('ex 4 >', d)\", '_i24': \"# ex4 -1\\n'''\\n- 전역 변수는 'global' 선언을 통해서 전역 변수에 있는 것을 로컬에서 사용 가능함\\n- 하지만 global로 선언하는 것은 자제할 필요가 있음. 유지 보수의 어려움\\n'''\\n\\nd = 50\\n\\ndef foobar():\\n    global d\\n    d = 20\\n    d += 100\\n    print('ex 4-1 >', d)\\n\\nfoobar()\\n\\nprint('ex 4-1 >', d)\", '_i25': \"# ex5\\n\\ndef outer():\\n    e = 70\\n    \\n    def inner():\\n        e += 10 # e = e + 10\\n        print('ex5 >', e)\", 'outer': <function outer at 0x0000023EDC1BA0D0>, '_i26': \"# ex5\\n\\ndef outer():\\n    e = 70\\n    \\n    def inner():\\n        e += 10 # e = e + 10\\n        print('ex5 >', e)\\n    return inner\", '_i27': \"# ex5\\n\\ndef outer():\\n    e = 70\\n    \\n    def inner():\\n        e += 10 # e = e + 10\\n        print('ex5 >', e)\\n    return inner\\n\\nouter()\", '_27': <function outer.<locals>.inner at 0x0000023EDBB5BE50>, '_i28': \"# ex5\\n\\ndef outer():\\n    e = 70\\n    \\n    def inner():\\n        e += 10 # e = e + 10\\n        print('ex5 >', e)\\n    \\n    return inner\\n\\nouter()\", '_28': <function outer.<locals>.inner at 0x0000023EDBB5BB80>, '_i29': \"# ex5 - Closure\\n\\ndef outer():\\n    e = 70\\n    \\n    # outer 하위에 있는 지역 변수\\n    def inner():\\n        e += 10 # e = e + 10\\n        print('ex5 >', e)\\n    \\n    return inner\\n\\nin_test = outer()\\nin_test\", 'in_test': <function outer.<locals>.inner at 0x0000023EDC1BA670>, '_29': <function outer.<locals>.inner at 0x0000023EDC612CA0>, '_i30': \"# ex5 - Closure\\n\\ndef outer():\\n    e = 70\\n    # outer 하위에 있는 지역 변수\\n    def inner():\\n        e += 10 # e = e + 10\\n        print('ex5 >', e)\\n    \\n    return inner\\n\\nin_test = outer()\\nin_test\", '_30': <function outer.<locals>.inner at 0x0000023EDBB5B820>, '_i31': \"# ex5-1 - Closure\\n\\ndef outer():\\n    e = 70\\n    # outer 하위에 있는 지역 변수\\n    def inner():\\n        nonlocal e\\n        e += 10 # e = e + 10\\n        print('ex5 >', e)\\n    \\n    return inner\\n\\nin_test = outer()\\nin_test\", '_31': <function outer.<locals>.inner at 0x0000023EDC1BAE50>, '_i32': \"# ex5 - Closure\\n\\ndef outer():\\n    e = 70\\n    # outer 하위에 있는 지역 변수\\n    def inner():\\n        e += 10 # e = e + 10\\n        print('ex5 >', e)\\n    \\n    return inner\\n\\nin_test = outer()\\nin_test()\", '_i33': \"# ex5-1 - Closure\\n\\ndef outer():\\n    e = 70\\n    # outer 하위에 있는 지역 변수\\n    def inner():\\n        nonlocal e # 하나의 함수를 만들어 놓고, 변수의 수를 아끼고, 사용하기 쉽게 만들기 위해서\\n        e += 10 # e = e + 10\\n        print('ex5 >', e)\\n    \\n    return inner\\n\\nin_test = outer()\\nin_test()\", '_i34': \"# ex5-1 - Closure\\n'''\\nnonlocal \\n- 하나의 함수를 만들어 놓고, 효율적으로 운영 가능\\n- 변수의 수를 아끼고, 모듈화를 통해서 사용하기 쉽게 만들기 위함\\n'''\\ndef outer():\\n    e = 70\\n    # outer 하위에 있는 지역 변수\\n    def inner():\\n        nonlocal e \\n        e += 10 # e = e + 10\\n        print('ex5 >', e)\\n    \\n    return inner\\n\\nin_test = outer()\\nin_test()\", '_i35': \"# ex5-1 - Closure\\n'''\\nnonlocal \\n- 하나의 함수를 만들어 놓고, 효율적으로 운영 가능\\n- 변수의 수를 아끼고, 모듈화를 통해서 사용하기 쉽게 만들기 위함\\n'''\\ndef outer():\\n    e = 70\\n    # outer 하위에 있는 지역 변수\\n    def inner():\\n        nonlocal e \\n        e += 10 # e = e + 10\\n        print('ex5 >', e)\\n    \\n    return inner\\n\\nin_test = outer()\\nin_test()\\nin_test()\\nin_test()\", '_i36': \"# ex5-1 - Closure\\n'''\\nnonlocal \\n- 하나의 함수를 만들어 놓고, 효율적으로 운영 가능\\n- 변수의 수를 아끼고, 모듈화를 통해서 사용하기 쉽게 만들기 위함\\n'''\\ndef outer():\\n    e = 70\\n    # outer 하위에 있는 지역 변수\\n    def inner():\\n        nonlocal e \\n        e += 10 # e = e + 10\\n        print('ex5 >', e)\\n    \\n    return inner\\n\\nin_test = outer()\\nin_test()\\n\\n# closure - generator - coroutine\\nin_test() \\nin_test()\\nin_test()\\nin_test()\", '_i37': \"# ex6\\n\\ndef func(var):\\n    x = 10\\n    def printer():\\n        print('ex6 > ', 'Printer func inner')\\n        \\n    print('func inner', locals())\\n    \\nfunc('hi')\", 'func': <function func at 0x0000023EDC612AF0>, '_i38': \"# ex7\\nprint('ex7 > ' globals())\", '_i39': \"# ex7\\nprint('ex7 > ', globals())\", '_i40': \"# ex7\\nprint('ex7 > ', globals())\\ntest_Variable = 100\\nprint('ex7 > ', globals())\", 'test_Variable': 100}\n"
     ]
    }
   ],
   "source": [
    "# ex7\n",
    "'''\n",
    "globals() : 전역 전체 출력\n",
    "'''\n",
    "print('ex7 > ', globals())\n",
    "test_Variable = 100\n",
    "print('ex7 > ', globals())"
   ]
  },
  {
   "cell_type": "code",
   "execution_count": 47,
   "id": "3db3dfdc",
   "metadata": {
    "ExecuteTime": {
     "end_time": "2021-12-19T20:14:35.236091Z",
     "start_time": "2021-12-19T20:14:35.219501Z"
    }
   },
   "outputs": [
    {
     "name": "stdout",
     "output_type": "stream",
     "text": [
      "ex8 >  10\n",
      "ex8 >  8\n",
      "ex8 >  3\n"
     ]
    }
   ],
   "source": [
    "# ex8\n",
    "'''\n",
    "변수를 대량으로 만들고 싶을 때\n",
    "지역 -> 변수를 생성\n",
    "'''\n",
    "\n",
    "for i in range(1, 10):\n",
    "    \n",
    "    for k in range(1, 10):\n",
    "        \n",
    "        globals()[f'plus_{i}_{k}'] = i + k\n",
    "        \n",
    "print('ex8 > ', plus_5_5)\n",
    "print('ex8 > ', plus_6_2)\n",
    "print('ex8 > ', plus_1_2)"
   ]
  },
  {
   "cell_type": "code",
   "execution_count": null,
   "id": "3bc537b2",
   "metadata": {},
   "outputs": [],
   "source": []
  }
 ],
 "metadata": {
  "kernelspec": {
   "display_name": "cv",
   "language": "python",
   "name": "cv"
  },
  "language_info": {
   "codemirror_mode": {
    "name": "ipython",
    "version": 3
   },
   "file_extension": ".py",
   "mimetype": "text/x-python",
   "name": "python",
   "nbconvert_exporter": "python",
   "pygments_lexer": "ipython3",
   "version": "3.9.7"
  },
  "toc": {
   "base_numbering": 1,
   "nav_menu": {},
   "number_sections": true,
   "sideBar": true,
   "skip_h1_title": false,
   "title_cell": "Table of Contents",
   "title_sidebar": "Contents",
   "toc_cell": false,
   "toc_position": {},
   "toc_section_display": true,
   "toc_window_display": true
  }
 },
 "nbformat": 4,
 "nbformat_minor": 5
}
